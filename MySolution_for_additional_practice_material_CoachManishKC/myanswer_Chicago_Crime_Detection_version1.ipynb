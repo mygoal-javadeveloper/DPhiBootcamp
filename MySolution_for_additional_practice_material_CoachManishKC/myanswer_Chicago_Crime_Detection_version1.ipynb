{
 "cells": [
  {
   "cell_type": "markdown",
   "metadata": {
    "colab_type": "text",
    "id": "rb0oSzAdUkNg"
   },
   "source": [
    "**Helpful Material:**\n",
    "\n",
    "1) https://www.shanelynn.ie/summarising-aggregation-and-grouping-data-in-python-pandas/\n",
    "\n",
    "2) Helpful function: df.value_counts()\n",
    "\n",
    "**Learning objective**\n",
    "*  EDA\n",
    "*  Getting familiar with datetime operations\n"
   ]
  },
  {
   "cell_type": "code",
   "execution_count": 1,
   "metadata": {
    "colab": {},
    "colab_type": "code",
    "id": "J6GZan3pW0nK"
   },
   "outputs": [],
   "source": [
    "# Loading Libraries\n",
    "import numpy as np\n",
    "import pandas as pd\n",
    "\n",
    "import warnings\n",
    "warnings.filterwarnings(\"ignore\")"
   ]
  },
  {
   "cell_type": "code",
   "execution_count": 2,
   "metadata": {
    "colab": {},
    "colab_type": "code",
    "id": "WMCiv1GOXFh-"
   },
   "outputs": [],
   "source": [
    "chicago_data = pd.read_csv(\"https://raw.githubusercontent.com/dphi-official/Datasets/master/Chicago_Crime_Detective.csv\")"
   ]
  },
  {
   "cell_type": "markdown",
   "metadata": {
    "colab_type": "text",
    "id": "Znsv8OkMkM8h"
   },
   "source": [
    "Use the raw data github link above.\n",
    "\n",
    "Data Columns details:\n",
    "1. ID: a unique identifier for each observation.\n",
    "\n",
    "2. Date: the date the crime occurred.\n",
    "LocationDescription: the location where the crime occurred.\n",
    "\n",
    "3. Arrest: whether or not an arrest was made for the crime (TRUE if an arrest was made, and FALSE if an arrest was not made).\n",
    "\n",
    "4. Domestic: whether or not the crime was a domestic crime, meaning that it was committed against a family member (TRUE if it was domestic, and FALSE if it was not domestic).\n",
    "\n",
    "5. Beat: the area, or \"beat\" in which the crime occurred. This is the smallest regional division defined by the Chicago police department.\n",
    "\n",
    "6. District: the police district in which the crime occured. Each district is composed of many beats, and are defined by the Chicago Police Department.\n",
    "\n",
    "7. CommunityArea: the community area in which the crime occurred. Since the 1920s, Chicago has been divided into what are called \"community areas\", of which there are now 77. The community areas were devised in an attempt to create socially homogeneous regions.\n",
    "\n",
    "8. Year: the year in which the crime occurred.\n",
    "Latitude: the latitude of the location at which the crime occurred."
   ]
  },
  {
   "cell_type": "code",
   "execution_count": 3,
   "metadata": {},
   "outputs": [
    {
     "data": {
      "text/plain": [
       "Index(['Unnamed: 0', 'ID', 'Date', 'LocationDescription', 'Arrest', 'Domestic',\n",
       "       'Beat', 'District', 'CommunityArea', 'Year'],\n",
       "      dtype='object')"
      ]
     },
     "execution_count": 3,
     "metadata": {},
     "output_type": "execute_result"
    }
   ],
   "source": [
    "chicago_data.columns"
   ]
  },
  {
   "cell_type": "code",
   "execution_count": 4,
   "metadata": {},
   "outputs": [
    {
     "data": {
      "text/plain": [
       "0        2012-12-31 23:15:00\n",
       "1        2012-12-31 22:00:00\n",
       "2        2012-12-31 22:00:00\n",
       "3        2012-12-31 22:00:00\n",
       "4        2012-12-31 21:30:00\n",
       "                 ...        \n",
       "191636   2001-01-01 00:05:00\n",
       "191637   2001-01-01 00:01:00\n",
       "191638   2001-01-01 00:01:00\n",
       "191639   2001-01-01 00:01:00\n",
       "191640   2001-01-01 00:01:00\n",
       "Name: formatDate, Length: 191641, dtype: datetime64[ns]"
      ]
     },
     "execution_count": 4,
     "metadata": {},
     "output_type": "execute_result"
    }
   ],
   "source": [
    "chicago_data['formatDate'] = pd.to_datetime(chicago_data['Date'])\n",
    "chicago_data['formatDate']"
   ]
  },
  {
   "cell_type": "code",
   "execution_count": 5,
   "metadata": {},
   "outputs": [
    {
     "data": {
      "text/html": [
       "<div>\n",
       "<style scoped>\n",
       "    .dataframe tbody tr th:only-of-type {\n",
       "        vertical-align: middle;\n",
       "    }\n",
       "\n",
       "    .dataframe tbody tr th {\n",
       "        vertical-align: top;\n",
       "    }\n",
       "\n",
       "    .dataframe thead th {\n",
       "        text-align: right;\n",
       "    }\n",
       "</style>\n",
       "<table border=\"1\" class=\"dataframe\">\n",
       "  <thead>\n",
       "    <tr style=\"text-align: right;\">\n",
       "      <th></th>\n",
       "      <th>Unnamed: 0</th>\n",
       "      <th>ID</th>\n",
       "      <th>Date</th>\n",
       "      <th>LocationDescription</th>\n",
       "      <th>Arrest</th>\n",
       "      <th>Domestic</th>\n",
       "      <th>Beat</th>\n",
       "      <th>District</th>\n",
       "      <th>CommunityArea</th>\n",
       "      <th>Year</th>\n",
       "      <th>formatDate</th>\n",
       "      <th>month</th>\n",
       "      <th>month_year</th>\n",
       "      <th>weekdays</th>\n",
       "    </tr>\n",
       "  </thead>\n",
       "  <tbody>\n",
       "    <tr>\n",
       "      <td>0</td>\n",
       "      <td>0</td>\n",
       "      <td>8951354</td>\n",
       "      <td>12/31/12 23:15</td>\n",
       "      <td>STREET</td>\n",
       "      <td>False</td>\n",
       "      <td>False</td>\n",
       "      <td>623</td>\n",
       "      <td>6</td>\n",
       "      <td>69</td>\n",
       "      <td>2012</td>\n",
       "      <td>2012-12-31 23:15:00</td>\n",
       "      <td>12</td>\n",
       "      <td>2012-12</td>\n",
       "      <td>0</td>\n",
       "    </tr>\n",
       "    <tr>\n",
       "      <td>1</td>\n",
       "      <td>1</td>\n",
       "      <td>8951141</td>\n",
       "      <td>12/31/12 22:00</td>\n",
       "      <td>STREET</td>\n",
       "      <td>False</td>\n",
       "      <td>False</td>\n",
       "      <td>1213</td>\n",
       "      <td>12</td>\n",
       "      <td>24</td>\n",
       "      <td>2012</td>\n",
       "      <td>2012-12-31 22:00:00</td>\n",
       "      <td>12</td>\n",
       "      <td>2012-12</td>\n",
       "      <td>0</td>\n",
       "    </tr>\n",
       "    <tr>\n",
       "      <td>2</td>\n",
       "      <td>2</td>\n",
       "      <td>8952745</td>\n",
       "      <td>12/31/12 22:00</td>\n",
       "      <td>RESIDENTIAL YARD (FRONT/BACK)</td>\n",
       "      <td>False</td>\n",
       "      <td>False</td>\n",
       "      <td>1622</td>\n",
       "      <td>16</td>\n",
       "      <td>11</td>\n",
       "      <td>2012</td>\n",
       "      <td>2012-12-31 22:00:00</td>\n",
       "      <td>12</td>\n",
       "      <td>2012-12</td>\n",
       "      <td>0</td>\n",
       "    </tr>\n",
       "    <tr>\n",
       "      <td>3</td>\n",
       "      <td>3</td>\n",
       "      <td>8952223</td>\n",
       "      <td>12/31/12 22:00</td>\n",
       "      <td>STREET</td>\n",
       "      <td>False</td>\n",
       "      <td>False</td>\n",
       "      <td>724</td>\n",
       "      <td>7</td>\n",
       "      <td>67</td>\n",
       "      <td>2012</td>\n",
       "      <td>2012-12-31 22:00:00</td>\n",
       "      <td>12</td>\n",
       "      <td>2012-12</td>\n",
       "      <td>0</td>\n",
       "    </tr>\n",
       "    <tr>\n",
       "      <td>4</td>\n",
       "      <td>4</td>\n",
       "      <td>8951608</td>\n",
       "      <td>12/31/12 21:30</td>\n",
       "      <td>STREET</td>\n",
       "      <td>False</td>\n",
       "      <td>False</td>\n",
       "      <td>211</td>\n",
       "      <td>2</td>\n",
       "      <td>35</td>\n",
       "      <td>2012</td>\n",
       "      <td>2012-12-31 21:30:00</td>\n",
       "      <td>12</td>\n",
       "      <td>2012-12</td>\n",
       "      <td>0</td>\n",
       "    </tr>\n",
       "  </tbody>\n",
       "</table>\n",
       "</div>"
      ],
      "text/plain": [
       "   Unnamed: 0       ID            Date            LocationDescription  Arrest  \\\n",
       "0           0  8951354  12/31/12 23:15                         STREET   False   \n",
       "1           1  8951141  12/31/12 22:00                         STREET   False   \n",
       "2           2  8952745  12/31/12 22:00  RESIDENTIAL YARD (FRONT/BACK)   False   \n",
       "3           3  8952223  12/31/12 22:00                         STREET   False   \n",
       "4           4  8951608  12/31/12 21:30                         STREET   False   \n",
       "\n",
       "   Domestic  Beat District CommunityArea  Year          formatDate  month  \\\n",
       "0     False   623        6            69  2012 2012-12-31 23:15:00     12   \n",
       "1     False  1213       12            24  2012 2012-12-31 22:00:00     12   \n",
       "2     False  1622       16            11  2012 2012-12-31 22:00:00     12   \n",
       "3     False   724        7            67  2012 2012-12-31 22:00:00     12   \n",
       "4     False   211        2            35  2012 2012-12-31 21:30:00     12   \n",
       "\n",
       "  month_year  weekdays  \n",
       "0    2012-12         0  \n",
       "1    2012-12         0  \n",
       "2    2012-12         0  \n",
       "3    2012-12         0  \n",
       "4    2012-12         0  "
      ]
     },
     "execution_count": 5,
     "metadata": {},
     "output_type": "execute_result"
    }
   ],
   "source": [
    "chicago_data['month'] = pd.DatetimeIndex(chicago_data['formatDate']).month\n",
    "chicago_data['month_year'] = pd.to_datetime(chicago_data['formatDate']).dt.to_period('M')\n",
    "chicago_data['weekdays'] = pd.to_datetime(chicago_data['formatDate']).dt.dayofweek\n",
    "chicago_data.head()"
   ]
  },
  {
   "cell_type": "code",
   "execution_count": 6,
   "metadata": {},
   "outputs": [
    {
     "data": {
      "text/plain": [
       "Index(['Unnamed: 0', 'ID', 'Date', 'LocationDescription', 'Arrest', 'Domestic',\n",
       "       'Beat', 'District', 'CommunityArea', 'Year', 'formatDate', 'month',\n",
       "       'month_year', 'weekdays'],\n",
       "      dtype='object')"
      ]
     },
     "execution_count": 6,
     "metadata": {},
     "output_type": "execute_result"
    }
   ],
   "source": [
    "chicago_data.columns"
   ]
  },
  {
   "cell_type": "code",
   "execution_count": 7,
   "metadata": {},
   "outputs": [
    {
     "data": {
      "text/html": [
       "<div>\n",
       "<style scoped>\n",
       "    .dataframe tbody tr th:only-of-type {\n",
       "        vertical-align: middle;\n",
       "    }\n",
       "\n",
       "    .dataframe tbody tr th {\n",
       "        vertical-align: top;\n",
       "    }\n",
       "\n",
       "    .dataframe thead th {\n",
       "        text-align: right;\n",
       "    }\n",
       "</style>\n",
       "<table border=\"1\" class=\"dataframe\">\n",
       "  <thead>\n",
       "    <tr style=\"text-align: right;\">\n",
       "      <th></th>\n",
       "      <th>Unnamed: 0</th>\n",
       "      <th>ID</th>\n",
       "      <th>Beat</th>\n",
       "      <th>Year</th>\n",
       "      <th>month</th>\n",
       "      <th>weekdays</th>\n",
       "    </tr>\n",
       "  </thead>\n",
       "  <tbody>\n",
       "    <tr>\n",
       "      <td>count</td>\n",
       "      <td>191641.000000</td>\n",
       "      <td>1.916410e+05</td>\n",
       "      <td>191641.000000</td>\n",
       "      <td>191641.000000</td>\n",
       "      <td>191641.000000</td>\n",
       "      <td>191641.000000</td>\n",
       "    </tr>\n",
       "    <tr>\n",
       "      <td>mean</td>\n",
       "      <td>95820.000000</td>\n",
       "      <td>4.968629e+06</td>\n",
       "      <td>1258.810771</td>\n",
       "      <td>2006.134940</td>\n",
       "      <td>6.611518</td>\n",
       "      <td>2.996238</td>\n",
       "    </tr>\n",
       "    <tr>\n",
       "      <td>std</td>\n",
       "      <td>55322.135806</td>\n",
       "      <td>2.342997e+06</td>\n",
       "      <td>702.530465</td>\n",
       "      <td>3.520285</td>\n",
       "      <td>3.433006</td>\n",
       "      <td>1.985848</td>\n",
       "    </tr>\n",
       "    <tr>\n",
       "      <td>min</td>\n",
       "      <td>0.000000</td>\n",
       "      <td>1.310022e+06</td>\n",
       "      <td>111.000000</td>\n",
       "      <td>2001.000000</td>\n",
       "      <td>1.000000</td>\n",
       "      <td>0.000000</td>\n",
       "    </tr>\n",
       "    <tr>\n",
       "      <td>25%</td>\n",
       "      <td>47910.000000</td>\n",
       "      <td>2.832144e+06</td>\n",
       "      <td>722.000000</td>\n",
       "      <td>2003.000000</td>\n",
       "      <td>4.000000</td>\n",
       "      <td>1.000000</td>\n",
       "    </tr>\n",
       "    <tr>\n",
       "      <td>50%</td>\n",
       "      <td>95820.000000</td>\n",
       "      <td>4.762956e+06</td>\n",
       "      <td>1121.000000</td>\n",
       "      <td>2006.000000</td>\n",
       "      <td>7.000000</td>\n",
       "      <td>3.000000</td>\n",
       "    </tr>\n",
       "    <tr>\n",
       "      <td>75%</td>\n",
       "      <td>143730.000000</td>\n",
       "      <td>7.201878e+06</td>\n",
       "      <td>1733.000000</td>\n",
       "      <td>2009.000000</td>\n",
       "      <td>10.000000</td>\n",
       "      <td>5.000000</td>\n",
       "    </tr>\n",
       "    <tr>\n",
       "      <td>max</td>\n",
       "      <td>191640.000000</td>\n",
       "      <td>9.181151e+06</td>\n",
       "      <td>2535.000000</td>\n",
       "      <td>2012.000000</td>\n",
       "      <td>12.000000</td>\n",
       "      <td>6.000000</td>\n",
       "    </tr>\n",
       "  </tbody>\n",
       "</table>\n",
       "</div>"
      ],
      "text/plain": [
       "          Unnamed: 0            ID           Beat           Year  \\\n",
       "count  191641.000000  1.916410e+05  191641.000000  191641.000000   \n",
       "mean    95820.000000  4.968629e+06    1258.810771    2006.134940   \n",
       "std     55322.135806  2.342997e+06     702.530465       3.520285   \n",
       "min         0.000000  1.310022e+06     111.000000    2001.000000   \n",
       "25%     47910.000000  2.832144e+06     722.000000    2003.000000   \n",
       "50%     95820.000000  4.762956e+06    1121.000000    2006.000000   \n",
       "75%    143730.000000  7.201878e+06    1733.000000    2009.000000   \n",
       "max    191640.000000  9.181151e+06    2535.000000    2012.000000   \n",
       "\n",
       "               month       weekdays  \n",
       "count  191641.000000  191641.000000  \n",
       "mean        6.611518       2.996238  \n",
       "std         3.433006       1.985848  \n",
       "min         1.000000       0.000000  \n",
       "25%         4.000000       1.000000  \n",
       "50%         7.000000       3.000000  \n",
       "75%        10.000000       5.000000  \n",
       "max        12.000000       6.000000  "
      ]
     },
     "execution_count": 7,
     "metadata": {},
     "output_type": "execute_result"
    }
   ],
   "source": [
    "chicago_data.describe()"
   ]
  },
  {
   "cell_type": "code",
   "execution_count": 8,
   "metadata": {},
   "outputs": [
    {
     "name": "stdout",
     "output_type": "stream",
     "text": [
      "<class 'pandas.core.frame.DataFrame'>\n",
      "RangeIndex: 191641 entries, 0 to 191640\n",
      "Data columns (total 14 columns):\n",
      "Unnamed: 0             191641 non-null int64\n",
      "ID                     191641 non-null int64\n",
      "Date                   191641 non-null object\n",
      "LocationDescription    191641 non-null object\n",
      "Arrest                 191641 non-null bool\n",
      "Domestic               191641 non-null bool\n",
      "Beat                   191641 non-null int64\n",
      "District               148589 non-null object\n",
      "CommunityArea          167038 non-null object\n",
      "Year                   191641 non-null int64\n",
      "formatDate             191641 non-null datetime64[ns]\n",
      "month                  191641 non-null int64\n",
      "month_year             191641 non-null period[M]\n",
      "weekdays               191641 non-null int64\n",
      "dtypes: bool(2), datetime64[ns](1), int64(6), object(4), period[M](1)\n",
      "memory usage: 17.9+ MB\n"
     ]
    }
   ],
   "source": [
    "chicago_data.info()"
   ]
  },
  {
   "cell_type": "code",
   "execution_count": 9,
   "metadata": {},
   "outputs": [
    {
     "data": {
      "text/plain": [
       "10    17086\n",
       "7     16801\n",
       "8     16572\n",
       "12    16426\n",
       "11    16063\n",
       "9     16060\n",
       "1     16047\n",
       "5     16035\n",
       "6     16002\n",
       "3     15758\n",
       "4     15280\n",
       "2     13511\n",
       "Name: month, dtype: int64"
      ]
     },
     "execution_count": 9,
     "metadata": {},
     "output_type": "execute_result"
    }
   ],
   "source": [
    "chicago_data['month'].value_counts()"
   ]
  },
  {
   "cell_type": "code",
   "execution_count": 10,
   "metadata": {},
   "outputs": [
    {
     "data": {
      "text/plain": [
       "2008-05-16 00:00:00    11\n",
       "2004-04-13 21:00:00    10\n",
       "2001-10-17 22:00:00    10\n",
       "2005-09-17 22:00:00    10\n",
       "2001-10-26 22:00:00     9\n",
       "                       ..\n",
       "2011-09-05 13:00:00     1\n",
       "2002-09-01 22:45:00     1\n",
       "2003-12-16 21:55:00     1\n",
       "2010-10-18 20:00:00     1\n",
       "2004-08-31 00:20:00     1\n",
       "Name: formatDate, Length: 131680, dtype: int64"
      ]
     },
     "execution_count": 10,
     "metadata": {},
     "output_type": "execute_result"
    }
   ],
   "source": [
    "chicago_data['formatDate'].value_counts()"
   ]
  },
  {
   "cell_type": "code",
   "execution_count": 11,
   "metadata": {},
   "outputs": [
    {
     "data": {
      "text/plain": [
       "2001    20669\n",
       "2002    18753\n",
       "2004    16862\n",
       "2003    16657\n",
       "2005    16484\n",
       "2006    16098\n",
       "2011    15637\n",
       "2010    15497\n",
       "2008    14445\n",
       "2007    14280\n",
       "2012    14092\n",
       "2009    12167\n",
       "Name: Year, dtype: int64"
      ]
     },
     "execution_count": 11,
     "metadata": {},
     "output_type": "execute_result"
    }
   ],
   "source": [
    "chicago_data['Year'].value_counts()"
   ]
  },
  {
   "cell_type": "code",
   "execution_count": 12,
   "metadata": {},
   "outputs": [
    {
     "data": {
      "text/plain": [
       "2001-10    2291\n",
       "2001-09    1972\n",
       "2001-07    1952\n",
       "2001-11    1869\n",
       "2001-08    1795\n",
       "           ... \n",
       "2009-02     920\n",
       "2009-06     896\n",
       "2009-04     893\n",
       "2010-02     883\n",
       "2009-05     861\n",
       "Freq: M, Name: month_year, Length: 144, dtype: int64"
      ]
     },
     "execution_count": 12,
     "metadata": {},
     "output_type": "execute_result"
    }
   ],
   "source": [
    "chicago_data['month_year'].value_counts()"
   ]
  },
  {
   "cell_type": "code",
   "execution_count": 13,
   "metadata": {},
   "outputs": [
    {
     "data": {
      "text/plain": [
       "4    29284\n",
       "2    27416\n",
       "0    27397\n",
       "3    27319\n",
       "5    27118\n",
       "1    26791\n",
       "6    26316\n",
       "Name: weekdays, dtype: int64"
      ]
     },
     "execution_count": 13,
     "metadata": {},
     "output_type": "execute_result"
    }
   ],
   "source": [
    "chicago_data['weekdays'].value_counts()"
   ]
  },
  {
   "cell_type": "code",
   "execution_count": 14,
   "metadata": {},
   "outputs": [
    {
     "data": {
      "text/plain": [
       "Timestamp('2006-05-21 12:30:00')"
      ]
     },
     "execution_count": 14,
     "metadata": {},
     "output_type": "execute_result"
    }
   ],
   "source": [
    "median_date = pd.to_datetime(np.median(pd.to_numeric(chicago_data['formatDate'])))\n",
    "median_date"
   ]
  },
  {
   "cell_type": "markdown",
   "metadata": {
    "colab_type": "text",
    "id": "p_5NyRrGWBn1"
   },
   "source": [
    "**Question 1:** What is the Month and Year of the median date in our dataset? *\n",
    "\n",
    "Enter your answer as \"Month Year\", without the quotes. (Ex: if the answer was 2008-03-28, you would give the answer \"March 2008\", without the quotes.)\n",
    "\n",
    "**Your answer:** **May 2006**"
   ]
  },
  {
   "cell_type": "code",
   "execution_count": 15,
   "metadata": {},
   "outputs": [
    {
     "data": {
      "text/plain": [
       "10    17086\n",
       "7     16801\n",
       "8     16572\n",
       "12    16426\n",
       "11    16063\n",
       "9     16060\n",
       "1     16047\n",
       "5     16035\n",
       "6     16002\n",
       "3     15758\n",
       "4     15280\n",
       "2     13511\n",
       "Name: month, dtype: int64"
      ]
     },
     "execution_count": 15,
     "metadata": {},
     "output_type": "execute_result"
    }
   ],
   "source": [
    "chicago_data['month'].value_counts()"
   ]
  },
  {
   "cell_type": "markdown",
   "metadata": {
    "colab_type": "text",
    "id": "EC6CMddoW3dL"
   },
   "source": [
    "**Question 2:** In which month did the lowest motor vehicle thefts occur? *\n",
    "\n",
    "(Ex: if the answer was March, you would give the answer \"March\", without the quotes.)\n",
    "\n",
    "**Your answer:** **February**"
   ]
  },
  {
   "cell_type": "markdown",
   "metadata": {
    "colab_type": "text",
    "id": "Ox9wmNfBXBNc"
   },
   "source": [
    "**Question 3:** In which month did the lowest motor vehicle thefts occur? *\n",
    "(Ex: if the answer was March, you would give the answer \"March\", without the quotes.)\n",
    "\n",
    "**Your answer:** **February**\n"
   ]
  },
  {
   "cell_type": "code",
   "execution_count": 16,
   "metadata": {},
   "outputs": [
    {
     "data": {
      "text/plain": [
       "4    29284\n",
       "2    27416\n",
       "0    27397\n",
       "3    27319\n",
       "5    27118\n",
       "1    26791\n",
       "6    26316\n",
       "Name: weekdays, dtype: int64"
      ]
     },
     "execution_count": 16,
     "metadata": {},
     "output_type": "execute_result"
    }
   ],
   "source": [
    "chicago_data['weekdays'].value_counts()"
   ]
  },
  {
   "cell_type": "markdown",
   "metadata": {
    "colab_type": "text",
    "id": "Ixxg-0nIXtrS"
   },
   "source": [
    "**Question 4:** On which weekday did most motor vehicle thefts occur? *\n",
    "(Ex: if the answer was Monday, you would give the answer \"Monday\", without the quotes.)\n",
    "\n",
    "**Your answer:** **Friday**\n"
   ]
  },
  {
   "cell_type": "code",
   "execution_count": 17,
   "metadata": {},
   "outputs": [
    {
     "data": {
      "text/plain": [
       "Arrest  month\n",
       "False   10       15744\n",
       "        7        15477\n",
       "        8        15243\n",
       "        12       15029\n",
       "        5        14848\n",
       "        9        14812\n",
       "        11       14807\n",
       "        6        14772\n",
       "        1        14612\n",
       "        3        14460\n",
       "        4        14028\n",
       "        2        12273\n",
       "True    1         1435\n",
       "        12        1397\n",
       "        10        1342\n",
       "        8         1329\n",
       "        7         1324\n",
       "        3         1298\n",
       "        11        1256\n",
       "        4         1252\n",
       "        9         1248\n",
       "        2         1238\n",
       "        6         1230\n",
       "        5         1187\n",
       "Name: month, dtype: int64"
      ]
     },
     "execution_count": 17,
     "metadata": {},
     "output_type": "execute_result"
    }
   ],
   "source": [
    "chicago_data.groupby('Arrest')['month'].value_counts()"
   ]
  },
  {
   "cell_type": "code",
   "execution_count": 18,
   "metadata": {},
   "outputs": [
    {
     "data": {
      "text/plain": [
       "10    17086\n",
       "7     16801\n",
       "8     16572\n",
       "12    16426\n",
       "11    16063\n",
       "9     16060\n",
       "1     16047\n",
       "5     16035\n",
       "6     16002\n",
       "3     15758\n",
       "4     15280\n",
       "2     13511\n",
       "Name: month, dtype: int64"
      ]
     },
     "execution_count": 18,
     "metadata": {},
     "output_type": "execute_result"
    }
   ],
   "source": [
    "chicago_data['month'].value_counts()"
   ]
  },
  {
   "cell_type": "markdown",
   "metadata": {
    "colab_type": "text",
    "id": "2nrxCxjJX44G"
   },
   "source": [
    "**Question 5:** Each observation in the dataset represents a motor vehicle theft, and the Arrest variable indicates whether an arrest was later made for this theft. Which month has the largest number of motor vehicle thefts for which an arrest was made? *\n",
    "(Ex: if the answer was March, you would give the answer \"March\", without the quotes.)\n",
    "\n",
    "**Your answer:** **January**\n"
   ]
  },
  {
   "cell_type": "code",
   "execution_count": 19,
   "metadata": {},
   "outputs": [
    {
     "data": {
      "text/plain": [
       "2001    20669\n",
       "2002    18753\n",
       "2004    16862\n",
       "2003    16657\n",
       "2005    16484\n",
       "2006    16098\n",
       "2011    15637\n",
       "2010    15497\n",
       "2008    14445\n",
       "2007    14280\n",
       "2012    14092\n",
       "2009    12167\n",
       "Name: Year, dtype: int64"
      ]
     },
     "execution_count": 19,
     "metadata": {},
     "output_type": "execute_result"
    }
   ],
   "source": [
    "chicago_data['Year'].value_counts()"
   ]
  },
  {
   "cell_type": "markdown",
   "metadata": {
    "colab_type": "text",
    "id": "fERgD9_xYHvX"
   },
   "source": [
    "**Question 6:** Select the true statements *\n",
    "1. In general, does it look like crime decreases from 2002 - 2012?\n",
    "2. In general, does it look like crime increases from 2005 - 2008?\n",
    "3. In general, does it look like crime increases from 2009 - 2011?\n",
    "\n",
    "**Your answer:** **1. In general, does it look like crime decreases from 2002 - 2012**"
   ]
  },
  {
   "cell_type": "code",
   "execution_count": 20,
   "metadata": {},
   "outputs": [
    {
     "data": {
      "text/plain": [
       "Arrest  month  month\n",
       "False   1      1        14612\n",
       "        2      2        12273\n",
       "        3      3        14460\n",
       "        4      4        14028\n",
       "        5      5        14848\n",
       "        6      6        14772\n",
       "        7      7        15477\n",
       "        8      8        15243\n",
       "        9      9        14812\n",
       "        10     10       15744\n",
       "        11     11       14807\n",
       "        12     12       15029\n",
       "True    1      1         1435\n",
       "        2      2         1238\n",
       "        3      3         1298\n",
       "        4      4         1252\n",
       "        5      5         1187\n",
       "        6      6         1230\n",
       "        7      7         1324\n",
       "        8      8         1329\n",
       "        9      9         1248\n",
       "        10     10        1342\n",
       "        11     11        1256\n",
       "        12     12        1397\n",
       "Name: month, dtype: int64"
      ]
     },
     "execution_count": 20,
     "metadata": {},
     "output_type": "execute_result"
    }
   ],
   "source": [
    "x = chicago_data.groupby(['Arrest','month'])['month'].value_counts()\n",
    "x"
   ]
  },
  {
   "cell_type": "code",
   "execution_count": 21,
   "metadata": {},
   "outputs": [
    {
     "data": {
      "text/plain": [
       "Arrest  month  month\n",
       "True    1      1        1435\n",
       "        2      2        1238\n",
       "        3      3        1298\n",
       "        4      4        1252\n",
       "        5      5        1187\n",
       "        6      6        1230\n",
       "Name: month, dtype: int64"
      ]
     },
     "execution_count": 21,
     "metadata": {},
     "output_type": "execute_result"
    }
   ],
   "source": [
    "x[12:18]"
   ]
  },
  {
   "cell_type": "code",
   "execution_count": 22,
   "metadata": {},
   "outputs": [
    {
     "data": {
      "text/plain": [
       "7640"
      ]
     },
     "execution_count": 22,
     "metadata": {},
     "output_type": "execute_result"
    }
   ],
   "source": [
    "x[12:18].sum()"
   ]
  },
  {
   "cell_type": "code",
   "execution_count": 23,
   "metadata": {},
   "outputs": [
    {
     "data": {
      "text/plain": [
       "Arrest  month  month\n",
       "True    7      7        1324\n",
       "        8      8        1329\n",
       "        9      9        1248\n",
       "        10     10       1342\n",
       "        11     11       1256\n",
       "        12     12       1397\n",
       "Name: month, dtype: int64"
      ]
     },
     "execution_count": 23,
     "metadata": {},
     "output_type": "execute_result"
    }
   ],
   "source": [
    "x[18:24]"
   ]
  },
  {
   "cell_type": "code",
   "execution_count": 24,
   "metadata": {},
   "outputs": [
    {
     "data": {
      "text/plain": [
       "7896"
      ]
     },
     "execution_count": 24,
     "metadata": {},
     "output_type": "execute_result"
    }
   ],
   "source": [
    "x[18:24].sum()"
   ]
  },
  {
   "cell_type": "code",
   "execution_count": 25,
   "metadata": {},
   "outputs": [
    {
     "data": {
      "text/plain": [
       "Arrest  Year  Year\n",
       "False   2001  2001    18517\n",
       "        2002  2002    16638\n",
       "        2003  2003    14859\n",
       "        2004  2004    15169\n",
       "        2005  2005    14956\n",
       "        2006  2006    14796\n",
       "        2007  2007    13068\n",
       "        2008  2008    13425\n",
       "        2009  2009    11327\n",
       "        2010  2010    14796\n",
       "        2011  2011    15012\n",
       "        2012  2012    13542\n",
       "True    2001  2001     2152\n",
       "        2002  2002     2115\n",
       "        2003  2003     1798\n",
       "        2004  2004     1693\n",
       "        2005  2005     1528\n",
       "        2006  2006     1302\n",
       "        2007  2007     1212\n",
       "        2008  2008     1020\n",
       "        2009  2009      840\n",
       "        2010  2010      701\n",
       "        2011  2011      625\n",
       "        2012  2012      550\n",
       "Name: Year, dtype: int64"
      ]
     },
     "execution_count": 25,
     "metadata": {},
     "output_type": "execute_result"
    }
   ],
   "source": [
    "y = chicago_data.groupby(['Arrest','Year'])['Year'].value_counts()\n",
    "y"
   ]
  },
  {
   "cell_type": "code",
   "execution_count": 26,
   "metadata": {},
   "outputs": [
    {
     "data": {
      "text/plain": [
       "Arrest  Year  Year\n",
       "True    2001  2001    2152\n",
       "        2002  2002    2115\n",
       "        2003  2003    1798\n",
       "        2004  2004    1693\n",
       "        2005  2005    1528\n",
       "        2006  2006    1302\n",
       "Name: Year, dtype: int64"
      ]
     },
     "execution_count": 26,
     "metadata": {},
     "output_type": "execute_result"
    }
   ],
   "source": [
    "y[12:18]"
   ]
  },
  {
   "cell_type": "code",
   "execution_count": 27,
   "metadata": {},
   "outputs": [
    {
     "data": {
      "text/plain": [
       "Arrest  Year  Year\n",
       "True    2007  2007    1212\n",
       "        2008  2008    1020\n",
       "        2009  2009     840\n",
       "        2010  2010     701\n",
       "        2011  2011     625\n",
       "        2012  2012     550\n",
       "Name: Year, dtype: int64"
      ]
     },
     "execution_count": 27,
     "metadata": {},
     "output_type": "execute_result"
    }
   ],
   "source": [
    "y[18:24]"
   ]
  },
  {
   "cell_type": "code",
   "execution_count": 28,
   "metadata": {},
   "outputs": [
    {
     "data": {
      "text/plain": [
       "10588"
      ]
     },
     "execution_count": 28,
     "metadata": {},
     "output_type": "execute_result"
    }
   ],
   "source": [
    "y[12:18].sum()"
   ]
  },
  {
   "cell_type": "code",
   "execution_count": 29,
   "metadata": {},
   "outputs": [
    {
     "data": {
      "text/plain": [
       "7896"
      ]
     },
     "execution_count": 29,
     "metadata": {},
     "output_type": "execute_result"
    }
   ],
   "source": [
    "x[18:24].sum()"
   ]
  },
  {
   "cell_type": "markdown",
   "metadata": {
    "colab_type": "text",
    "id": "9b_gZET8YZOV"
   },
   "source": [
    "**Question 7:** Crimes for which more arrests were made are in the first half of the time period or the second half of the time period? *\n",
    "(Note that the time period is from 2001 to 2012, so the middle of the time period is the beginning of 2007.)\n",
    "\n",
    "1. First half\n",
    "2. Second half\n",
    "\n",
    "**Your answer:** **Second half**"
   ]
  },
  {
   "cell_type": "code",
   "execution_count": 30,
   "metadata": {},
   "outputs": [
    {
     "data": {
      "text/plain": [
       "Arrest  Year  Year\n",
       "True    2001  2001    2152\n",
       "        2002  2002    2115\n",
       "        2003  2003    1798\n",
       "        2004  2004    1693\n",
       "        2005  2005    1528\n",
       "        2006  2006    1302\n",
       "        2007  2007    1212\n",
       "        2008  2008    1020\n",
       "        2009  2009     840\n",
       "        2010  2010     701\n",
       "        2011  2011     625\n",
       "        2012  2012     550\n",
       "Name: Year, dtype: int64"
      ]
     },
     "execution_count": 30,
     "metadata": {},
     "output_type": "execute_result"
    }
   ],
   "source": [
    "x = chicago_data.groupby(['Arrest','Year'])['Year'].value_counts()\n",
    "x[12:25]"
   ]
  },
  {
   "cell_type": "code",
   "execution_count": 31,
   "metadata": {},
   "outputs": [
    {
     "data": {
      "text/plain": [
       "15536"
      ]
     },
     "execution_count": 31,
     "metadata": {},
     "output_type": "execute_result"
    }
   ],
   "source": [
    "x[12:25].sum()"
   ]
  },
  {
   "cell_type": "code",
   "execution_count": 32,
   "metadata": {},
   "outputs": [
    {
     "data": {
      "text/plain": [
       "20669"
      ]
     },
     "execution_count": 32,
     "metadata": {},
     "output_type": "execute_result"
    }
   ],
   "source": [
    "temp_data = chicago_data[chicago_data['Year']==2001]\n",
    "len(temp_data)"
   ]
  },
  {
   "cell_type": "code",
   "execution_count": 33,
   "metadata": {},
   "outputs": [
    {
     "data": {
      "text/plain": [
       "False    0.9\n",
       "True     0.1\n",
       "Name: Arrest, dtype: float64"
      ]
     },
     "execution_count": 33,
     "metadata": {},
     "output_type": "execute_result"
    }
   ],
   "source": [
    "round(temp_data['Arrest'].value_counts(normalize=True),2)"
   ]
  },
  {
   "cell_type": "markdown",
   "metadata": {
    "colab_type": "text",
    "id": "Hm9vag5kYqGX"
   },
   "source": [
    "**Question 8:** For what proportion of motor vehicle thefts in 2001 was an arrest made? *\n",
    "**Note:** in this question and many others in the course, we are asking for an answer as a proportion. Therefore, your answer should take a value between 0 and 1\n",
    "\n",
    "1. 0.06\n",
    "2. 0.08\n",
    "3. 0.10\n",
    "4. 0.12\n",
    "\n",
    "**Your answer:** **3. 0.10**"
   ]
  },
  {
   "cell_type": "code",
   "execution_count": 34,
   "metadata": {},
   "outputs": [
    {
     "data": {
      "text/plain": [
       "14280"
      ]
     },
     "execution_count": 34,
     "metadata": {},
     "output_type": "execute_result"
    }
   ],
   "source": [
    "temp_data_a = chicago_data[chicago_data['Year']==2007]\n",
    "len(temp_data_a)"
   ]
  },
  {
   "cell_type": "code",
   "execution_count": 35,
   "metadata": {},
   "outputs": [
    {
     "data": {
      "text/plain": [
       "False    0.92\n",
       "True     0.08\n",
       "Name: Arrest, dtype: float64"
      ]
     },
     "execution_count": 35,
     "metadata": {},
     "output_type": "execute_result"
    }
   ],
   "source": [
    "round(temp_data_a['Arrest'].value_counts(normalize=True),2)"
   ]
  },
  {
   "cell_type": "markdown",
   "metadata": {
    "colab_type": "text",
    "id": "x8y7kpPdY2g9"
   },
   "source": [
    "**Question 9:** For what proportion of motor vehicle thefts in 2007 was an arrest made? (round your answer to 2 decimal places)\n",
    "\n",
    "**Your answer:** **0.08**"
   ]
  },
  {
   "cell_type": "code",
   "execution_count": 36,
   "metadata": {},
   "outputs": [
    {
     "data": {
      "text/plain": [
       "STREET                            156564\n",
       "PARKING LOT/GARAGE(NON.RESID.)     14852\n",
       "OTHER                               4573\n",
       "ALLEY                               2308\n",
       "GAS STATION                         2111\n",
       "DRIVEWAY - RESIDENTIAL              1675\n",
       "Name: LocationDescription, dtype: int64"
      ]
     },
     "execution_count": 36,
     "metadata": {},
     "output_type": "execute_result"
    }
   ],
   "source": [
    "x = chicago_data['LocationDescription'].value_counts()\n",
    "x[:6]"
   ]
  },
  {
   "cell_type": "markdown",
   "metadata": {
    "colab_type": "text",
    "id": "ABMDdLEPZDt0"
   },
   "source": [
    "**Question 10:** Which locations are the top five locations for motor vehicle thefts, excluding the \"Other\" category? *\n",
    "\n",
    "1. Bank\n",
    "2. Gas Station\n",
    "3. Hotel/Motel\n",
    "4. Street\n",
    "5. Car Wash\n",
    "6. Restaurant\n",
    "7. Parking Lot/Garage (Non-Residential)\n",
    "8. Alley\n",
    "9. Driveway (Residential)\n",
    "10. Vacant Lot/Land\n",
    "\n",
    "**Your answer:**  \n",
    "**4 STREET,  \n",
    "7 PARKING LOT/GARAGE(NON.RESID.),  \n",
    "8 ALLEY,  \n",
    "2 GAS STATION,  \n",
    "9 DRIVEWAY - RESIDENTIAL**"
   ]
  },
  {
   "cell_type": "code",
   "execution_count": 37,
   "metadata": {},
   "outputs": [
    {
     "data": {
      "text/plain": [
       "(177510, 14)"
      ]
     },
     "execution_count": 37,
     "metadata": {},
     "output_type": "execute_result"
    }
   ],
   "source": [
    "Top5 = chicago_data[(chicago_data['LocationDescription']== 'STREET') | (chicago_data['LocationDescription']== 'PARKING LOT/GARAGE(NON.RESID.)') | (chicago_data['LocationDescription']== 'ALLEY') | (chicago_data['LocationDescription']== 'GAS STATION') | (chicago_data['LocationDescription'] == 'DRIVEWAY - RESIDENTIAL')]\n",
    "Top5.shape"
   ]
  },
  {
   "cell_type": "code",
   "execution_count": 38,
   "metadata": {},
   "outputs": [
    {
     "data": {
      "text/plain": [
       "(14852, 14)"
      ]
     },
     "execution_count": 38,
     "metadata": {},
     "output_type": "execute_result"
    }
   ],
   "source": [
    "Top0 = chicago_data[chicago_data['LocationDescription']== 'PARKING LOT/GARAGE(NON.RESID.)']\n",
    "Top0.shape"
   ]
  },
  {
   "cell_type": "code",
   "execution_count": 39,
   "metadata": {},
   "outputs": [
    {
     "data": {
      "text/plain": [
       "(2308, 14)"
      ]
     },
     "execution_count": 39,
     "metadata": {},
     "output_type": "execute_result"
    }
   ],
   "source": [
    "Top1 = chicago_data[chicago_data['LocationDescription']== 'ALLEY']\n",
    "Top1.shape"
   ]
  },
  {
   "cell_type": "code",
   "execution_count": 40,
   "metadata": {},
   "outputs": [
    {
     "data": {
      "text/plain": [
       "(2111, 14)"
      ]
     },
     "execution_count": 40,
     "metadata": {},
     "output_type": "execute_result"
    }
   ],
   "source": [
    "Top2 = chicago_data[chicago_data['LocationDescription']== 'GAS STATION']\n",
    "Top2.shape"
   ]
  },
  {
   "cell_type": "code",
   "execution_count": 41,
   "metadata": {},
   "outputs": [
    {
     "data": {
      "text/plain": [
       "(1675, 14)"
      ]
     },
     "execution_count": 41,
     "metadata": {},
     "output_type": "execute_result"
    }
   ],
   "source": [
    "Top3 = chicago_data[chicago_data['LocationDescription']== 'DRIVEWAY - RESIDENTIAL']\n",
    "Top3.shape"
   ]
  },
  {
   "cell_type": "code",
   "execution_count": 42,
   "metadata": {},
   "outputs": [
    {
     "data": {
      "text/plain": [
       "(156564, 14)"
      ]
     },
     "execution_count": 42,
     "metadata": {},
     "output_type": "execute_result"
    }
   ],
   "source": [
    "Top4 = chicago_data[chicago_data['LocationDescription']== 'STREET']\n",
    "Top4.shape"
   ]
  },
  {
   "cell_type": "markdown",
   "metadata": {
    "colab_type": "text",
    "id": "ZYPM-qxkZfM1"
   },
   "source": [
    "**Question 11:** Create a subset of your data, only taking observations for which the theft happened in one of these five locations, and call this new data set \"Top5\". How many observations are in Top5? \n",
    "\n",
    "**Your answer:** **156564**"
   ]
  },
  {
   "cell_type": "code",
   "execution_count": 43,
   "metadata": {},
   "outputs": [
    {
     "data": {
      "text/plain": [
       "2111"
      ]
     },
     "execution_count": 43,
     "metadata": {},
     "output_type": "execute_result"
    }
   ],
   "source": [
    "temp_data_b = chicago_data[chicago_data['LocationDescription']== 'GAS STATION']\n",
    "len(temp_data_b)"
   ]
  },
  {
   "cell_type": "code",
   "execution_count": 44,
   "metadata": {},
   "outputs": [
    {
     "data": {
      "text/plain": [
       "5    338\n",
       "6    336\n",
       "4    332\n",
       "3    282\n",
       "0    280\n",
       "2    273\n",
       "1    270\n",
       "Name: weekdays, dtype: int64"
      ]
     },
     "execution_count": 44,
     "metadata": {},
     "output_type": "execute_result"
    }
   ],
   "source": [
    "temp_data_b['weekdays'].value_counts()"
   ]
  },
  {
   "cell_type": "markdown",
   "metadata": {
    "colab_type": "text",
    "id": "06wNQi51Z6xS"
   },
   "source": [
    "**Question 12:** On which day of the week do the most motor vehicle thefts at gas stations happen? *\n",
    "\n",
    "1. Monday\n",
    "2. Tuesday\n",
    "3. Wednesday\n",
    "4. Thursday\n",
    "5. Friday\n",
    "6. Saturday\n",
    "7. Sunday\n",
    "\n",
    "**Your answer:** **6. Saturday**"
   ]
  }
 ],
 "metadata": {
  "colab": {
   "collapsed_sections": [],
   "name": "Copy of Chicago_Crime_Detection.ipynb",
   "provenance": []
  },
  "kernelspec": {
   "display_name": "Python 3",
   "language": "python",
   "name": "python3"
  },
  "language_info": {
   "codemirror_mode": {
    "name": "ipython",
    "version": 3
   },
   "file_extension": ".py",
   "mimetype": "text/x-python",
   "name": "python",
   "nbconvert_exporter": "python",
   "pygments_lexer": "ipython3",
   "version": "3.7.4"
  }
 },
 "nbformat": 4,
 "nbformat_minor": 1
}
