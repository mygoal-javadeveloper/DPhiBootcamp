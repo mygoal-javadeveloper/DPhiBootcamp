{
 "cells": [
  {
   "cell_type": "markdown",
   "metadata": {
    "colab_type": "text",
    "id": "JAYAvYAmcW06"
   },
   "source": [
    "# Pharma Dataset - Beginners\n",
    "\n",
    "# Objective\n",
    "\n",
    "A hospital in the province of Greenland has been trying to improve its care conditions by looking at historic survival of the patients. They tried looking at their data but could not identify the main factors leading to high survivals.\n",
    "\n",
    "Now I am the best data scientist in Greenland and they've hired me to solve this problem. Now I have a responsibility for developing a model that will predict the chances of survival of a patient after 1 year of treatment (Survived_1_year)."
   ]
  },
  {
   "cell_type": "markdown",
   "metadata": {
    "colab_type": "text",
    "id": "9sdj2lwlcW1B"
   },
   "source": [
    "## Dataset & Data Description\n",
    "\n",
    "The dataset contains the patient records collected from a hospital in Greenland. The \"Survived_1_year\" column is a target variable which has binary entries (0 or 1).\n",
    "\n",
    "    * Survived_1_year == 0, implies that the patient did not survive after 1 year of treatment\n",
    "    * Survived_1_year == 1, implies that the patient survived after 1 year of treatment"
   ]
  },
  {
   "cell_type": "code",
   "execution_count": null,
   "metadata": {
    "colab": {},
    "colab_type": "code",
    "id": "MDLOjkvzlyBE"
   },
   "outputs": [],
   "source": [
    "# !pip install lazypredict"
   ]
  },
  {
   "cell_type": "code",
   "execution_count": null,
   "metadata": {
    "colab": {},
    "colab_type": "code",
    "id": "Qxu3Js9Ea3Lk"
   },
   "outputs": [],
   "source": [
    "# !pip install xgboost"
   ]
  },
  {
   "cell_type": "code",
   "execution_count": null,
   "metadata": {
    "colab": {},
    "colab_type": "code",
    "id": "nnXgvJP1a3Ls"
   },
   "outputs": [],
   "source": [
    "# !pip install catboost"
   ]
  },
  {
   "cell_type": "code",
   "execution_count": null,
   "metadata": {
    "colab": {},
    "colab_type": "code",
    "id": "28qF7hoQa3L0"
   },
   "outputs": [],
   "source": [
    "# !pip install lightgbm"
   ]
  },
  {
   "cell_type": "code",
   "execution_count": null,
   "metadata": {
    "colab": {},
    "colab_type": "code",
    "id": "pPNwr0TXxslY"
   },
   "outputs": [],
   "source": [
    "# !pip install https://github.com/pandas-profiling/pandas-profiling/archive/master.zip"
   ]
  },
  {
   "cell_type": "code",
   "execution_count": null,
   "metadata": {
    "colab": {
     "base_uri": "https://localhost:8080/",
     "height": 71
    },
    "colab_type": "code",
    "id": "kOTzQvXhcW1F",
    "outputId": "e8327769-350e-45a3-940f-3be8f5899198"
   },
   "outputs": [
    {
     "name": "stderr",
     "output_type": "stream",
     "text": [
      "/usr/local/lib/python3.6/dist-packages/statsmodels/tools/_testing.py:19: FutureWarning: pandas.util.testing is deprecated. Use the functions in the public API at pandas.testing instead.\n",
      "  import pandas.util.testing as tm\n"
     ]
    }
   ],
   "source": [
    "#import libraries \n",
    "import numpy as np\n",
    "import pandas as pd\n",
    "from pandas_profiling import ProfileReport\n",
    "#import libraries for visualization\n",
    "import matplotlib.pyplot as plt\n",
    "import seaborn as sns\n",
    "%matplotlib inline\n",
    "pd.options.display.max_columns = 100\n",
    "#libraries for machine learning\n",
    "from sklearn.model_selection import train_test_split \n",
    "from xgboost import XGBClassifier\n",
    "from sklearn.metrics import confusion_matrix, accuracy_score, f1_score, recall_score, precision_score, precision_recall_curve,roc_auc_score\n",
    "from sklearn.model_selection import GridSearchCV\n",
    "from sklearn.preprocessing import LabelEncoder\n",
    "# import lazypredict"
   ]
  },
  {
   "cell_type": "code",
   "execution_count": null,
   "metadata": {
    "colab": {},
    "colab_type": "code",
    "id": "9jsMfh_HcW1b"
   },
   "outputs": [],
   "source": [
    "pharma_data = pd.read_csv('https://raw.githubusercontent.com/dphi-official/Datasets/master/pharma_data/Training_set_begs.csv')"
   ]
  },
  {
   "cell_type": "code",
   "execution_count": null,
   "metadata": {
    "colab": {},
    "colab_type": "code",
    "id": "oTDlMUmGusF9"
   },
   "outputs": [],
   "source": [
    "# pharma_profile = ProfileReport(pharma_data)"
   ]
  },
  {
   "cell_type": "code",
   "execution_count": null,
   "metadata": {
    "colab": {},
    "colab_type": "code",
    "id": "u1hZ_G_mzyqu"
   },
   "outputs": [],
   "source": [
    "# pharma_profile"
   ]
  },
  {
   "cell_type": "code",
   "execution_count": null,
   "metadata": {
    "colab": {
     "base_uri": "https://localhost:8080/",
     "height": 119
    },
    "colab_type": "code",
    "id": "X4Cb0VPycW1q",
    "outputId": "dc07505f-ebb2-4bdd-a238-5e5d29e83ede"
   },
   "outputs": [
    {
     "data": {
      "text/plain": [
       "Index(['ID_Patient_Care_Situation', 'Diagnosed_Condition', 'Patient_ID',\n",
       "       'Treated_with_drugs', 'Patient_Age', 'Patient_Body_Mass_Index',\n",
       "       'Patient_Smoker', 'Patient_Rural_Urban', 'Patient_mental_condition',\n",
       "       'A', 'B', 'C', 'D', 'E', 'F', 'Z', 'Number_of_prev_cond',\n",
       "       'Survived_1_year'],\n",
       "      dtype='object')"
      ]
     },
     "execution_count": 10,
     "metadata": {
      "tags": []
     },
     "output_type": "execute_result"
    }
   ],
   "source": [
    "pharma_data.columns"
   ]
  },
  {
   "cell_type": "markdown",
   "metadata": {
    "colab_type": "text",
    "id": "YhPDlOh1cW15"
   },
   "source": [
    "## Data Description:\n",
    "\n",
    "|Column Name|Description|\n",
    "|:----|:----|\n",
    "|ID_Patient_Care_Situation:|Care situation of a patient during treatment|\n",
    "|Diagnosed_Condition:|The diagnosed condition of the patient|\n",
    "|Patient_ID:|Patient identifier number|\n",
    "|Treatment_with_drugs:|Class of drugs used during treatment|\n",
    "|Survived_1_year:|If the patient survived after one year (0 means did not survive; 1 means survived)|\n",
    "|Patient_Age:|Age of the patient|\n",
    "|Patient_Body_Mass_Index:|A calculated value based on the patient’s weight, height, etc.|\n",
    "|Patient_Smoker:|If the patient was a smoker or not|\n",
    "|Patient_Rural_Urban:|If the patient stayed in Rural or Urban part of the country|\n",
    "|Previous_Condition:|Condition of the patient before the start of the treatment ( This variable is splitted into 8 columns - A, B, C, D, E, F, Z and Number_of_prev_cond. A, B, C, D, E, F and Z are the previous conditions of the patient. Suppose for one patient, if the entry in column A is 1, it means that the previous condition of the patient was A. If the patient didn't have that condition, it is 0 and same for other conditions. If a patient has previous condition as A and C , columns A and C will have entries as 1 and 1 respectively while the other column B, D, E, F, Z will have entries 0, 0, 0, 0, 0 respectively.)|\n",
    "|Number_of_prev_cond|It will have entry as 2 i.e. 1 + 0 + 1 + 0 + 0 + 0 + 0 + 0 = 2 in this case.|"
   ]
  },
  {
   "cell_type": "markdown",
   "metadata": {
    "colab_type": "text",
    "id": "0u7L0iNIcW19"
   },
   "source": [
    "## Evaluation Criteria\n",
    "\n",
    "Submissions are evaluated based on the F1 Score calculated using the predicted value of your model and true value of of Survived_1_year on the unseen new test dataset mentioned under submission guidelines."
   ]
  },
  {
   "cell_type": "code",
   "execution_count": null,
   "metadata": {
    "colab": {
     "base_uri": "https://localhost:8080/",
     "height": 442
    },
    "colab_type": "code",
    "id": "1KQxfO0FcW1_",
    "outputId": "88ffe4ce-2fd4-4758-acac-b7bd4fc6c145"
   },
   "outputs": [
    {
     "name": "stdout",
     "output_type": "stream",
     "text": [
      "<class 'pandas.core.frame.DataFrame'>\n",
      "RangeIndex: 23097 entries, 0 to 23096\n",
      "Data columns (total 18 columns):\n",
      " #   Column                     Non-Null Count  Dtype  \n",
      "---  ------                     --------------  -----  \n",
      " 0   ID_Patient_Care_Situation  23097 non-null  int64  \n",
      " 1   Diagnosed_Condition        23097 non-null  int64  \n",
      " 2   Patient_ID                 23097 non-null  int64  \n",
      " 3   Treated_with_drugs         23084 non-null  object \n",
      " 4   Patient_Age                23097 non-null  int64  \n",
      " 5   Patient_Body_Mass_Index    23097 non-null  float64\n",
      " 6   Patient_Smoker             23097 non-null  object \n",
      " 7   Patient_Rural_Urban        23097 non-null  object \n",
      " 8   Patient_mental_condition   23097 non-null  object \n",
      " 9   A                          21862 non-null  float64\n",
      " 10  B                          21862 non-null  float64\n",
      " 11  C                          21862 non-null  float64\n",
      " 12  D                          21862 non-null  float64\n",
      " 13  E                          21862 non-null  float64\n",
      " 14  F                          21862 non-null  float64\n",
      " 15  Z                          21862 non-null  float64\n",
      " 16  Number_of_prev_cond        21862 non-null  float64\n",
      " 17  Survived_1_year            23097 non-null  int64  \n",
      "dtypes: float64(9), int64(5), object(4)\n",
      "memory usage: 3.2+ MB\n"
     ]
    }
   ],
   "source": [
    "pharma_data.info()"
   ]
  },
  {
   "cell_type": "code",
   "execution_count": null,
   "metadata": {
    "colab": {
     "base_uri": "https://localhost:8080/",
     "height": 340
    },
    "colab_type": "code",
    "id": "pBApBBBQcW2N",
    "outputId": "70c6a9e2-ccba-4739-f68c-cdd1203c7364"
   },
   "outputs": [
    {
     "data": {
      "text/plain": [
       "ID_Patient_Care_Situation       0\n",
       "Diagnosed_Condition             0\n",
       "Patient_ID                      0\n",
       "Treated_with_drugs             13\n",
       "Patient_Age                     0\n",
       "Patient_Body_Mass_Index         0\n",
       "Patient_Smoker                  0\n",
       "Patient_Rural_Urban             0\n",
       "Patient_mental_condition        0\n",
       "A                            1235\n",
       "B                            1235\n",
       "C                            1235\n",
       "D                            1235\n",
       "E                            1235\n",
       "F                            1235\n",
       "Z                            1235\n",
       "Number_of_prev_cond          1235\n",
       "Survived_1_year                 0\n",
       "dtype: int64"
      ]
     },
     "execution_count": 12,
     "metadata": {
      "tags": []
     },
     "output_type": "execute_result"
    }
   ],
   "source": [
    "pharma_data.isnull().sum()"
   ]
  },
  {
   "cell_type": "code",
   "execution_count": null,
   "metadata": {
    "colab": {
     "base_uri": "https://localhost:8080/",
     "height": 1000
    },
    "colab_type": "code",
    "id": "NOrBJVXDcW2Z",
    "outputId": "7d93ed2f-6b4a-4d0b-fd76-7ef877d1fa87"
   },
   "outputs": [
    {
     "data": {
      "text/html": [
       "<div>\n",
       "<style scoped>\n",
       "    .dataframe tbody tr th:only-of-type {\n",
       "        vertical-align: middle;\n",
       "    }\n",
       "\n",
       "    .dataframe tbody tr th {\n",
       "        vertical-align: top;\n",
       "    }\n",
       "\n",
       "    .dataframe thead th {\n",
       "        text-align: right;\n",
       "    }\n",
       "</style>\n",
       "<table border=\"1\" class=\"dataframe\">\n",
       "  <thead>\n",
       "    <tr style=\"text-align: right;\">\n",
       "      <th></th>\n",
       "      <th>ID_Patient_Care_Situation</th>\n",
       "      <th>Diagnosed_Condition</th>\n",
       "      <th>Patient_ID</th>\n",
       "      <th>Treated_with_drugs</th>\n",
       "      <th>Patient_Age</th>\n",
       "      <th>Patient_Body_Mass_Index</th>\n",
       "      <th>Patient_Smoker</th>\n",
       "      <th>Patient_Rural_Urban</th>\n",
       "      <th>Patient_mental_condition</th>\n",
       "      <th>A</th>\n",
       "      <th>B</th>\n",
       "      <th>C</th>\n",
       "      <th>D</th>\n",
       "      <th>E</th>\n",
       "      <th>F</th>\n",
       "      <th>Z</th>\n",
       "      <th>Number_of_prev_cond</th>\n",
       "      <th>Survived_1_year</th>\n",
       "    </tr>\n",
       "  </thead>\n",
       "  <tbody>\n",
       "    <tr>\n",
       "      <th>0</th>\n",
       "      <td>22374</td>\n",
       "      <td>8</td>\n",
       "      <td>3333</td>\n",
       "      <td>DX6</td>\n",
       "      <td>56</td>\n",
       "      <td>18.479385</td>\n",
       "      <td>YES</td>\n",
       "      <td>URBAN</td>\n",
       "      <td>Stable</td>\n",
       "      <td>1.0</td>\n",
       "      <td>0.0</td>\n",
       "      <td>0.0</td>\n",
       "      <td>0.0</td>\n",
       "      <td>1.0</td>\n",
       "      <td>0.0</td>\n",
       "      <td>0.0</td>\n",
       "      <td>2.0</td>\n",
       "      <td>0</td>\n",
       "    </tr>\n",
       "    <tr>\n",
       "      <th>1</th>\n",
       "      <td>18164</td>\n",
       "      <td>5</td>\n",
       "      <td>5740</td>\n",
       "      <td>DX2</td>\n",
       "      <td>36</td>\n",
       "      <td>22.945566</td>\n",
       "      <td>YES</td>\n",
       "      <td>RURAL</td>\n",
       "      <td>Stable</td>\n",
       "      <td>1.0</td>\n",
       "      <td>0.0</td>\n",
       "      <td>0.0</td>\n",
       "      <td>0.0</td>\n",
       "      <td>0.0</td>\n",
       "      <td>0.0</td>\n",
       "      <td>0.0</td>\n",
       "      <td>1.0</td>\n",
       "      <td>1</td>\n",
       "    </tr>\n",
       "    <tr>\n",
       "      <th>2</th>\n",
       "      <td>6283</td>\n",
       "      <td>23</td>\n",
       "      <td>10446</td>\n",
       "      <td>DX6</td>\n",
       "      <td>48</td>\n",
       "      <td>27.510027</td>\n",
       "      <td>YES</td>\n",
       "      <td>RURAL</td>\n",
       "      <td>Stable</td>\n",
       "      <td>1.0</td>\n",
       "      <td>0.0</td>\n",
       "      <td>0.0</td>\n",
       "      <td>0.0</td>\n",
       "      <td>0.0</td>\n",
       "      <td>0.0</td>\n",
       "      <td>0.0</td>\n",
       "      <td>1.0</td>\n",
       "      <td>0</td>\n",
       "    </tr>\n",
       "    <tr>\n",
       "      <th>3</th>\n",
       "      <td>5339</td>\n",
       "      <td>51</td>\n",
       "      <td>12011</td>\n",
       "      <td>DX1</td>\n",
       "      <td>5</td>\n",
       "      <td>19.130976</td>\n",
       "      <td>NO</td>\n",
       "      <td>URBAN</td>\n",
       "      <td>Stable</td>\n",
       "      <td>1.0</td>\n",
       "      <td>0.0</td>\n",
       "      <td>0.0</td>\n",
       "      <td>0.0</td>\n",
       "      <td>0.0</td>\n",
       "      <td>0.0</td>\n",
       "      <td>0.0</td>\n",
       "      <td>1.0</td>\n",
       "      <td>1</td>\n",
       "    </tr>\n",
       "    <tr>\n",
       "      <th>4</th>\n",
       "      <td>33012</td>\n",
       "      <td>0</td>\n",
       "      <td>12513</td>\n",
       "      <td>NaN</td>\n",
       "      <td>128</td>\n",
       "      <td>1.348400</td>\n",
       "      <td>Cannot say</td>\n",
       "      <td>RURAL</td>\n",
       "      <td>Stable</td>\n",
       "      <td>0.0</td>\n",
       "      <td>0.0</td>\n",
       "      <td>0.0</td>\n",
       "      <td>0.0</td>\n",
       "      <td>0.0</td>\n",
       "      <td>0.0</td>\n",
       "      <td>1.0</td>\n",
       "      <td>1.0</td>\n",
       "      <td>1</td>\n",
       "    </tr>\n",
       "    <tr>\n",
       "      <th>5</th>\n",
       "      <td>10808</td>\n",
       "      <td>45</td>\n",
       "      <td>7977</td>\n",
       "      <td>DX6</td>\n",
       "      <td>47</td>\n",
       "      <td>26.155120</td>\n",
       "      <td>YES</td>\n",
       "      <td>URBAN</td>\n",
       "      <td>Stable</td>\n",
       "      <td>1.0</td>\n",
       "      <td>0.0</td>\n",
       "      <td>0.0</td>\n",
       "      <td>0.0</td>\n",
       "      <td>0.0</td>\n",
       "      <td>0.0</td>\n",
       "      <td>0.0</td>\n",
       "      <td>1.0</td>\n",
       "      <td>0</td>\n",
       "    </tr>\n",
       "    <tr>\n",
       "      <th>6</th>\n",
       "      <td>5138</td>\n",
       "      <td>52</td>\n",
       "      <td>5296</td>\n",
       "      <td>DX3</td>\n",
       "      <td>53</td>\n",
       "      <td>19.103244</td>\n",
       "      <td>NO</td>\n",
       "      <td>RURAL</td>\n",
       "      <td>Stable</td>\n",
       "      <td>1.0</td>\n",
       "      <td>0.0</td>\n",
       "      <td>0.0</td>\n",
       "      <td>0.0</td>\n",
       "      <td>1.0</td>\n",
       "      <td>0.0</td>\n",
       "      <td>0.0</td>\n",
       "      <td>2.0</td>\n",
       "      <td>1</td>\n",
       "    </tr>\n",
       "    <tr>\n",
       "      <th>7</th>\n",
       "      <td>17265</td>\n",
       "      <td>9</td>\n",
       "      <td>5947</td>\n",
       "      <td>DX5</td>\n",
       "      <td>3</td>\n",
       "      <td>18.126976</td>\n",
       "      <td>NO</td>\n",
       "      <td>URBAN</td>\n",
       "      <td>Stable</td>\n",
       "      <td>1.0</td>\n",
       "      <td>0.0</td>\n",
       "      <td>0.0</td>\n",
       "      <td>0.0</td>\n",
       "      <td>1.0</td>\n",
       "      <td>0.0</td>\n",
       "      <td>0.0</td>\n",
       "      <td>2.0</td>\n",
       "      <td>0</td>\n",
       "    </tr>\n",
       "    <tr>\n",
       "      <th>8</th>\n",
       "      <td>24349</td>\n",
       "      <td>47</td>\n",
       "      <td>6585</td>\n",
       "      <td>DX4</td>\n",
       "      <td>62</td>\n",
       "      <td>25.074482</td>\n",
       "      <td>NO</td>\n",
       "      <td>URBAN</td>\n",
       "      <td>Stable</td>\n",
       "      <td>1.0</td>\n",
       "      <td>0.0</td>\n",
       "      <td>0.0</td>\n",
       "      <td>0.0</td>\n",
       "      <td>0.0</td>\n",
       "      <td>0.0</td>\n",
       "      <td>0.0</td>\n",
       "      <td>1.0</td>\n",
       "      <td>1</td>\n",
       "    </tr>\n",
       "    <tr>\n",
       "      <th>9</th>\n",
       "      <td>1647</td>\n",
       "      <td>17</td>\n",
       "      <td>10190</td>\n",
       "      <td>DX6</td>\n",
       "      <td>46</td>\n",
       "      <td>17.663877</td>\n",
       "      <td>NO</td>\n",
       "      <td>RURAL</td>\n",
       "      <td>Stable</td>\n",
       "      <td>1.0</td>\n",
       "      <td>0.0</td>\n",
       "      <td>0.0</td>\n",
       "      <td>0.0</td>\n",
       "      <td>1.0</td>\n",
       "      <td>0.0</td>\n",
       "      <td>0.0</td>\n",
       "      <td>2.0</td>\n",
       "      <td>1</td>\n",
       "    </tr>\n",
       "    <tr>\n",
       "      <th>10</th>\n",
       "      <td>14892</td>\n",
       "      <td>8</td>\n",
       "      <td>9461</td>\n",
       "      <td>DX6</td>\n",
       "      <td>60</td>\n",
       "      <td>18.690567</td>\n",
       "      <td>YES</td>\n",
       "      <td>URBAN</td>\n",
       "      <td>Stable</td>\n",
       "      <td>1.0</td>\n",
       "      <td>1.0</td>\n",
       "      <td>0.0</td>\n",
       "      <td>0.0</td>\n",
       "      <td>0.0</td>\n",
       "      <td>0.0</td>\n",
       "      <td>0.0</td>\n",
       "      <td>2.0</td>\n",
       "      <td>0</td>\n",
       "    </tr>\n",
       "    <tr>\n",
       "      <th>11</th>\n",
       "      <td>23133</td>\n",
       "      <td>15</td>\n",
       "      <td>4975</td>\n",
       "      <td>DX6</td>\n",
       "      <td>26</td>\n",
       "      <td>23.968051</td>\n",
       "      <td>YES</td>\n",
       "      <td>RURAL</td>\n",
       "      <td>Stable</td>\n",
       "      <td>1.0</td>\n",
       "      <td>0.0</td>\n",
       "      <td>0.0</td>\n",
       "      <td>0.0</td>\n",
       "      <td>1.0</td>\n",
       "      <td>0.0</td>\n",
       "      <td>0.0</td>\n",
       "      <td>2.0</td>\n",
       "      <td>1</td>\n",
       "    </tr>\n",
       "    <tr>\n",
       "      <th>12</th>\n",
       "      <td>2372</td>\n",
       "      <td>35</td>\n",
       "      <td>8995</td>\n",
       "      <td>DX5</td>\n",
       "      <td>41</td>\n",
       "      <td>23.435484</td>\n",
       "      <td>YES</td>\n",
       "      <td>RURAL</td>\n",
       "      <td>Stable</td>\n",
       "      <td>1.0</td>\n",
       "      <td>0.0</td>\n",
       "      <td>0.0</td>\n",
       "      <td>1.0</td>\n",
       "      <td>1.0</td>\n",
       "      <td>0.0</td>\n",
       "      <td>0.0</td>\n",
       "      <td>3.0</td>\n",
       "      <td>0</td>\n",
       "    </tr>\n",
       "    <tr>\n",
       "      <th>13</th>\n",
       "      <td>14658</td>\n",
       "      <td>44</td>\n",
       "      <td>971</td>\n",
       "      <td>DX5</td>\n",
       "      <td>23</td>\n",
       "      <td>17.039536</td>\n",
       "      <td>NO</td>\n",
       "      <td>RURAL</td>\n",
       "      <td>Stable</td>\n",
       "      <td>1.0</td>\n",
       "      <td>1.0</td>\n",
       "      <td>0.0</td>\n",
       "      <td>0.0</td>\n",
       "      <td>0.0</td>\n",
       "      <td>0.0</td>\n",
       "      <td>0.0</td>\n",
       "      <td>2.0</td>\n",
       "      <td>1</td>\n",
       "    </tr>\n",
       "    <tr>\n",
       "      <th>14</th>\n",
       "      <td>24920</td>\n",
       "      <td>37</td>\n",
       "      <td>4704</td>\n",
       "      <td>DX1</td>\n",
       "      <td>22</td>\n",
       "      <td>27.741955</td>\n",
       "      <td>YES</td>\n",
       "      <td>URBAN</td>\n",
       "      <td>Stable</td>\n",
       "      <td>1.0</td>\n",
       "      <td>0.0</td>\n",
       "      <td>0.0</td>\n",
       "      <td>0.0</td>\n",
       "      <td>1.0</td>\n",
       "      <td>0.0</td>\n",
       "      <td>0.0</td>\n",
       "      <td>2.0</td>\n",
       "      <td>1</td>\n",
       "    </tr>\n",
       "    <tr>\n",
       "      <th>15</th>\n",
       "      <td>2278</td>\n",
       "      <td>17</td>\n",
       "      <td>4567</td>\n",
       "      <td>DX6</td>\n",
       "      <td>62</td>\n",
       "      <td>24.551475</td>\n",
       "      <td>YES</td>\n",
       "      <td>RURAL</td>\n",
       "      <td>Stable</td>\n",
       "      <td>1.0</td>\n",
       "      <td>0.0</td>\n",
       "      <td>0.0</td>\n",
       "      <td>0.0</td>\n",
       "      <td>0.0</td>\n",
       "      <td>0.0</td>\n",
       "      <td>0.0</td>\n",
       "      <td>1.0</td>\n",
       "      <td>0</td>\n",
       "    </tr>\n",
       "    <tr>\n",
       "      <th>16</th>\n",
       "      <td>26360</td>\n",
       "      <td>14</td>\n",
       "      <td>7476</td>\n",
       "      <td>DX5</td>\n",
       "      <td>58</td>\n",
       "      <td>29.800110</td>\n",
       "      <td>NO</td>\n",
       "      <td>RURAL</td>\n",
       "      <td>Stable</td>\n",
       "      <td>1.0</td>\n",
       "      <td>0.0</td>\n",
       "      <td>0.0</td>\n",
       "      <td>0.0</td>\n",
       "      <td>0.0</td>\n",
       "      <td>0.0</td>\n",
       "      <td>0.0</td>\n",
       "      <td>1.0</td>\n",
       "      <td>1</td>\n",
       "    </tr>\n",
       "    <tr>\n",
       "      <th>17</th>\n",
       "      <td>7771</td>\n",
       "      <td>14</td>\n",
       "      <td>9407</td>\n",
       "      <td>DX6</td>\n",
       "      <td>28</td>\n",
       "      <td>23.769079</td>\n",
       "      <td>NO</td>\n",
       "      <td>RURAL</td>\n",
       "      <td>Stable</td>\n",
       "      <td>1.0</td>\n",
       "      <td>0.0</td>\n",
       "      <td>1.0</td>\n",
       "      <td>0.0</td>\n",
       "      <td>0.0</td>\n",
       "      <td>0.0</td>\n",
       "      <td>0.0</td>\n",
       "      <td>2.0</td>\n",
       "      <td>1</td>\n",
       "    </tr>\n",
       "    <tr>\n",
       "      <th>18</th>\n",
       "      <td>298</td>\n",
       "      <td>14</td>\n",
       "      <td>8051</td>\n",
       "      <td>DX6</td>\n",
       "      <td>15</td>\n",
       "      <td>20.742822</td>\n",
       "      <td>NO</td>\n",
       "      <td>RURAL</td>\n",
       "      <td>Stable</td>\n",
       "      <td>1.0</td>\n",
       "      <td>0.0</td>\n",
       "      <td>1.0</td>\n",
       "      <td>0.0</td>\n",
       "      <td>1.0</td>\n",
       "      <td>1.0</td>\n",
       "      <td>0.0</td>\n",
       "      <td>4.0</td>\n",
       "      <td>1</td>\n",
       "    </tr>\n",
       "    <tr>\n",
       "      <th>19</th>\n",
       "      <td>30258</td>\n",
       "      <td>42</td>\n",
       "      <td>3517</td>\n",
       "      <td>DX3</td>\n",
       "      <td>22</td>\n",
       "      <td>17.637541</td>\n",
       "      <td>YES</td>\n",
       "      <td>RURAL</td>\n",
       "      <td>Stable</td>\n",
       "      <td>1.0</td>\n",
       "      <td>0.0</td>\n",
       "      <td>1.0</td>\n",
       "      <td>0.0</td>\n",
       "      <td>1.0</td>\n",
       "      <td>1.0</td>\n",
       "      <td>0.0</td>\n",
       "      <td>4.0</td>\n",
       "      <td>1</td>\n",
       "    </tr>\n",
       "    <tr>\n",
       "      <th>20</th>\n",
       "      <td>2470</td>\n",
       "      <td>12</td>\n",
       "      <td>3828</td>\n",
       "      <td>DX1</td>\n",
       "      <td>60</td>\n",
       "      <td>23.716077</td>\n",
       "      <td>NO</td>\n",
       "      <td>RURAL</td>\n",
       "      <td>Stable</td>\n",
       "      <td>1.0</td>\n",
       "      <td>0.0</td>\n",
       "      <td>0.0</td>\n",
       "      <td>0.0</td>\n",
       "      <td>1.0</td>\n",
       "      <td>0.0</td>\n",
       "      <td>0.0</td>\n",
       "      <td>2.0</td>\n",
       "      <td>1</td>\n",
       "    </tr>\n",
       "    <tr>\n",
       "      <th>21</th>\n",
       "      <td>27197</td>\n",
       "      <td>14</td>\n",
       "      <td>2609</td>\n",
       "      <td>DX6</td>\n",
       "      <td>3</td>\n",
       "      <td>20.541924</td>\n",
       "      <td>NO</td>\n",
       "      <td>URBAN</td>\n",
       "      <td>Stable</td>\n",
       "      <td>0.0</td>\n",
       "      <td>1.0</td>\n",
       "      <td>0.0</td>\n",
       "      <td>0.0</td>\n",
       "      <td>1.0</td>\n",
       "      <td>0.0</td>\n",
       "      <td>0.0</td>\n",
       "      <td>2.0</td>\n",
       "      <td>1</td>\n",
       "    </tr>\n",
       "    <tr>\n",
       "      <th>22</th>\n",
       "      <td>16569</td>\n",
       "      <td>21</td>\n",
       "      <td>9215</td>\n",
       "      <td>DX6</td>\n",
       "      <td>2</td>\n",
       "      <td>24.013432</td>\n",
       "      <td>NO</td>\n",
       "      <td>RURAL</td>\n",
       "      <td>Stable</td>\n",
       "      <td>1.0</td>\n",
       "      <td>0.0</td>\n",
       "      <td>1.0</td>\n",
       "      <td>1.0</td>\n",
       "      <td>0.0</td>\n",
       "      <td>0.0</td>\n",
       "      <td>0.0</td>\n",
       "      <td>3.0</td>\n",
       "      <td>0</td>\n",
       "    </tr>\n",
       "    <tr>\n",
       "      <th>23</th>\n",
       "      <td>744</td>\n",
       "      <td>29</td>\n",
       "      <td>11884</td>\n",
       "      <td>DX6</td>\n",
       "      <td>42</td>\n",
       "      <td>23.061529</td>\n",
       "      <td>NO</td>\n",
       "      <td>RURAL</td>\n",
       "      <td>Stable</td>\n",
       "      <td>1.0</td>\n",
       "      <td>0.0</td>\n",
       "      <td>0.0</td>\n",
       "      <td>0.0</td>\n",
       "      <td>0.0</td>\n",
       "      <td>0.0</td>\n",
       "      <td>0.0</td>\n",
       "      <td>1.0</td>\n",
       "      <td>1</td>\n",
       "    </tr>\n",
       "    <tr>\n",
       "      <th>24</th>\n",
       "      <td>25672</td>\n",
       "      <td>43</td>\n",
       "      <td>9680</td>\n",
       "      <td>DX2 DX5</td>\n",
       "      <td>29</td>\n",
       "      <td>25.329885</td>\n",
       "      <td>YES</td>\n",
       "      <td>RURAL</td>\n",
       "      <td>Stable</td>\n",
       "      <td>1.0</td>\n",
       "      <td>0.0</td>\n",
       "      <td>0.0</td>\n",
       "      <td>0.0</td>\n",
       "      <td>0.0</td>\n",
       "      <td>0.0</td>\n",
       "      <td>0.0</td>\n",
       "      <td>1.0</td>\n",
       "      <td>1</td>\n",
       "    </tr>\n",
       "    <tr>\n",
       "      <th>25</th>\n",
       "      <td>9724</td>\n",
       "      <td>18</td>\n",
       "      <td>9093</td>\n",
       "      <td>DX6</td>\n",
       "      <td>31</td>\n",
       "      <td>22.568115</td>\n",
       "      <td>YES</td>\n",
       "      <td>RURAL</td>\n",
       "      <td>Stable</td>\n",
       "      <td>1.0</td>\n",
       "      <td>0.0</td>\n",
       "      <td>0.0</td>\n",
       "      <td>0.0</td>\n",
       "      <td>1.0</td>\n",
       "      <td>0.0</td>\n",
       "      <td>0.0</td>\n",
       "      <td>2.0</td>\n",
       "      <td>0</td>\n",
       "    </tr>\n",
       "    <tr>\n",
       "      <th>26</th>\n",
       "      <td>1658</td>\n",
       "      <td>45</td>\n",
       "      <td>4582</td>\n",
       "      <td>DX6</td>\n",
       "      <td>14</td>\n",
       "      <td>22.380883</td>\n",
       "      <td>NO</td>\n",
       "      <td>RURAL</td>\n",
       "      <td>Stable</td>\n",
       "      <td>1.0</td>\n",
       "      <td>0.0</td>\n",
       "      <td>0.0</td>\n",
       "      <td>0.0</td>\n",
       "      <td>0.0</td>\n",
       "      <td>0.0</td>\n",
       "      <td>0.0</td>\n",
       "      <td>1.0</td>\n",
       "      <td>1</td>\n",
       "    </tr>\n",
       "    <tr>\n",
       "      <th>27</th>\n",
       "      <td>4691</td>\n",
       "      <td>31</td>\n",
       "      <td>4500</td>\n",
       "      <td>DX2</td>\n",
       "      <td>44</td>\n",
       "      <td>27.935658</td>\n",
       "      <td>YES</td>\n",
       "      <td>URBAN</td>\n",
       "      <td>Stable</td>\n",
       "      <td>NaN</td>\n",
       "      <td>NaN</td>\n",
       "      <td>NaN</td>\n",
       "      <td>NaN</td>\n",
       "      <td>NaN</td>\n",
       "      <td>NaN</td>\n",
       "      <td>NaN</td>\n",
       "      <td>NaN</td>\n",
       "      <td>0</td>\n",
       "    </tr>\n",
       "    <tr>\n",
       "      <th>28</th>\n",
       "      <td>15577</td>\n",
       "      <td>20</td>\n",
       "      <td>9808</td>\n",
       "      <td>DX2 DX3</td>\n",
       "      <td>16</td>\n",
       "      <td>22.155320</td>\n",
       "      <td>YES</td>\n",
       "      <td>RURAL</td>\n",
       "      <td>Stable</td>\n",
       "      <td>1.0</td>\n",
       "      <td>0.0</td>\n",
       "      <td>1.0</td>\n",
       "      <td>0.0</td>\n",
       "      <td>0.0</td>\n",
       "      <td>0.0</td>\n",
       "      <td>0.0</td>\n",
       "      <td>2.0</td>\n",
       "      <td>1</td>\n",
       "    </tr>\n",
       "    <tr>\n",
       "      <th>29</th>\n",
       "      <td>21380</td>\n",
       "      <td>1</td>\n",
       "      <td>7256</td>\n",
       "      <td>DX5</td>\n",
       "      <td>19</td>\n",
       "      <td>29.638047</td>\n",
       "      <td>NO</td>\n",
       "      <td>URBAN</td>\n",
       "      <td>Stable</td>\n",
       "      <td>1.0</td>\n",
       "      <td>0.0</td>\n",
       "      <td>0.0</td>\n",
       "      <td>0.0</td>\n",
       "      <td>0.0</td>\n",
       "      <td>0.0</td>\n",
       "      <td>0.0</td>\n",
       "      <td>1.0</td>\n",
       "      <td>1</td>\n",
       "    </tr>\n",
       "    <tr>\n",
       "      <th>30</th>\n",
       "      <td>12444</td>\n",
       "      <td>23</td>\n",
       "      <td>946</td>\n",
       "      <td>DX2</td>\n",
       "      <td>11</td>\n",
       "      <td>22.574984</td>\n",
       "      <td>NO</td>\n",
       "      <td>RURAL</td>\n",
       "      <td>Stable</td>\n",
       "      <td>1.0</td>\n",
       "      <td>0.0</td>\n",
       "      <td>0.0</td>\n",
       "      <td>0.0</td>\n",
       "      <td>0.0</td>\n",
       "      <td>0.0</td>\n",
       "      <td>0.0</td>\n",
       "      <td>1.0</td>\n",
       "      <td>1</td>\n",
       "    </tr>\n",
       "    <tr>\n",
       "      <th>31</th>\n",
       "      <td>7688</td>\n",
       "      <td>1</td>\n",
       "      <td>5881</td>\n",
       "      <td>DX3</td>\n",
       "      <td>29</td>\n",
       "      <td>20.723332</td>\n",
       "      <td>YES</td>\n",
       "      <td>URBAN</td>\n",
       "      <td>Stable</td>\n",
       "      <td>1.0</td>\n",
       "      <td>0.0</td>\n",
       "      <td>0.0</td>\n",
       "      <td>0.0</td>\n",
       "      <td>0.0</td>\n",
       "      <td>1.0</td>\n",
       "      <td>0.0</td>\n",
       "      <td>2.0</td>\n",
       "      <td>1</td>\n",
       "    </tr>\n",
       "    <tr>\n",
       "      <th>32</th>\n",
       "      <td>8165</td>\n",
       "      <td>40</td>\n",
       "      <td>8908</td>\n",
       "      <td>DX5</td>\n",
       "      <td>58</td>\n",
       "      <td>18.477448</td>\n",
       "      <td>NO</td>\n",
       "      <td>RURAL</td>\n",
       "      <td>Stable</td>\n",
       "      <td>0.0</td>\n",
       "      <td>0.0</td>\n",
       "      <td>0.0</td>\n",
       "      <td>0.0</td>\n",
       "      <td>1.0</td>\n",
       "      <td>0.0</td>\n",
       "      <td>0.0</td>\n",
       "      <td>1.0</td>\n",
       "      <td>1</td>\n",
       "    </tr>\n",
       "    <tr>\n",
       "      <th>33</th>\n",
       "      <td>13063</td>\n",
       "      <td>29</td>\n",
       "      <td>979</td>\n",
       "      <td>DX2</td>\n",
       "      <td>40</td>\n",
       "      <td>25.216055</td>\n",
       "      <td>YES</td>\n",
       "      <td>URBAN</td>\n",
       "      <td>Stable</td>\n",
       "      <td>1.0</td>\n",
       "      <td>0.0</td>\n",
       "      <td>1.0</td>\n",
       "      <td>0.0</td>\n",
       "      <td>0.0</td>\n",
       "      <td>0.0</td>\n",
       "      <td>0.0</td>\n",
       "      <td>2.0</td>\n",
       "      <td>0</td>\n",
       "    </tr>\n",
       "    <tr>\n",
       "      <th>34</th>\n",
       "      <td>18320</td>\n",
       "      <td>48</td>\n",
       "      <td>722</td>\n",
       "      <td>DX4</td>\n",
       "      <td>62</td>\n",
       "      <td>18.500535</td>\n",
       "      <td>YES</td>\n",
       "      <td>RURAL</td>\n",
       "      <td>Stable</td>\n",
       "      <td>0.0</td>\n",
       "      <td>1.0</td>\n",
       "      <td>0.0</td>\n",
       "      <td>0.0</td>\n",
       "      <td>0.0</td>\n",
       "      <td>1.0</td>\n",
       "      <td>0.0</td>\n",
       "      <td>2.0</td>\n",
       "      <td>0</td>\n",
       "    </tr>\n",
       "    <tr>\n",
       "      <th>35</th>\n",
       "      <td>22915</td>\n",
       "      <td>52</td>\n",
       "      <td>616</td>\n",
       "      <td>DX6</td>\n",
       "      <td>31</td>\n",
       "      <td>28.168665</td>\n",
       "      <td>YES</td>\n",
       "      <td>RURAL</td>\n",
       "      <td>Stable</td>\n",
       "      <td>0.0</td>\n",
       "      <td>0.0</td>\n",
       "      <td>0.0</td>\n",
       "      <td>0.0</td>\n",
       "      <td>1.0</td>\n",
       "      <td>0.0</td>\n",
       "      <td>0.0</td>\n",
       "      <td>1.0</td>\n",
       "      <td>0</td>\n",
       "    </tr>\n",
       "    <tr>\n",
       "      <th>36</th>\n",
       "      <td>4869</td>\n",
       "      <td>28</td>\n",
       "      <td>6826</td>\n",
       "      <td>DX1</td>\n",
       "      <td>4</td>\n",
       "      <td>17.342624</td>\n",
       "      <td>NO</td>\n",
       "      <td>URBAN</td>\n",
       "      <td>Stable</td>\n",
       "      <td>NaN</td>\n",
       "      <td>NaN</td>\n",
       "      <td>NaN</td>\n",
       "      <td>NaN</td>\n",
       "      <td>NaN</td>\n",
       "      <td>NaN</td>\n",
       "      <td>NaN</td>\n",
       "      <td>NaN</td>\n",
       "      <td>0</td>\n",
       "    </tr>\n",
       "    <tr>\n",
       "      <th>37</th>\n",
       "      <td>10632</td>\n",
       "      <td>20</td>\n",
       "      <td>9323</td>\n",
       "      <td>DX1 DX3</td>\n",
       "      <td>26</td>\n",
       "      <td>22.833344</td>\n",
       "      <td>YES</td>\n",
       "      <td>RURAL</td>\n",
       "      <td>Stable</td>\n",
       "      <td>1.0</td>\n",
       "      <td>0.0</td>\n",
       "      <td>0.0</td>\n",
       "      <td>0.0</td>\n",
       "      <td>0.0</td>\n",
       "      <td>0.0</td>\n",
       "      <td>0.0</td>\n",
       "      <td>1.0</td>\n",
       "      <td>1</td>\n",
       "    </tr>\n",
       "    <tr>\n",
       "      <th>38</th>\n",
       "      <td>1728</td>\n",
       "      <td>31</td>\n",
       "      <td>2798</td>\n",
       "      <td>DX1</td>\n",
       "      <td>29</td>\n",
       "      <td>18.011733</td>\n",
       "      <td>YES</td>\n",
       "      <td>URBAN</td>\n",
       "      <td>Stable</td>\n",
       "      <td>1.0</td>\n",
       "      <td>0.0</td>\n",
       "      <td>0.0</td>\n",
       "      <td>0.0</td>\n",
       "      <td>1.0</td>\n",
       "      <td>0.0</td>\n",
       "      <td>0.0</td>\n",
       "      <td>2.0</td>\n",
       "      <td>0</td>\n",
       "    </tr>\n",
       "    <tr>\n",
       "      <th>39</th>\n",
       "      <td>8280</td>\n",
       "      <td>16</td>\n",
       "      <td>9167</td>\n",
       "      <td>DX1</td>\n",
       "      <td>58</td>\n",
       "      <td>24.901469</td>\n",
       "      <td>YES</td>\n",
       "      <td>RURAL</td>\n",
       "      <td>Stable</td>\n",
       "      <td>1.0</td>\n",
       "      <td>0.0</td>\n",
       "      <td>0.0</td>\n",
       "      <td>0.0</td>\n",
       "      <td>0.0</td>\n",
       "      <td>0.0</td>\n",
       "      <td>0.0</td>\n",
       "      <td>1.0</td>\n",
       "      <td>1</td>\n",
       "    </tr>\n",
       "  </tbody>\n",
       "</table>\n",
       "</div>"
      ],
      "text/plain": [
       "    ID_Patient_Care_Situation  Diagnosed_Condition  Patient_ID  \\\n",
       "0                       22374                    8        3333   \n",
       "1                       18164                    5        5740   \n",
       "2                        6283                   23       10446   \n",
       "3                        5339                   51       12011   \n",
       "4                       33012                    0       12513   \n",
       "5                       10808                   45        7977   \n",
       "6                        5138                   52        5296   \n",
       "7                       17265                    9        5947   \n",
       "8                       24349                   47        6585   \n",
       "9                        1647                   17       10190   \n",
       "10                      14892                    8        9461   \n",
       "11                      23133                   15        4975   \n",
       "12                       2372                   35        8995   \n",
       "13                      14658                   44         971   \n",
       "14                      24920                   37        4704   \n",
       "15                       2278                   17        4567   \n",
       "16                      26360                   14        7476   \n",
       "17                       7771                   14        9407   \n",
       "18                        298                   14        8051   \n",
       "19                      30258                   42        3517   \n",
       "20                       2470                   12        3828   \n",
       "21                      27197                   14        2609   \n",
       "22                      16569                   21        9215   \n",
       "23                        744                   29       11884   \n",
       "24                      25672                   43        9680   \n",
       "25                       9724                   18        9093   \n",
       "26                       1658                   45        4582   \n",
       "27                       4691                   31        4500   \n",
       "28                      15577                   20        9808   \n",
       "29                      21380                    1        7256   \n",
       "30                      12444                   23         946   \n",
       "31                       7688                    1        5881   \n",
       "32                       8165                   40        8908   \n",
       "33                      13063                   29         979   \n",
       "34                      18320                   48         722   \n",
       "35                      22915                   52         616   \n",
       "36                       4869                   28        6826   \n",
       "37                      10632                   20        9323   \n",
       "38                       1728                   31        2798   \n",
       "39                       8280                   16        9167   \n",
       "\n",
       "   Treated_with_drugs  Patient_Age  Patient_Body_Mass_Index Patient_Smoker  \\\n",
       "0                 DX6           56                18.479385            YES   \n",
       "1                DX2            36                22.945566            YES   \n",
       "2                 DX6           48                27.510027            YES   \n",
       "3                DX1             5                19.130976             NO   \n",
       "4                 NaN          128                 1.348400     Cannot say   \n",
       "5                 DX6           47                26.155120            YES   \n",
       "6                DX3            53                19.103244             NO   \n",
       "7                DX5             3                18.126976             NO   \n",
       "8                DX4            62                25.074482             NO   \n",
       "9                 DX6           46                17.663877             NO   \n",
       "10                DX6           60                18.690567            YES   \n",
       "11                DX6           26                23.968051            YES   \n",
       "12               DX5            41                23.435484            YES   \n",
       "13               DX5            23                17.039536             NO   \n",
       "14               DX1            22                27.741955            YES   \n",
       "15                DX6           62                24.551475            YES   \n",
       "16               DX5            58                29.800110             NO   \n",
       "17                DX6           28                23.769079             NO   \n",
       "18                DX6           15                20.742822             NO   \n",
       "19               DX3            22                17.637541            YES   \n",
       "20               DX1            60                23.716077             NO   \n",
       "21                DX6            3                20.541924             NO   \n",
       "22                DX6            2                24.013432             NO   \n",
       "23                DX6           42                23.061529             NO   \n",
       "24           DX2 DX5            29                25.329885            YES   \n",
       "25                DX6           31                22.568115            YES   \n",
       "26                DX6           14                22.380883             NO   \n",
       "27               DX2            44                27.935658            YES   \n",
       "28           DX2 DX3            16                22.155320            YES   \n",
       "29               DX5            19                29.638047             NO   \n",
       "30               DX2            11                22.574984             NO   \n",
       "31               DX3            29                20.723332            YES   \n",
       "32               DX5            58                18.477448             NO   \n",
       "33               DX2            40                25.216055            YES   \n",
       "34               DX4            62                18.500535            YES   \n",
       "35                DX6           31                28.168665            YES   \n",
       "36               DX1             4                17.342624             NO   \n",
       "37           DX1 DX3            26                22.833344            YES   \n",
       "38               DX1            29                18.011733            YES   \n",
       "39               DX1            58                24.901469            YES   \n",
       "\n",
       "   Patient_Rural_Urban Patient_mental_condition    A    B    C    D    E    F  \\\n",
       "0                URBAN                   Stable  1.0  0.0  0.0  0.0  1.0  0.0   \n",
       "1                RURAL                   Stable  1.0  0.0  0.0  0.0  0.0  0.0   \n",
       "2                RURAL                   Stable  1.0  0.0  0.0  0.0  0.0  0.0   \n",
       "3                URBAN                   Stable  1.0  0.0  0.0  0.0  0.0  0.0   \n",
       "4                RURAL                   Stable  0.0  0.0  0.0  0.0  0.0  0.0   \n",
       "5                URBAN                   Stable  1.0  0.0  0.0  0.0  0.0  0.0   \n",
       "6                RURAL                   Stable  1.0  0.0  0.0  0.0  1.0  0.0   \n",
       "7                URBAN                   Stable  1.0  0.0  0.0  0.0  1.0  0.0   \n",
       "8                URBAN                   Stable  1.0  0.0  0.0  0.0  0.0  0.0   \n",
       "9                RURAL                   Stable  1.0  0.0  0.0  0.0  1.0  0.0   \n",
       "10               URBAN                   Stable  1.0  1.0  0.0  0.0  0.0  0.0   \n",
       "11               RURAL                   Stable  1.0  0.0  0.0  0.0  1.0  0.0   \n",
       "12               RURAL                   Stable  1.0  0.0  0.0  1.0  1.0  0.0   \n",
       "13               RURAL                   Stable  1.0  1.0  0.0  0.0  0.0  0.0   \n",
       "14               URBAN                   Stable  1.0  0.0  0.0  0.0  1.0  0.0   \n",
       "15               RURAL                   Stable  1.0  0.0  0.0  0.0  0.0  0.0   \n",
       "16               RURAL                   Stable  1.0  0.0  0.0  0.0  0.0  0.0   \n",
       "17               RURAL                   Stable  1.0  0.0  1.0  0.0  0.0  0.0   \n",
       "18               RURAL                   Stable  1.0  0.0  1.0  0.0  1.0  1.0   \n",
       "19               RURAL                   Stable  1.0  0.0  1.0  0.0  1.0  1.0   \n",
       "20               RURAL                   Stable  1.0  0.0  0.0  0.0  1.0  0.0   \n",
       "21               URBAN                   Stable  0.0  1.0  0.0  0.0  1.0  0.0   \n",
       "22               RURAL                   Stable  1.0  0.0  1.0  1.0  0.0  0.0   \n",
       "23               RURAL                   Stable  1.0  0.0  0.0  0.0  0.0  0.0   \n",
       "24               RURAL                   Stable  1.0  0.0  0.0  0.0  0.0  0.0   \n",
       "25               RURAL                   Stable  1.0  0.0  0.0  0.0  1.0  0.0   \n",
       "26               RURAL                   Stable  1.0  0.0  0.0  0.0  0.0  0.0   \n",
       "27               URBAN                   Stable  NaN  NaN  NaN  NaN  NaN  NaN   \n",
       "28               RURAL                   Stable  1.0  0.0  1.0  0.0  0.0  0.0   \n",
       "29               URBAN                   Stable  1.0  0.0  0.0  0.0  0.0  0.0   \n",
       "30               RURAL                   Stable  1.0  0.0  0.0  0.0  0.0  0.0   \n",
       "31               URBAN                   Stable  1.0  0.0  0.0  0.0  0.0  1.0   \n",
       "32               RURAL                   Stable  0.0  0.0  0.0  0.0  1.0  0.0   \n",
       "33               URBAN                   Stable  1.0  0.0  1.0  0.0  0.0  0.0   \n",
       "34               RURAL                   Stable  0.0  1.0  0.0  0.0  0.0  1.0   \n",
       "35               RURAL                   Stable  0.0  0.0  0.0  0.0  1.0  0.0   \n",
       "36               URBAN                   Stable  NaN  NaN  NaN  NaN  NaN  NaN   \n",
       "37               RURAL                   Stable  1.0  0.0  0.0  0.0  0.0  0.0   \n",
       "38               URBAN                   Stable  1.0  0.0  0.0  0.0  1.0  0.0   \n",
       "39               RURAL                   Stable  1.0  0.0  0.0  0.0  0.0  0.0   \n",
       "\n",
       "      Z  Number_of_prev_cond  Survived_1_year  \n",
       "0   0.0                  2.0                0  \n",
       "1   0.0                  1.0                1  \n",
       "2   0.0                  1.0                0  \n",
       "3   0.0                  1.0                1  \n",
       "4   1.0                  1.0                1  \n",
       "5   0.0                  1.0                0  \n",
       "6   0.0                  2.0                1  \n",
       "7   0.0                  2.0                0  \n",
       "8   0.0                  1.0                1  \n",
       "9   0.0                  2.0                1  \n",
       "10  0.0                  2.0                0  \n",
       "11  0.0                  2.0                1  \n",
       "12  0.0                  3.0                0  \n",
       "13  0.0                  2.0                1  \n",
       "14  0.0                  2.0                1  \n",
       "15  0.0                  1.0                0  \n",
       "16  0.0                  1.0                1  \n",
       "17  0.0                  2.0                1  \n",
       "18  0.0                  4.0                1  \n",
       "19  0.0                  4.0                1  \n",
       "20  0.0                  2.0                1  \n",
       "21  0.0                  2.0                1  \n",
       "22  0.0                  3.0                0  \n",
       "23  0.0                  1.0                1  \n",
       "24  0.0                  1.0                1  \n",
       "25  0.0                  2.0                0  \n",
       "26  0.0                  1.0                1  \n",
       "27  NaN                  NaN                0  \n",
       "28  0.0                  2.0                1  \n",
       "29  0.0                  1.0                1  \n",
       "30  0.0                  1.0                1  \n",
       "31  0.0                  2.0                1  \n",
       "32  0.0                  1.0                1  \n",
       "33  0.0                  2.0                0  \n",
       "34  0.0                  2.0                0  \n",
       "35  0.0                  1.0                0  \n",
       "36  NaN                  NaN                0  \n",
       "37  0.0                  1.0                1  \n",
       "38  0.0                  2.0                0  \n",
       "39  0.0                  1.0                1  "
      ]
     },
     "execution_count": 13,
     "metadata": {
      "tags": []
     },
     "output_type": "execute_result"
    }
   ],
   "source": [
    "pharma_data.head(40)"
   ]
  },
  {
   "cell_type": "code",
   "execution_count": null,
   "metadata": {
    "colab": {
     "base_uri": "https://localhost:8080/",
     "height": 68
    },
    "colab_type": "code",
    "id": "Hs8LnS07cW2u",
    "outputId": "52063be4-2371-4e11-abb3-3161dc992c78"
   },
   "outputs": [
    {
     "data": {
      "text/plain": [
       "1    14603\n",
       "0     8494\n",
       "Name: Survived_1_year, dtype: int64"
      ]
     },
     "execution_count": 14,
     "metadata": {
      "tags": []
     },
     "output_type": "execute_result"
    }
   ],
   "source": [
    "pharma_data['Survived_1_year'].value_counts(dropna = False)"
   ]
  },
  {
   "cell_type": "code",
   "execution_count": null,
   "metadata": {
    "colab": {
     "base_uri": "https://localhost:8080/",
     "height": 68
    },
    "colab_type": "code",
    "id": "Q3NNwQ1PcW3F",
    "outputId": "daad8e6b-ebab-4216-b4f4-3e4484b3edc1"
   },
   "outputs": [
    {
     "data": {
      "text/plain": [
       "1    63.22\n",
       "0    36.78\n",
       "Name: Survived_1_year, dtype: float64"
      ]
     },
     "execution_count": 15,
     "metadata": {
      "tags": []
     },
     "output_type": "execute_result"
    }
   ],
   "source": [
    "round(pharma_data['Survived_1_year'].value_counts(normalize = True)* 100, 2)"
   ]
  },
  {
   "cell_type": "code",
   "execution_count": null,
   "metadata": {
    "colab": {
     "base_uri": "https://localhost:8080/",
     "height": 285
    },
    "colab_type": "code",
    "id": "q_qNkce2cW3T",
    "outputId": "f3c854b4-33dd-4ac3-c8e5-75008e1d5542"
   },
   "outputs": [
    {
     "data": {
      "image/png": "[encoded data removed]",
      "text/plain": [
       "<Figure size 432x288 with 1 Axes>"
      ]
     },
     "metadata": {
      "tags": []
     },
     "output_type": "display_data"
    }
   ],
   "source": [
    "sns.set(style=\"darkgrid\")\n",
    "ax = sns.countplot(x='Survived_1_year',  data=pharma_data)\n",
    "plt.show()"
   ]
  },
  {
   "cell_type": "code",
   "execution_count": null,
   "metadata": {
    "colab": {
     "base_uri": "https://localhost:8080/",
     "height": 340
    },
    "colab_type": "code",
    "id": "KyOc58_mcW3h",
    "outputId": "557baf9f-11cd-401a-a7a0-5e54e77a7e00"
   },
   "outputs": [
    {
     "name": "stdout",
     "output_type": "stream",
     "text": [
      "Unique Value Count:\n",
      "ID_Patient_Care_Situation = 23097\n",
      "Diagnosed_Condition = 53\n",
      "Patient_ID = 10570\n",
      "Treated_with_drugs = 33\n",
      "Patient_Age = 78\n",
      "Patient_Body_Mass_Index = 10570\n",
      "Patient_Smoker = 3\n",
      "Patient_Rural_Urban = 2\n",
      "Patient_mental_condition = 1\n",
      "A = 3\n",
      "B = 3\n",
      "C = 3\n",
      "D = 3\n",
      "E = 3\n",
      "F = 3\n",
      "Z = 3\n",
      "Number_of_prev_cond = 6\n",
      "Survived_1_year = 2\n"
     ]
    }
   ],
   "source": [
    "print(\"Unique Value Count:\")\n",
    "cols = pharma_data.columns.tolist()\n",
    "for col in cols:\n",
    "  print(col + \" = \" + str(len(pharma_data[col].unique())))"
   ]
  },
  {
   "cell_type": "code",
   "execution_count": null,
   "metadata": {
    "colab": {
     "base_uri": "https://localhost:8080/",
     "height": 595
    },
    "colab_type": "code",
    "id": "27IclApPcW3u",
    "outputId": "d40e997b-d267-421d-8f1f-94e76fc96cb5"
   },
   "outputs": [
    {
     "data": {
      "text/plain": [
       "DX6                     8606\n",
       "DX5                     1909\n",
       "DX2                     1904\n",
       "DX1                     1835\n",
       "DX3                     1830\n",
       "DX4                     1792\n",
       "DX1 DX2                  448\n",
       "DX3 DX4                  448\n",
       "DX1 DX3                  424\n",
       "DX4 DX5                  423\n",
       "DX2 DX4                  419\n",
       "DX1 DX4                  408\n",
       "DX3 DX5                  407\n",
       "DX1 DX5                  402\n",
       "DX2 DX5                  400\n",
       "DX2 DX3                  398\n",
       "DX1 DX2 DX5              103\n",
       "DX1 DX3 DX5              101\n",
       "DX1 DX2 DX4               99\n",
       "DX3 DX4 DX5               96\n",
       "DX1 DX2 DX3               95\n",
       "DX2 DX3 DX5               91\n",
       "DX1 DX3 DX4               90\n",
       "DX2 DX3 DX4               87\n",
       "DX2 DX4 DX5               84\n",
       "DX1 DX4 DX5               80\n",
       "DX1 DX2 DX3 DX4           24\n",
       "DX1 DX3 DX4 DX5           24\n",
       "DX2 DX3 DX4 DX5           22\n",
       "DX1 DX2 DX4 DX5           18\n",
       "DX1 DX2 DX3 DX5           14\n",
       "NaN                       13\n",
       "DX1 DX2 DX3 DX4 DX5        3\n",
       "Name: Treated_with_drugs, dtype: int64"
      ]
     },
     "execution_count": 18,
     "metadata": {
      "tags": []
     },
     "output_type": "execute_result"
    }
   ],
   "source": [
    "pharma_data['Treated_with_drugs'].value_counts(dropna = False)"
   ]
  },
  {
   "cell_type": "code",
   "execution_count": null,
   "metadata": {
    "colab": {
     "base_uri": "https://localhost:8080/",
     "height": 238
    },
    "colab_type": "code",
    "id": "Py73cgoBcW5i",
    "outputId": "047b2bf6-3e55-4e05-9672-f7966b7fd939"
   },
   "outputs": [
    {
     "data": {
      "text/plain": [
       "Survived_1_year  Treated_with_drugs  \n",
       "0                DX6                     4943\n",
       "                 DX2                      549\n",
       "                 DX4                      548\n",
       "                 DX3                      479\n",
       "                 DX1                      460\n",
       "                                         ... \n",
       "1                DX1 DX3 DX4 DX5           17\n",
       "                 DX2 DX3 DX4 DX5           16\n",
       "                 DX1 DX2 DX4 DX5           13\n",
       "                 DX1 DX2 DX3 DX5           12\n",
       "                 DX1 DX2 DX3 DX4 DX5        3\n",
       "Name: Treated_with_drugs, Length: 63, dtype: int64"
      ]
     },
     "execution_count": 19,
     "metadata": {
      "tags": []
     },
     "output_type": "execute_result"
    }
   ],
   "source": [
    "pharma_data.groupby(['Survived_1_year'])['Treated_with_drugs'].value_counts()"
   ]
  },
  {
   "cell_type": "code",
   "execution_count": null,
   "metadata": {
    "colab": {
     "base_uri": "https://localhost:8080/",
     "height": 317
    },
    "colab_type": "code",
    "id": "nr3nzVZpcW6V",
    "outputId": "24653dc5-4b07-45af-8201-566c882742de"
   },
   "outputs": [
    {
     "data": {
      "text/html": [
       "<div>\n",
       "<style scoped>\n",
       "    .dataframe tbody tr th:only-of-type {\n",
       "        vertical-align: middle;\n",
       "    }\n",
       "\n",
       "    .dataframe tbody tr th {\n",
       "        vertical-align: top;\n",
       "    }\n",
       "\n",
       "    .dataframe thead th {\n",
       "        text-align: right;\n",
       "    }\n",
       "</style>\n",
       "<table border=\"1\" class=\"dataframe\">\n",
       "  <thead>\n",
       "    <tr style=\"text-align: right;\">\n",
       "      <th></th>\n",
       "      <th>ID_Patient_Care_Situation</th>\n",
       "      <th>Diagnosed_Condition</th>\n",
       "      <th>Patient_ID</th>\n",
       "      <th>Patient_Age</th>\n",
       "      <th>Patient_Body_Mass_Index</th>\n",
       "      <th>A</th>\n",
       "      <th>B</th>\n",
       "      <th>C</th>\n",
       "      <th>D</th>\n",
       "      <th>E</th>\n",
       "      <th>F</th>\n",
       "      <th>Z</th>\n",
       "      <th>Number_of_prev_cond</th>\n",
       "      <th>Survived_1_year</th>\n",
       "    </tr>\n",
       "  </thead>\n",
       "  <tbody>\n",
       "    <tr>\n",
       "      <th>count</th>\n",
       "      <td>23097.000000</td>\n",
       "      <td>23097.000000</td>\n",
       "      <td>23097.000000</td>\n",
       "      <td>23097.000000</td>\n",
       "      <td>23097.000000</td>\n",
       "      <td>21862.000000</td>\n",
       "      <td>21862.000000</td>\n",
       "      <td>21862.000000</td>\n",
       "      <td>21862.000000</td>\n",
       "      <td>21862.000000</td>\n",
       "      <td>21862.000000</td>\n",
       "      <td>21862.000000</td>\n",
       "      <td>21862.000000</td>\n",
       "      <td>23097.000000</td>\n",
       "    </tr>\n",
       "    <tr>\n",
       "      <th>mean</th>\n",
       "      <td>16545.712041</td>\n",
       "      <td>26.413127</td>\n",
       "      <td>6261.280772</td>\n",
       "      <td>33.209768</td>\n",
       "      <td>23.454820</td>\n",
       "      <td>0.897905</td>\n",
       "      <td>0.136355</td>\n",
       "      <td>0.185070</td>\n",
       "      <td>0.083615</td>\n",
       "      <td>0.393239</td>\n",
       "      <td>0.053700</td>\n",
       "      <td>0.000595</td>\n",
       "      <td>1.750480</td>\n",
       "      <td>0.632247</td>\n",
       "    </tr>\n",
       "    <tr>\n",
       "      <th>std</th>\n",
       "      <td>9532.263503</td>\n",
       "      <td>15.030865</td>\n",
       "      <td>3595.990620</td>\n",
       "      <td>19.549882</td>\n",
       "      <td>3.807661</td>\n",
       "      <td>0.302780</td>\n",
       "      <td>0.343173</td>\n",
       "      <td>0.388363</td>\n",
       "      <td>0.276817</td>\n",
       "      <td>0.488480</td>\n",
       "      <td>0.225431</td>\n",
       "      <td>0.024379</td>\n",
       "      <td>0.770311</td>\n",
       "      <td>0.482204</td>\n",
       "    </tr>\n",
       "    <tr>\n",
       "      <th>min</th>\n",
       "      <td>2.000000</td>\n",
       "      <td>0.000000</td>\n",
       "      <td>1.000000</td>\n",
       "      <td>0.000000</td>\n",
       "      <td>1.089300</td>\n",
       "      <td>0.000000</td>\n",
       "      <td>0.000000</td>\n",
       "      <td>0.000000</td>\n",
       "      <td>0.000000</td>\n",
       "      <td>0.000000</td>\n",
       "      <td>0.000000</td>\n",
       "      <td>0.000000</td>\n",
       "      <td>1.000000</td>\n",
       "      <td>0.000000</td>\n",
       "    </tr>\n",
       "    <tr>\n",
       "      <th>25%</th>\n",
       "      <td>8280.000000</td>\n",
       "      <td>13.000000</td>\n",
       "      <td>3181.000000</td>\n",
       "      <td>16.000000</td>\n",
       "      <td>20.205550</td>\n",
       "      <td>1.000000</td>\n",
       "      <td>0.000000</td>\n",
       "      <td>0.000000</td>\n",
       "      <td>0.000000</td>\n",
       "      <td>0.000000</td>\n",
       "      <td>0.000000</td>\n",
       "      <td>0.000000</td>\n",
       "      <td>1.000000</td>\n",
       "      <td>0.000000</td>\n",
       "    </tr>\n",
       "    <tr>\n",
       "      <th>50%</th>\n",
       "      <td>16597.000000</td>\n",
       "      <td>26.000000</td>\n",
       "      <td>6242.000000</td>\n",
       "      <td>33.000000</td>\n",
       "      <td>23.386199</td>\n",
       "      <td>1.000000</td>\n",
       "      <td>0.000000</td>\n",
       "      <td>0.000000</td>\n",
       "      <td>0.000000</td>\n",
       "      <td>0.000000</td>\n",
       "      <td>0.000000</td>\n",
       "      <td>0.000000</td>\n",
       "      <td>2.000000</td>\n",
       "      <td>1.000000</td>\n",
       "    </tr>\n",
       "    <tr>\n",
       "      <th>75%</th>\n",
       "      <td>24825.000000</td>\n",
       "      <td>39.000000</td>\n",
       "      <td>9363.000000</td>\n",
       "      <td>50.000000</td>\n",
       "      <td>26.788154</td>\n",
       "      <td>1.000000</td>\n",
       "      <td>0.000000</td>\n",
       "      <td>0.000000</td>\n",
       "      <td>0.000000</td>\n",
       "      <td>1.000000</td>\n",
       "      <td>0.000000</td>\n",
       "      <td>0.000000</td>\n",
       "      <td>2.000000</td>\n",
       "      <td>1.000000</td>\n",
       "    </tr>\n",
       "    <tr>\n",
       "      <th>max</th>\n",
       "      <td>33014.000000</td>\n",
       "      <td>52.000000</td>\n",
       "      <td>12515.000000</td>\n",
       "      <td>149.000000</td>\n",
       "      <td>29.999579</td>\n",
       "      <td>1.000000</td>\n",
       "      <td>1.000000</td>\n",
       "      <td>1.000000</td>\n",
       "      <td>1.000000</td>\n",
       "      <td>1.000000</td>\n",
       "      <td>1.000000</td>\n",
       "      <td>1.000000</td>\n",
       "      <td>5.000000</td>\n",
       "      <td>1.000000</td>\n",
       "    </tr>\n",
       "  </tbody>\n",
       "</table>\n",
       "</div>"
      ],
      "text/plain": [
       "       ID_Patient_Care_Situation  Diagnosed_Condition    Patient_ID  \\\n",
       "count               23097.000000         23097.000000  23097.000000   \n",
       "mean                16545.712041            26.413127   6261.280772   \n",
       "std                  9532.263503            15.030865   3595.990620   \n",
       "min                     2.000000             0.000000      1.000000   \n",
       "25%                  8280.000000            13.000000   3181.000000   \n",
       "50%                 16597.000000            26.000000   6242.000000   \n",
       "75%                 24825.000000            39.000000   9363.000000   \n",
       "max                 33014.000000            52.000000  12515.000000   \n",
       "\n",
       "        Patient_Age  Patient_Body_Mass_Index             A             B  \\\n",
       "count  23097.000000             23097.000000  21862.000000  21862.000000   \n",
       "mean      33.209768                23.454820      0.897905      0.136355   \n",
       "std       19.549882                 3.807661      0.302780      0.343173   \n",
       "min        0.000000                 1.089300      0.000000      0.000000   \n",
       "25%       16.000000                20.205550      1.000000      0.000000   \n",
       "50%       33.000000                23.386199      1.000000      0.000000   \n",
       "75%       50.000000                26.788154      1.000000      0.000000   \n",
       "max      149.000000                29.999579      1.000000      1.000000   \n",
       "\n",
       "                  C             D             E             F             Z  \\\n",
       "count  21862.000000  21862.000000  21862.000000  21862.000000  21862.000000   \n",
       "mean       0.185070      0.083615      0.393239      0.053700      0.000595   \n",
       "std        0.388363      0.276817      0.488480      0.225431      0.024379   \n",
       "min        0.000000      0.000000      0.000000      0.000000      0.000000   \n",
       "25%        0.000000      0.000000      0.000000      0.000000      0.000000   \n",
       "50%        0.000000      0.000000      0.000000      0.000000      0.000000   \n",
       "75%        0.000000      0.000000      1.000000      0.000000      0.000000   \n",
       "max        1.000000      1.000000      1.000000      1.000000      1.000000   \n",
       "\n",
       "       Number_of_prev_cond  Survived_1_year  \n",
       "count         21862.000000     23097.000000  \n",
       "mean              1.750480         0.632247  \n",
       "std               0.770311         0.482204  \n",
       "min               1.000000         0.000000  \n",
       "25%               1.000000         0.000000  \n",
       "50%               2.000000         1.000000  \n",
       "75%               2.000000         1.000000  \n",
       "max               5.000000         1.000000  "
      ]
     },
     "execution_count": 20,
     "metadata": {
      "tags": []
     },
     "output_type": "execute_result"
    }
   ],
   "source": [
    "pharma_data.describe()"
   ]
  },
  {
   "cell_type": "code",
   "execution_count": null,
   "metadata": {
    "colab": {
     "base_uri": "https://localhost:8080/",
     "height": 51
    },
    "colab_type": "code",
    "id": "cZxgcWmmcW6f",
    "outputId": "20b58d81-ca2d-426b-a3a0-e7dd82cd0697"
   },
   "outputs": [
    {
     "data": {
      "text/plain": [
       "0    8494\n",
       "Name: Survived_1_year, dtype: int64"
      ]
     },
     "execution_count": 21,
     "metadata": {
      "tags": []
     },
     "output_type": "execute_result"
    }
   ],
   "source": [
    "tempdata_notsurvived = pharma_data[pharma_data['Survived_1_year'] == 0]\n",
    "tempdata_notsurvived['Survived_1_year'].value_counts()"
   ]
  },
  {
   "cell_type": "code",
   "execution_count": null,
   "metadata": {
    "colab": {
     "base_uri": "https://localhost:8080/",
     "height": 561
    },
    "colab_type": "code",
    "id": "3DszwasFcW6q",
    "outputId": "2a92d765-5b47-443a-ff91-746d5e5a8020"
   },
   "outputs": [
    {
     "data": {
      "text/plain": [
       "DX6                 4943\n",
       "DX2                  549\n",
       "DX4                  548\n",
       "DX3                  479\n",
       "DX1                  460\n",
       "DX5                  351\n",
       "DX1 DX2              155\n",
       "DX2 DX4              123\n",
       "DX3 DX4              115\n",
       "DX2 DX3              110\n",
       "DX1 DX4               96\n",
       "DX4 DX5               93\n",
       "DX1 DX3               79\n",
       "DX2 DX5               68\n",
       "DX3 DX5               61\n",
       "DX1 DX5               47\n",
       "DX1 DX2 DX4           33\n",
       "DX1 DX2 DX3           32\n",
       "DX2 DX3 DX4           28\n",
       "DX1 DX2 DX5           21\n",
       "DX3 DX4 DX5           16\n",
       "DX1 DX3 DX4           15\n",
       "DX1 DX3 DX5           15\n",
       "DX2 DX3 DX5           15\n",
       "DX2 DX4 DX5           12\n",
       "DX1 DX3 DX4 DX5        7\n",
       "DX2 DX3 DX4 DX5        6\n",
       "DX1 DX2 DX4 DX5        5\n",
       "DX1 DX2 DX3 DX4        5\n",
       "DX1 DX4 DX5            5\n",
       "DX1 DX2 DX3 DX5        2\n",
       "Name: Treated_with_drugs, dtype: int64"
      ]
     },
     "execution_count": 22,
     "metadata": {
      "tags": []
     },
     "output_type": "execute_result"
    }
   ],
   "source": [
    "tempdata_notsurvived['Treated_with_drugs'].value_counts()"
   ]
  },
  {
   "cell_type": "code",
   "execution_count": null,
   "metadata": {
    "colab": {
     "base_uri": "https://localhost:8080/",
     "height": 340
    },
    "colab_type": "code",
    "id": "cP40htq-cW7d",
    "outputId": "0a97f760-60da-4c93-e95c-9cfefbc531a5"
   },
   "outputs": [
    {
     "data": {
      "text/plain": [
       "ID_Patient_Care_Situation      0\n",
       "Diagnosed_Condition            0\n",
       "Patient_ID                     0\n",
       "Treated_with_drugs             0\n",
       "Patient_Age                    0\n",
       "Patient_Body_Mass_Index        0\n",
       "Patient_Smoker                 0\n",
       "Patient_Rural_Urban            0\n",
       "Patient_mental_condition       0\n",
       "A                            287\n",
       "B                            287\n",
       "C                            287\n",
       "D                            287\n",
       "E                            287\n",
       "F                            287\n",
       "Z                            287\n",
       "Number_of_prev_cond          287\n",
       "Survived_1_year                0\n",
       "dtype: int64"
      ]
     },
     "execution_count": 23,
     "metadata": {
      "tags": []
     },
     "output_type": "execute_result"
    }
   ],
   "source": [
    "tempdata_notsurvived.isnull().sum()"
   ]
  },
  {
   "cell_type": "code",
   "execution_count": null,
   "metadata": {
    "colab": {
     "base_uri": "https://localhost:8080/",
     "height": 51
    },
    "colab_type": "code",
    "id": "CtR1pWgMcW7o",
    "outputId": "51740cf7-7256-4ba1-df24-b6ea455c0c8f"
   },
   "outputs": [
    {
     "data": {
      "text/plain": [
       "1    14603\n",
       "Name: Survived_1_year, dtype: int64"
      ]
     },
     "execution_count": 24,
     "metadata": {
      "tags": []
     },
     "output_type": "execute_result"
    }
   ],
   "source": [
    "tempdata_survived = pharma_data[pharma_data['Survived_1_year'] == 1]\n",
    "tempdata_survived['Survived_1_year'].value_counts()"
   ]
  },
  {
   "cell_type": "code",
   "execution_count": null,
   "metadata": {
    "colab": {
     "base_uri": "https://localhost:8080/",
     "height": 578
    },
    "colab_type": "code",
    "id": "KrIB96yjcW7y",
    "outputId": "e42bc248-f354-4af0-c7be-e5c19437728d"
   },
   "outputs": [
    {
     "data": {
      "text/plain": [
       "DX6                     3663\n",
       "DX5                     1558\n",
       "DX1                     1375\n",
       "DX2                     1355\n",
       "DX3                     1351\n",
       "DX4                     1244\n",
       "DX1 DX5                  355\n",
       "DX3 DX5                  346\n",
       "DX1 DX3                  345\n",
       "DX3 DX4                  333\n",
       "DX2 DX5                  332\n",
       "DX4 DX5                  330\n",
       "DX1 DX4                  312\n",
       "DX2 DX4                  296\n",
       "DX1 DX2                  293\n",
       "DX2 DX3                  288\n",
       "DX1 DX3 DX5               86\n",
       "DX1 DX2 DX5               82\n",
       "DX3 DX4 DX5               80\n",
       "DX2 DX3 DX5               76\n",
       "DX1 DX4 DX5               75\n",
       "DX1 DX3 DX4               75\n",
       "DX2 DX4 DX5               72\n",
       "DX1 DX2 DX4               66\n",
       "DX1 DX2 DX3               63\n",
       "DX2 DX3 DX4               59\n",
       "DX1 DX2 DX3 DX4           19\n",
       "DX1 DX3 DX4 DX5           17\n",
       "DX2 DX3 DX4 DX5           16\n",
       "DX1 DX2 DX4 DX5           13\n",
       "DX1 DX2 DX3 DX5           12\n",
       "DX1 DX2 DX3 DX4 DX5        3\n",
       "Name: Treated_with_drugs, dtype: int64"
      ]
     },
     "execution_count": 25,
     "metadata": {
      "tags": []
     },
     "output_type": "execute_result"
    }
   ],
   "source": [
    "tempdata_survived['Treated_with_drugs'].value_counts()"
   ]
  },
  {
   "cell_type": "code",
   "execution_count": null,
   "metadata": {
    "colab": {
     "base_uri": "https://localhost:8080/",
     "height": 340
    },
    "colab_type": "code",
    "id": "sr4Kasv4cW7_",
    "outputId": "2492bb89-dea5-4dd6-ea02-cc2e10e5cd66"
   },
   "outputs": [
    {
     "data": {
      "text/plain": [
       "ID_Patient_Care_Situation      0\n",
       "Diagnosed_Condition            0\n",
       "Patient_ID                     0\n",
       "Treated_with_drugs            13\n",
       "Patient_Age                    0\n",
       "Patient_Body_Mass_Index        0\n",
       "Patient_Smoker                 0\n",
       "Patient_Rural_Urban            0\n",
       "Patient_mental_condition       0\n",
       "A                            948\n",
       "B                            948\n",
       "C                            948\n",
       "D                            948\n",
       "E                            948\n",
       "F                            948\n",
       "Z                            948\n",
       "Number_of_prev_cond          948\n",
       "Survived_1_year                0\n",
       "dtype: int64"
      ]
     },
     "execution_count": 26,
     "metadata": {
      "tags": []
     },
     "output_type": "execute_result"
    }
   ],
   "source": [
    "tempdata_survived.isnull().sum()"
   ]
  },
  {
   "cell_type": "code",
   "execution_count": null,
   "metadata": {
    "colab": {
     "base_uri": "https://localhost:8080/",
     "height": 35
    },
    "colab_type": "code",
    "id": "XNp2SVcRcW82",
    "outputId": "415bb610-0e6c-4d09-fc01-150480725691"
   },
   "outputs": [
    {
     "data": {
      "application/vnd.google.colaboratory.intrinsic": {
       "type": "string"
      },
      "text/plain": [
       "'DX6'"
      ]
     },
     "execution_count": 27,
     "metadata": {
      "tags": []
     },
     "output_type": "execute_result"
    }
   ],
   "source": [
    "mode_Treated_with_drugs = tempdata_survived['Treated_with_drugs'].mode()\n",
    "mode_Treated_with_drugs[0]"
   ]
  },
  {
   "cell_type": "code",
   "execution_count": null,
   "metadata": {
    "colab": {},
    "colab_type": "code",
    "id": "bHH4xY-xcW9E"
   },
   "outputs": [],
   "source": [
    "pharma_data['Treated_with_drugs'].fillna(mode_Treated_with_drugs[0], inplace =True)"
   ]
  },
  {
   "cell_type": "code",
   "execution_count": null,
   "metadata": {
    "colab": {
     "base_uri": "https://localhost:8080/",
     "height": 340
    },
    "colab_type": "code",
    "id": "AtiV5GcHcW9P",
    "outputId": "e6b4aa72-b61b-4cc6-d8b2-4d1937dea79d"
   },
   "outputs": [
    {
     "data": {
      "text/plain": [
       "ID_Patient_Care_Situation       0\n",
       "Diagnosed_Condition             0\n",
       "Patient_ID                      0\n",
       "Treated_with_drugs              0\n",
       "Patient_Age                     0\n",
       "Patient_Body_Mass_Index         0\n",
       "Patient_Smoker                  0\n",
       "Patient_Rural_Urban             0\n",
       "Patient_mental_condition        0\n",
       "A                            1235\n",
       "B                            1235\n",
       "C                            1235\n",
       "D                            1235\n",
       "E                            1235\n",
       "F                            1235\n",
       "Z                            1235\n",
       "Number_of_prev_cond          1235\n",
       "Survived_1_year                 0\n",
       "dtype: int64"
      ]
     },
     "execution_count": 29,
     "metadata": {
      "tags": []
     },
     "output_type": "execute_result"
    }
   ],
   "source": [
    "pharma_data.isnull().sum()"
   ]
  },
  {
   "cell_type": "code",
   "execution_count": null,
   "metadata": {
    "colab": {
     "base_uri": "https://localhost:8080/",
     "height": 85
    },
    "colab_type": "code",
    "id": "dC8DfFfDcW9-",
    "outputId": "48932ad1-b1da-4acb-9e1b-2559738f5b4a"
   },
   "outputs": [
    {
     "data": {
      "text/plain": [
       "1.0    7529\n",
       "0.0     678\n",
       "NaN     287\n",
       "Name: A, dtype: int64"
      ]
     },
     "execution_count": 30,
     "metadata": {
      "tags": []
     },
     "output_type": "execute_result"
    }
   ],
   "source": [
    "tempdata_notsurvived['A'].value_counts(dropna = False)"
   ]
  },
  {
   "cell_type": "code",
   "execution_count": null,
   "metadata": {
    "colab": {
     "base_uri": "https://localhost:8080/",
     "height": 85
    },
    "colab_type": "code",
    "id": "daxTON6qcW-M",
    "outputId": "987c0857-5fc4-4e55-a670-9dc9d7d4a145"
   },
   "outputs": [
    {
     "data": {
      "text/plain": [
       "1.0    12101\n",
       "0.0     1554\n",
       "NaN      948\n",
       "Name: A, dtype: int64"
      ]
     },
     "execution_count": 31,
     "metadata": {
      "tags": []
     },
     "output_type": "execute_result"
    }
   ],
   "source": [
    "tempdata_survived['A'].value_counts(dropna = False)"
   ]
  },
  {
   "cell_type": "code",
   "execution_count": null,
   "metadata": {
    "colab": {
     "base_uri": "https://localhost:8080/",
     "height": 153
    },
    "colab_type": "code",
    "id": "02m4l1dzcW-c",
    "outputId": "418d3ad9-1e87-4558-c853-2d49fdad25af"
   },
   "outputs": [
    {
     "data": {
      "text/plain": [
       "B                      287\n",
       "C                      287\n",
       "D                      287\n",
       "E                      287\n",
       "F                      287\n",
       "Z                      287\n",
       "Number_of_prev_cond    287\n",
       "dtype: int64"
      ]
     },
     "execution_count": 32,
     "metadata": {
      "tags": []
     },
     "output_type": "execute_result"
    }
   ],
   "source": [
    "tempdata_notsurvived[(tempdata_notsurvived['A'].isnull())][['B','C','D','E','F','Z','Number_of_prev_cond']].isnull().sum()"
   ]
  },
  {
   "cell_type": "code",
   "execution_count": null,
   "metadata": {
    "colab": {
     "base_uri": "https://localhost:8080/",
     "height": 153
    },
    "colab_type": "code",
    "id": "SI1GHORQcW-y",
    "outputId": "bb0e3520-0900-420b-8142-a0ae7aee001f"
   },
   "outputs": [
    {
     "data": {
      "text/plain": [
       "B                      948\n",
       "C                      948\n",
       "D                      948\n",
       "E                      948\n",
       "F                      948\n",
       "Z                      948\n",
       "Number_of_prev_cond    948\n",
       "dtype: int64"
      ]
     },
     "execution_count": 33,
     "metadata": {
      "tags": []
     },
     "output_type": "execute_result"
    }
   ],
   "source": [
    "tempdata_survived[(tempdata_survived['A'].isnull())][['B','C','D','E','F','Z','Number_of_prev_cond']].isnull().sum()"
   ]
  },
  {
   "cell_type": "code",
   "execution_count": null,
   "metadata": {
    "colab": {
     "base_uri": "https://localhost:8080/",
     "height": 51
    },
    "colab_type": "code",
    "id": "FaQcZWW_Y0_O",
    "outputId": "b37f3af7-7236-4b4b-fe2a-c1a70bf70276"
   },
   "outputs": [
    {
     "data": {
      "text/plain": [
       "0    1.0\n",
       "dtype: float64"
      ]
     },
     "execution_count": 34,
     "metadata": {
      "tags": []
     },
     "output_type": "execute_result"
    }
   ],
   "source": [
    "a_survived = tempdata_survived['A'].mode()\n",
    "a_survived"
   ]
  },
  {
   "cell_type": "code",
   "execution_count": null,
   "metadata": {
    "colab": {
     "base_uri": "https://localhost:8080/",
     "height": 51
    },
    "colab_type": "code",
    "id": "UVT8fKnfa3O-",
    "outputId": "c1d25904-1491-4200-f42c-7c2f9b4fcece"
   },
   "outputs": [
    {
     "data": {
      "text/plain": [
       "0    0.0\n",
       "dtype: float64"
      ]
     },
     "execution_count": 35,
     "metadata": {
      "tags": []
     },
     "output_type": "execute_result"
    }
   ],
   "source": [
    "b_survived = tempdata_survived['B'].mode()\n",
    "b_survived"
   ]
  },
  {
   "cell_type": "code",
   "execution_count": null,
   "metadata": {
    "colab": {
     "base_uri": "https://localhost:8080/",
     "height": 51
    },
    "colab_type": "code",
    "id": "QR5UPI2ma3PF",
    "outputId": "f7b8788c-1462-45c7-fe62-b5ae6f8a28cc"
   },
   "outputs": [
    {
     "data": {
      "text/plain": [
       "0    0.0\n",
       "dtype: float64"
      ]
     },
     "execution_count": 36,
     "metadata": {
      "tags": []
     },
     "output_type": "execute_result"
    }
   ],
   "source": [
    "c_survived = tempdata_survived['C'].mode()\n",
    "c_survived"
   ]
  },
  {
   "cell_type": "code",
   "execution_count": null,
   "metadata": {
    "colab": {
     "base_uri": "https://localhost:8080/",
     "height": 51
    },
    "colab_type": "code",
    "id": "FZez7XCBa3PM",
    "outputId": "8c298014-194f-4871-f55f-da4848fca7fe"
   },
   "outputs": [
    {
     "data": {
      "text/plain": [
       "0    0.0\n",
       "dtype: float64"
      ]
     },
     "execution_count": 37,
     "metadata": {
      "tags": []
     },
     "output_type": "execute_result"
    }
   ],
   "source": [
    "d_survived = tempdata_survived['D'].mode()\n",
    "d_survived"
   ]
  },
  {
   "cell_type": "code",
   "execution_count": null,
   "metadata": {
    "colab": {
     "base_uri": "https://localhost:8080/",
     "height": 51
    },
    "colab_type": "code",
    "id": "DaCcjWHfa3Pa",
    "outputId": "e8b64a3b-57c9-4727-b744-9dca57d48870"
   },
   "outputs": [
    {
     "data": {
      "text/plain": [
       "0    0.0\n",
       "dtype: float64"
      ]
     },
     "execution_count": 38,
     "metadata": {
      "tags": []
     },
     "output_type": "execute_result"
    }
   ],
   "source": [
    "e_survived = tempdata_survived['E'].mode()\n",
    "e_survived"
   ]
  },
  {
   "cell_type": "code",
   "execution_count": null,
   "metadata": {
    "colab": {
     "base_uri": "https://localhost:8080/",
     "height": 51
    },
    "colab_type": "code",
    "id": "XUK32dM0a3Ph",
    "outputId": "0c0e4f98-d535-4c60-c8b6-2531066224ed"
   },
   "outputs": [
    {
     "data": {
      "text/plain": [
       "0    0.0\n",
       "dtype: float64"
      ]
     },
     "execution_count": 39,
     "metadata": {
      "tags": []
     },
     "output_type": "execute_result"
    }
   ],
   "source": [
    "f_survived = tempdata_survived['F'].mode()\n",
    "f_survived"
   ]
  },
  {
   "cell_type": "code",
   "execution_count": null,
   "metadata": {
    "colab": {
     "base_uri": "https://localhost:8080/",
     "height": 51
    },
    "colab_type": "code",
    "id": "GmBaJtG0a3Pp",
    "outputId": "a864ed8c-3e97-4b05-a75d-5ce5194e0371"
   },
   "outputs": [
    {
     "data": {
      "text/plain": [
       "0    0.0\n",
       "dtype: float64"
      ]
     },
     "execution_count": 40,
     "metadata": {
      "tags": []
     },
     "output_type": "execute_result"
    }
   ],
   "source": [
    "z_survived= tempdata_survived['Z'].mode()\n",
    "z_survived"
   ]
  },
  {
   "cell_type": "code",
   "execution_count": null,
   "metadata": {
    "colab": {
     "base_uri": "https://localhost:8080/",
     "height": 51
    },
    "colab_type": "code",
    "id": "uzfmQwGma3P1",
    "outputId": "3b3b0ac7-814d-4fd7-d48a-116038be0d01"
   },
   "outputs": [
    {
     "data": {
      "text/plain": [
       "0    1.0\n",
       "dtype: float64"
      ]
     },
     "execution_count": 41,
     "metadata": {
      "tags": []
     },
     "output_type": "execute_result"
    }
   ],
   "source": [
    "prevcond_survived = tempdata_survived['Number_of_prev_cond'].mode()\n",
    "prevcond_survived"
   ]
  },
  {
   "cell_type": "code",
   "execution_count": null,
   "metadata": {
    "colab": {},
    "colab_type": "code",
    "id": "qURiapb_a3P9"
   },
   "outputs": [],
   "source": [
    "pharma_data.loc[((pharma_data['Survived_1_year'] == 1) & (pharma_data['A'].isnull())),'A'] = a_survived[0]"
   ]
  },
  {
   "cell_type": "code",
   "execution_count": null,
   "metadata": {
    "colab": {},
    "colab_type": "code",
    "id": "M1gt8xIUa3QE"
   },
   "outputs": [],
   "source": [
    "pharma_data.loc[((pharma_data['Survived_1_year'] == 1) & (pharma_data['B'].isnull())),'B'] = b_survived[0]"
   ]
  },
  {
   "cell_type": "code",
   "execution_count": null,
   "metadata": {
    "colab": {},
    "colab_type": "code",
    "id": "BdMpsF0Ia3QZ"
   },
   "outputs": [],
   "source": [
    "pharma_data.loc[((pharma_data['Survived_1_year'] == 1) & (pharma_data['C'].isnull())),'C'] = c_survived[0]"
   ]
  },
  {
   "cell_type": "code",
   "execution_count": null,
   "metadata": {
    "colab": {},
    "colab_type": "code",
    "id": "ezoBHaMDa3Qf"
   },
   "outputs": [],
   "source": [
    "pharma_data.loc[((pharma_data['Survived_1_year'] == 1) & (pharma_data['D'].isnull())),'D'] = d_survived[0]"
   ]
  },
  {
   "cell_type": "code",
   "execution_count": null,
   "metadata": {
    "colab": {},
    "colab_type": "code",
    "id": "2i1eZA37a3Qr"
   },
   "outputs": [],
   "source": [
    "pharma_data.loc[((pharma_data['Survived_1_year'] == 1) & (pharma_data['E'].isnull())),'E'] = e_survived[0]"
   ]
  },
  {
   "cell_type": "code",
   "execution_count": null,
   "metadata": {
    "colab": {},
    "colab_type": "code",
    "id": "nooYpzxCa3Qx"
   },
   "outputs": [],
   "source": [
    "pharma_data.loc[((pharma_data['Survived_1_year'] == 1) & (pharma_data['F'].isnull())),'F'] = f_survived[0]"
   ]
  },
  {
   "cell_type": "code",
   "execution_count": null,
   "metadata": {
    "colab": {},
    "colab_type": "code",
    "id": "BfQdPrgya3Q3"
   },
   "outputs": [],
   "source": [
    "pharma_data.loc[((pharma_data['Survived_1_year'] == 1) & (pharma_data['Z'].isnull())),'Z'] = z_survived[0]"
   ]
  },
  {
   "cell_type": "code",
   "execution_count": null,
   "metadata": {
    "colab": {},
    "colab_type": "code",
    "id": "ulGLTx5ua3Q8"
   },
   "outputs": [],
   "source": [
    "pharma_data.loc[((pharma_data['Survived_1_year'] == 1) & (pharma_data['Number_of_prev_cond'].isnull())),'Number_of_prev_cond'] = prevcond_survived[0]"
   ]
  },
  {
   "cell_type": "code",
   "execution_count": null,
   "metadata": {
    "colab": {
     "base_uri": "https://localhost:8080/",
     "height": 340
    },
    "colab_type": "code",
    "id": "ba15vyAha3RD",
    "outputId": "edadf359-054b-47a5-c453-8ad0ccab4940"
   },
   "outputs": [
    {
     "data": {
      "text/plain": [
       "ID_Patient_Care_Situation    0\n",
       "Diagnosed_Condition          0\n",
       "Patient_ID                   0\n",
       "Treated_with_drugs           0\n",
       "Patient_Age                  0\n",
       "Patient_Body_Mass_Index      0\n",
       "Patient_Smoker               0\n",
       "Patient_Rural_Urban          0\n",
       "Patient_mental_condition     0\n",
       "A                            0\n",
       "B                            0\n",
       "C                            0\n",
       "D                            0\n",
       "E                            0\n",
       "F                            0\n",
       "Z                            0\n",
       "Number_of_prev_cond          0\n",
       "Survived_1_year              0\n",
       "dtype: int64"
      ]
     },
     "execution_count": 50,
     "metadata": {
      "tags": []
     },
     "output_type": "execute_result"
    }
   ],
   "source": [
    "pharma_data[pharma_data['Survived_1_year'] == 1].isnull().sum()"
   ]
  },
  {
   "cell_type": "code",
   "execution_count": null,
   "metadata": {
    "colab": {
     "base_uri": "https://localhost:8080/",
     "height": 51
    },
    "colab_type": "code",
    "id": "HVJH8a9sa3RI",
    "outputId": "ae297039-8baf-442a-8be4-d5638ac519fa"
   },
   "outputs": [
    {
     "data": {
      "text/plain": [
       "0    1.0\n",
       "dtype: float64"
      ]
     },
     "execution_count": 51,
     "metadata": {
      "tags": []
     },
     "output_type": "execute_result"
    }
   ],
   "source": [
    "a_notsurvived = tempdata_notsurvived['A'].mode()\n",
    "a_notsurvived"
   ]
  },
  {
   "cell_type": "code",
   "execution_count": null,
   "metadata": {
    "colab": {
     "base_uri": "https://localhost:8080/",
     "height": 51
    },
    "colab_type": "code",
    "id": "654khyala3RP",
    "outputId": "47527255-efb7-45a7-cba4-7a556beaf3af"
   },
   "outputs": [
    {
     "data": {
      "text/plain": [
       "0    0.0\n",
       "dtype: float64"
      ]
     },
     "execution_count": 52,
     "metadata": {
      "tags": []
     },
     "output_type": "execute_result"
    }
   ],
   "source": [
    "b_notsurvived = tempdata_notsurvived['B'].mode()\n",
    "b_notsurvived"
   ]
  },
  {
   "cell_type": "code",
   "execution_count": null,
   "metadata": {
    "colab": {
     "base_uri": "https://localhost:8080/",
     "height": 68
    },
    "colab_type": "code",
    "id": "1QtoNF0Wa3Rk",
    "outputId": "ea8c8c20-f80e-41aa-a1c9-5bd92ff98423"
   },
   "outputs": [
    {
     "data": {
      "text/plain": [
       "0.0    6907\n",
       "1.0    1300\n",
       "Name: B, dtype: int64"
      ]
     },
     "execution_count": 53,
     "metadata": {
      "tags": []
     },
     "output_type": "execute_result"
    }
   ],
   "source": [
    "tempdata_notsurvived['B'].value_counts()"
   ]
  },
  {
   "cell_type": "code",
   "execution_count": null,
   "metadata": {
    "colab": {
     "base_uri": "https://localhost:8080/",
     "height": 51
    },
    "colab_type": "code",
    "id": "snoGFVDSa3R2",
    "outputId": "fda6bdb6-b562-4154-cb1d-1eb1bcd8372d"
   },
   "outputs": [
    {
     "data": {
      "text/plain": [
       "0    0.0\n",
       "dtype: float64"
      ]
     },
     "execution_count": 54,
     "metadata": {
      "tags": []
     },
     "output_type": "execute_result"
    }
   ],
   "source": [
    "c_notsurvived = tempdata_notsurvived['C'].mode()\n",
    "c_notsurvived"
   ]
  },
  {
   "cell_type": "code",
   "execution_count": null,
   "metadata": {
    "colab": {
     "base_uri": "https://localhost:8080/",
     "height": 111
    },
    "colab_type": "code",
    "id": "9ZJ0ISnha3SW",
    "outputId": "99da0b8b-a48a-4860-9ea8-a448be9e7898"
   },
   "outputs": [
    {
     "data": {
      "text/html": [
       "<div>\n",
       "<style scoped>\n",
       "    .dataframe tbody tr th:only-of-type {\n",
       "        vertical-align: middle;\n",
       "    }\n",
       "\n",
       "    .dataframe tbody tr th {\n",
       "        vertical-align: top;\n",
       "    }\n",
       "\n",
       "    .dataframe thead th {\n",
       "        text-align: right;\n",
       "    }\n",
       "</style>\n",
       "<table border=\"1\" class=\"dataframe\">\n",
       "  <thead>\n",
       "    <tr style=\"text-align: right;\">\n",
       "      <th></th>\n",
       "      <th>C</th>\n",
       "    </tr>\n",
       "  </thead>\n",
       "  <tbody>\n",
       "    <tr>\n",
       "      <th>0.0</th>\n",
       "      <td>6551</td>\n",
       "    </tr>\n",
       "    <tr>\n",
       "      <th>1.0</th>\n",
       "      <td>1656</td>\n",
       "    </tr>\n",
       "  </tbody>\n",
       "</table>\n",
       "</div>"
      ],
      "text/plain": [
       "        C\n",
       "0.0  6551\n",
       "1.0  1656"
      ]
     },
     "execution_count": 55,
     "metadata": {
      "tags": []
     },
     "output_type": "execute_result"
    }
   ],
   "source": [
    "tempdata_notsurvived['C'].value_counts().to_frame()"
   ]
  },
  {
   "cell_type": "code",
   "execution_count": null,
   "metadata": {
    "colab": {
     "base_uri": "https://localhost:8080/",
     "height": 51
    },
    "colab_type": "code",
    "id": "y6KXb2gDa3Se",
    "outputId": "271bae11-932b-451a-ddfb-e6375175ddc9"
   },
   "outputs": [
    {
     "data": {
      "text/plain": [
       "0    0.0\n",
       "dtype: float64"
      ]
     },
     "execution_count": 56,
     "metadata": {
      "tags": []
     },
     "output_type": "execute_result"
    }
   ],
   "source": [
    "d_notsurvived= tempdata_notsurvived['D'].mode()\n",
    "d_notsurvived"
   ]
  },
  {
   "cell_type": "code",
   "execution_count": null,
   "metadata": {
    "colab": {
     "base_uri": "https://localhost:8080/",
     "height": 68
    },
    "colab_type": "code",
    "id": "OS7uBE13a3Sq",
    "outputId": "50dd49e9-9a69-4ffb-9bee-c38217cef11a"
   },
   "outputs": [
    {
     "data": {
      "text/plain": [
       "0.0    7211\n",
       "1.0     996\n",
       "Name: D, dtype: int64"
      ]
     },
     "execution_count": 57,
     "metadata": {
      "tags": []
     },
     "output_type": "execute_result"
    }
   ],
   "source": [
    "tempdata_notsurvived['D'].value_counts()"
   ]
  },
  {
   "cell_type": "code",
   "execution_count": null,
   "metadata": {
    "colab": {
     "base_uri": "https://localhost:8080/",
     "height": 51
    },
    "colab_type": "code",
    "id": "uM2GXb0pa3Sw",
    "outputId": "d40db350-1bde-4799-c7d3-7bb5e580808a"
   },
   "outputs": [
    {
     "data": {
      "text/plain": [
       "0    0.0\n",
       "dtype: float64"
      ]
     },
     "execution_count": 58,
     "metadata": {
      "tags": []
     },
     "output_type": "execute_result"
    }
   ],
   "source": [
    "tempdata_notsurvived['E'].mode()"
   ]
  },
  {
   "cell_type": "code",
   "execution_count": null,
   "metadata": {
    "colab": {
     "base_uri": "https://localhost:8080/",
     "height": 68
    },
    "colab_type": "code",
    "id": "2efCeSTKa3S1",
    "outputId": "c059e6ea-4461-4096-e373-b6855227a673"
   },
   "outputs": [
    {
     "data": {
      "text/plain": [
       "0.0    5091\n",
       "1.0    3116\n",
       "Name: E, dtype: int64"
      ]
     },
     "execution_count": 59,
     "metadata": {
      "tags": []
     },
     "output_type": "execute_result"
    }
   ],
   "source": [
    "e_notsurvived = tempdata_notsurvived['E'].value_counts()\n",
    "e_notsurvived"
   ]
  },
  {
   "cell_type": "code",
   "execution_count": null,
   "metadata": {
    "colab": {
     "base_uri": "https://localhost:8080/",
     "height": 111
    },
    "colab_type": "code",
    "id": "tIiHbgLBa3S6",
    "outputId": "23dfbe78-d58c-46ae-a152-c18b55ccaa6d"
   },
   "outputs": [
    {
     "data": {
      "text/html": [
       "<div>\n",
       "<style scoped>\n",
       "    .dataframe tbody tr th:only-of-type {\n",
       "        vertical-align: middle;\n",
       "    }\n",
       "\n",
       "    .dataframe tbody tr th {\n",
       "        vertical-align: top;\n",
       "    }\n",
       "\n",
       "    .dataframe thead th {\n",
       "        text-align: right;\n",
       "    }\n",
       "</style>\n",
       "<table border=\"1\" class=\"dataframe\">\n",
       "  <thead>\n",
       "    <tr style=\"text-align: right;\">\n",
       "      <th></th>\n",
       "      <th>E</th>\n",
       "    </tr>\n",
       "  </thead>\n",
       "  <tbody>\n",
       "    <tr>\n",
       "      <th>0.0</th>\n",
       "      <td>5091</td>\n",
       "    </tr>\n",
       "    <tr>\n",
       "      <th>1.0</th>\n",
       "      <td>3116</td>\n",
       "    </tr>\n",
       "  </tbody>\n",
       "</table>\n",
       "</div>"
      ],
      "text/plain": [
       "        E\n",
       "0.0  5091\n",
       "1.0  3116"
      ]
     },
     "execution_count": 60,
     "metadata": {
      "tags": []
     },
     "output_type": "execute_result"
    }
   ],
   "source": [
    "#e_notsurvivedsecond = np.where(e_notsurvived == 3116)\n",
    "e_notsurvived.to_frame()"
   ]
  },
  {
   "cell_type": "code",
   "execution_count": null,
   "metadata": {
    "colab": {
     "base_uri": "https://localhost:8080/",
     "height": 34
    },
    "colab_type": "code",
    "id": "7Rg5tjK1a3S_",
    "outputId": "74b05711-0d29-4061-d1ca-03e3f0680e78"
   },
   "outputs": [
    {
     "data": {
      "text/plain": [
       "1.0"
      ]
     },
     "execution_count": 61,
     "metadata": {
      "tags": []
     },
     "output_type": "execute_result"
    }
   ],
   "source": [
    "e_notsurvived.index[1]"
   ]
  },
  {
   "cell_type": "code",
   "execution_count": null,
   "metadata": {
    "colab": {
     "base_uri": "https://localhost:8080/",
     "height": 34
    },
    "colab_type": "code",
    "id": "M-tZgTpOa3TF",
    "outputId": "cdb41075-c11d-4d06-e271-21288e06e006"
   },
   "outputs": [
    {
     "data": {
      "text/plain": [
       "3116"
      ]
     },
     "execution_count": 62,
     "metadata": {
      "tags": []
     },
     "output_type": "execute_result"
    }
   ],
   "source": [
    "e_notsurvived.values[1]"
   ]
  },
  {
   "cell_type": "code",
   "execution_count": null,
   "metadata": {
    "colab": {
     "base_uri": "https://localhost:8080/",
     "height": 51
    },
    "colab_type": "code",
    "id": "kt3z5Vkea3TK",
    "outputId": "b880d11f-3ccb-4b0d-9d13-9126b3b45873"
   },
   "outputs": [
    {
     "data": {
      "text/plain": [
       "0    0.0\n",
       "dtype: float64"
      ]
     },
     "execution_count": 63,
     "metadata": {
      "tags": []
     },
     "output_type": "execute_result"
    }
   ],
   "source": [
    "f_notsurvived = tempdata_notsurvived['F'].mode()\n",
    "f_notsurvived"
   ]
  },
  {
   "cell_type": "code",
   "execution_count": null,
   "metadata": {
    "colab": {
     "base_uri": "https://localhost:8080/",
     "height": 68
    },
    "colab_type": "code",
    "id": "pYDznKq9a3TS",
    "outputId": "e0266b9e-e612-4d3d-a321-be091dfbc998"
   },
   "outputs": [
    {
     "data": {
      "text/plain": [
       "0.0    7776\n",
       "1.0     431\n",
       "Name: F, dtype: int64"
      ]
     },
     "execution_count": 64,
     "metadata": {
      "tags": []
     },
     "output_type": "execute_result"
    }
   ],
   "source": [
    "tempdata_notsurvived['F'].value_counts()"
   ]
  },
  {
   "cell_type": "code",
   "execution_count": null,
   "metadata": {
    "colab": {
     "base_uri": "https://localhost:8080/",
     "height": 51
    },
    "colab_type": "code",
    "id": "8lM17_gLa3TW",
    "outputId": "754ae13c-eff9-47ac-eed3-4c1781f16d88"
   },
   "outputs": [
    {
     "data": {
      "text/plain": [
       "0    0.0\n",
       "dtype: float64"
      ]
     },
     "execution_count": 65,
     "metadata": {
      "tags": []
     },
     "output_type": "execute_result"
    }
   ],
   "source": [
    "z_notsurvived = tempdata_notsurvived['Z'].mode()\n",
    "z_notsurvived"
   ]
  },
  {
   "cell_type": "code",
   "execution_count": null,
   "metadata": {
    "colab": {
     "base_uri": "https://localhost:8080/",
     "height": 51
    },
    "colab_type": "code",
    "id": "8xYbklara3Tb",
    "outputId": "3ad50abb-419a-4c0a-ff53-94b029693f04"
   },
   "outputs": [
    {
     "data": {
      "text/plain": [
       "0.0    8207\n",
       "Name: Z, dtype: int64"
      ]
     },
     "execution_count": 66,
     "metadata": {
      "tags": []
     },
     "output_type": "execute_result"
    }
   ],
   "source": [
    "tempdata_notsurvived['Z'].value_counts()"
   ]
  },
  {
   "cell_type": "code",
   "execution_count": null,
   "metadata": {
    "colab": {
     "base_uri": "https://localhost:8080/",
     "height": 51
    },
    "colab_type": "code",
    "id": "D_OaUjE2a3Tg",
    "outputId": "02e6e51f-3567-40eb-a3ea-aeac569efb05"
   },
   "outputs": [
    {
     "data": {
      "text/plain": [
       "0    2.0\n",
       "dtype: float64"
      ]
     },
     "execution_count": 67,
     "metadata": {
      "tags": []
     },
     "output_type": "execute_result"
    }
   ],
   "source": [
    "prevcond_notsurvived = tempdata_notsurvived['Number_of_prev_cond'].mode()\n",
    "prevcond_notsurvived"
   ]
  },
  {
   "cell_type": "code",
   "execution_count": null,
   "metadata": {
    "colab": {},
    "colab_type": "code",
    "id": "VwbgA6RmHNlJ"
   },
   "outputs": [],
   "source": [
    "# from sklearn.impute import SimpleImputer\n",
    "# impute = SimpleImputer(missing_values=np.nan, strategy='most_frequent')\n",
    "# for cols in [\"A\", \"B\", \"C\", \"D\", \"E\", \"F\", \"Z\", \"Number_of_prev_cond\"]:\n",
    "#     pharma_data[cols] = impute.fit_transform(pharma_data[[cols]])"
   ]
  },
  {
   "cell_type": "code",
   "execution_count": null,
   "metadata": {
    "colab": {},
    "colab_type": "code",
    "id": "ueV2sRrBHNJy"
   },
   "outputs": [],
   "source": [
    "pharma_data.loc[((pharma_data['Survived_1_year'] == 0) & (pharma_data['A'].isnull())),'A'] = a_notsurvived[0]"
   ]
  },
  {
   "cell_type": "code",
   "execution_count": null,
   "metadata": {
    "colab": {},
    "colab_type": "code",
    "id": "8Rrms56Aa3Tv"
   },
   "outputs": [],
   "source": [
    "pharma_data.loc[((pharma_data['Survived_1_year'] == 0) & (pharma_data['B'].isnull())),'B'] = b_notsurvived[0]"
   ]
  },
  {
   "cell_type": "code",
   "execution_count": null,
   "metadata": {
    "colab": {},
    "colab_type": "code",
    "id": "aM-mbcGCa3T9"
   },
   "outputs": [],
   "source": [
    "pharma_data.loc[((pharma_data['Survived_1_year'] == 0) & (pharma_data['C'].isnull())),'C'] = c_notsurvived[0]"
   ]
  },
  {
   "cell_type": "code",
   "execution_count": null,
   "metadata": {
    "colab": {},
    "colab_type": "code",
    "id": "uazMQqsDa3UD"
   },
   "outputs": [],
   "source": [
    "pharma_data.loc[((pharma_data['Survived_1_year'] == 0) & (pharma_data['D'].isnull())),'D'] = d_notsurvived[0]"
   ]
  },
  {
   "cell_type": "code",
   "execution_count": null,
   "metadata": {
    "colab": {},
    "colab_type": "code",
    "id": "TqfnRzMfa3Ue"
   },
   "outputs": [],
   "source": [
    "pharma_data.loc[((pharma_data['Survived_1_year'] == 0) & (pharma_data['E'].isnull())),'E'] = e_notsurvived.index[1]"
   ]
  },
  {
   "cell_type": "code",
   "execution_count": null,
   "metadata": {
    "colab": {},
    "colab_type": "code",
    "id": "xMFLKm1zHMu1"
   },
   "outputs": [],
   "source": [
    "pharma_data.loc[((pharma_data['Survived_1_year'] == 0) & (pharma_data['F'].isnull())),'F'] = f_notsurvived[0]"
   ]
  },
  {
   "cell_type": "code",
   "execution_count": null,
   "metadata": {
    "colab": {},
    "colab_type": "code",
    "id": "7-ev7mpGHMKI"
   },
   "outputs": [],
   "source": [
    "pharma_data.loc[((pharma_data['Survived_1_year'] == 0) & (pharma_data['Z'].isnull())),'Z'] = z_notsurvived[0]"
   ]
  },
  {
   "cell_type": "code",
   "execution_count": null,
   "metadata": {
    "colab": {},
    "colab_type": "code",
    "id": "m3wYalqkHLQf"
   },
   "outputs": [],
   "source": [
    "pharma_data.loc[((pharma_data['Survived_1_year'] == 0) & (pharma_data['Number_of_prev_cond'].isnull())),'Number_of_prev_cond'] = prevcond_notsurvived[0]"
   ]
  },
  {
   "cell_type": "code",
   "execution_count": null,
   "metadata": {
    "colab": {
     "base_uri": "https://localhost:8080/",
     "height": 340
    },
    "colab_type": "code",
    "id": "dpii1XXSa3U2",
    "outputId": "2307b217-8b1c-49f4-ac1a-5cc7455cf001"
   },
   "outputs": [
    {
     "data": {
      "text/plain": [
       "ID_Patient_Care_Situation    0\n",
       "Diagnosed_Condition          0\n",
       "Patient_ID                   0\n",
       "Treated_with_drugs           0\n",
       "Patient_Age                  0\n",
       "Patient_Body_Mass_Index      0\n",
       "Patient_Smoker               0\n",
       "Patient_Rural_Urban          0\n",
       "Patient_mental_condition     0\n",
       "A                            0\n",
       "B                            0\n",
       "C                            0\n",
       "D                            0\n",
       "E                            0\n",
       "F                            0\n",
       "Z                            0\n",
       "Number_of_prev_cond          0\n",
       "Survived_1_year              0\n",
       "dtype: int64"
      ]
     },
     "execution_count": 77,
     "metadata": {
      "tags": []
     },
     "output_type": "execute_result"
    }
   ],
   "source": [
    "pharma_data[pharma_data['Survived_1_year'] == 0].isnull().sum()"
   ]
  },
  {
   "cell_type": "code",
   "execution_count": null,
   "metadata": {
    "colab": {
     "base_uri": "https://localhost:8080/",
     "height": 34
    },
    "colab_type": "code",
    "id": "Y3PcIbALcW_Z",
    "outputId": "6513d732-9b45-47da-9904-0b10b20e7f7c"
   },
   "outputs": [
    {
     "data": {
      "text/plain": [
       "(23097, 18)"
      ]
     },
     "execution_count": 78,
     "metadata": {
      "tags": []
     },
     "output_type": "execute_result"
    }
   ],
   "source": [
    "pharma_data.shape"
   ]
  },
  {
   "cell_type": "code",
   "execution_count": null,
   "metadata": {
    "colab": {
     "base_uri": "https://localhost:8080/",
     "height": 442
    },
    "colab_type": "code",
    "id": "2BcuT_ENcW_j",
    "outputId": "2ff0d041-dec7-4e58-c7be-0ddb28f66259"
   },
   "outputs": [
    {
     "name": "stdout",
     "output_type": "stream",
     "text": [
      "<class 'pandas.core.frame.DataFrame'>\n",
      "RangeIndex: 23097 entries, 0 to 23096\n",
      "Data columns (total 18 columns):\n",
      " #   Column                     Non-Null Count  Dtype  \n",
      "---  ------                     --------------  -----  \n",
      " 0   ID_Patient_Care_Situation  23097 non-null  int64  \n",
      " 1   Diagnosed_Condition        23097 non-null  int64  \n",
      " 2   Patient_ID                 23097 non-null  int64  \n",
      " 3   Treated_with_drugs         23097 non-null  object \n",
      " 4   Patient_Age                23097 non-null  int64  \n",
      " 5   Patient_Body_Mass_Index    23097 non-null  float64\n",
      " 6   Patient_Smoker             23097 non-null  object \n",
      " 7   Patient_Rural_Urban        23097 non-null  object \n",
      " 8   Patient_mental_condition   23097 non-null  object \n",
      " 9   A                          23097 non-null  float64\n",
      " 10  B                          23097 non-null  float64\n",
      " 11  C                          23097 non-null  float64\n",
      " 12  D                          23097 non-null  float64\n",
      " 13  E                          23097 non-null  float64\n",
      " 14  F                          23097 non-null  float64\n",
      " 15  Z                          23097 non-null  float64\n",
      " 16  Number_of_prev_cond        23097 non-null  float64\n",
      " 17  Survived_1_year            23097 non-null  int64  \n",
      "dtypes: float64(9), int64(5), object(4)\n",
      "memory usage: 3.2+ MB\n"
     ]
    }
   ],
   "source": [
    "pharma_data.info()"
   ]
  },
  {
   "cell_type": "code",
   "execution_count": null,
   "metadata": {
    "colab": {
     "base_uri": "https://localhost:8080/",
     "height": 340
    },
    "colab_type": "code",
    "id": "lkODyMrWcW_r",
    "outputId": "4be2bf1f-00d1-4f81-b04d-ce2763d2049c"
   },
   "outputs": [
    {
     "data": {
      "text/plain": [
       "ID_Patient_Care_Situation    0\n",
       "Diagnosed_Condition          0\n",
       "Patient_ID                   0\n",
       "Treated_with_drugs           0\n",
       "Patient_Age                  0\n",
       "Patient_Body_Mass_Index      0\n",
       "Patient_Smoker               0\n",
       "Patient_Rural_Urban          0\n",
       "Patient_mental_condition     0\n",
       "A                            0\n",
       "B                            0\n",
       "C                            0\n",
       "D                            0\n",
       "E                            0\n",
       "F                            0\n",
       "Z                            0\n",
       "Number_of_prev_cond          0\n",
       "Survived_1_year              0\n",
       "dtype: int64"
      ]
     },
     "execution_count": 80,
     "metadata": {
      "tags": []
     },
     "output_type": "execute_result"
    }
   ],
   "source": [
    "pharma_data.isnull().sum()"
   ]
  },
  {
   "cell_type": "code",
   "execution_count": null,
   "metadata": {
    "colab": {
     "base_uri": "https://localhost:8080/",
     "height": 68
    },
    "colab_type": "code",
    "id": "3ola0eQNcW_-",
    "outputId": "b9fa75e7-c0f3-4c5d-b447-acfc2964c4a0"
   },
   "outputs": [
    {
     "data": {
      "text/plain": [
       "1    63.22\n",
       "0    36.78\n",
       "Name: Survived_1_year, dtype: float64"
      ]
     },
     "execution_count": 81,
     "metadata": {
      "tags": []
     },
     "output_type": "execute_result"
    }
   ],
   "source": [
    "round(pharma_data['Survived_1_year'].value_counts(normalize = True)* 100, 2)"
   ]
  },
  {
   "cell_type": "code",
   "execution_count": null,
   "metadata": {
    "colab": {
     "base_uri": "https://localhost:8080/",
     "height": 285
    },
    "colab_type": "code",
    "id": "t9c1qnSPcXAp",
    "outputId": "a00cd6d5-d7aa-4f41-f723-33505a97c501"
   },
   "outputs": [
    {
     "data": {
      "image/png": "[encoded data removed]",
      "text/plain": [
       "<Figure size 432x288 with 1 Axes>"
      ]
     },
     "metadata": {
      "tags": []
     },
     "output_type": "display_data"
    }
   ],
   "source": [
    "sns.set(style=\"darkgrid\")\n",
    "ax = sns.countplot(x='Survived_1_year',  data=pharma_data)\n",
    "plt.show()"
   ]
  },
  {
   "cell_type": "code",
   "execution_count": null,
   "metadata": {
    "colab": {
     "base_uri": "https://localhost:8080/",
     "height": 85
    },
    "colab_type": "code",
    "id": "4QyZ-bmhcXA5",
    "outputId": "98e59785-8726-460e-84b8-e0852af08b76"
   },
   "outputs": [
    {
     "data": {
      "text/plain": [
       "NO            13246\n",
       "YES            9838\n",
       "Cannot say       13\n",
       "Name: Patient_Smoker, dtype: int64"
      ]
     },
     "execution_count": 83,
     "metadata": {
      "tags": []
     },
     "output_type": "execute_result"
    }
   ],
   "source": [
    "pharma_data['Patient_Smoker'].value_counts()"
   ]
  },
  {
   "cell_type": "code",
   "execution_count": null,
   "metadata": {
    "colab": {
     "base_uri": "https://localhost:8080/",
     "height": 136
    },
    "colab_type": "code",
    "id": "Kmv_OZl1cXBD",
    "outputId": "3c368634-f030-4520-a721-f5060a2f8d60"
   },
   "outputs": [
    {
     "data": {
      "text/plain": [
       "Survived_1_year  Patient_Smoker\n",
       "0                YES               5015\n",
       "                 NO                3479\n",
       "1                NO                9767\n",
       "                 YES               4823\n",
       "                 Cannot say          13\n",
       "Name: Patient_Smoker, dtype: int64"
      ]
     },
     "execution_count": 84,
     "metadata": {
      "tags": []
     },
     "output_type": "execute_result"
    }
   ],
   "source": [
    "pharma_data.groupby('Survived_1_year')['Patient_Smoker'].value_counts()"
   ]
  },
  {
   "cell_type": "code",
   "execution_count": null,
   "metadata": {
    "colab": {},
    "colab_type": "code",
    "id": "kXstgvJwcXBM"
   },
   "outputs": [],
   "source": [
    "pharma_data = pd.get_dummies(pharma_data, columns=['Patient_Smoker', 'Patient_Rural_Urban','Patient_mental_condition'])"
   ]
  },
  {
   "cell_type": "code",
   "execution_count": null,
   "metadata": {
    "colab": {},
    "colab_type": "code",
    "id": "SFSo_VFecXCB"
   },
   "outputs": [],
   "source": [
    "pharma_data['DX6'] = pharma_data['Treated_with_drugs'].apply(lambda x: 1 if 'DX6' in x else 0)"
   ]
  },
  {
   "cell_type": "code",
   "execution_count": null,
   "metadata": {
    "colab": {},
    "colab_type": "code",
    "id": "p0bHVQGJcXCL"
   },
   "outputs": [],
   "source": [
    "pharma_data['DX5'] = pharma_data['Treated_with_drugs'].apply(lambda x: 1  if 'DX5' in x  else 0)"
   ]
  },
  {
   "cell_type": "code",
   "execution_count": null,
   "metadata": {
    "colab": {},
    "colab_type": "code",
    "id": "jk8sSImZcXCp"
   },
   "outputs": [],
   "source": [
    "pharma_data['DX4'] = pharma_data['Treated_with_drugs'].apply(lambda x: 1 if 'DX4' in x  else 0)"
   ]
  },
  {
   "cell_type": "code",
   "execution_count": null,
   "metadata": {
    "colab": {},
    "colab_type": "code",
    "id": "8ZS6QYsjcXDJ"
   },
   "outputs": [],
   "source": [
    "pharma_data['DX3'] = pharma_data['Treated_with_drugs'].apply(lambda x: 1 if 'DX3' in x  else 0)"
   ]
  },
  {
   "cell_type": "code",
   "execution_count": null,
   "metadata": {
    "colab": {},
    "colab_type": "code",
    "id": "1JUisQEicXE9"
   },
   "outputs": [],
   "source": [
    "pharma_data['DX2'] = pharma_data['Treated_with_drugs'].apply(lambda x: 1 if 'DX2' in x  else 0)"
   ]
  },
  {
   "cell_type": "code",
   "execution_count": null,
   "metadata": {
    "colab": {},
    "colab_type": "code",
    "id": "Hv1cMhg-cXFb"
   },
   "outputs": [],
   "source": [
    "pharma_data['DX1'] = pharma_data['Treated_with_drugs'].apply(lambda x: 1 if 'DX1' in x  else 0)"
   ]
  },
  {
   "cell_type": "code",
   "execution_count": null,
   "metadata": {
    "colab": {},
    "colab_type": "code",
    "id": "WNZ6al6AcXFq"
   },
   "outputs": [],
   "source": [
    "pharma_data.drop(['Treated_with_drugs'], axis =1, inplace = True)"
   ]
  },
  {
   "cell_type": "code",
   "execution_count": null,
   "metadata": {
    "colab": {
     "base_uri": "https://localhost:8080/",
     "height": 153
    },
    "colab_type": "code",
    "id": "X9DkG0-ecXGQ",
    "outputId": "dd59184f-cc16-42dc-feb9-cb894ae5b8d7"
   },
   "outputs": [
    {
     "data": {
      "text/plain": [
       "Index(['ID_Patient_Care_Situation', 'Diagnosed_Condition', 'Patient_ID',\n",
       "       'Patient_Age', 'Patient_Body_Mass_Index', 'A', 'B', 'C', 'D', 'E', 'F',\n",
       "       'Z', 'Number_of_prev_cond', 'Survived_1_year',\n",
       "       'Patient_Smoker_Cannot say', 'Patient_Smoker_NO', 'Patient_Smoker_YES',\n",
       "       'Patient_Rural_Urban_RURAL', 'Patient_Rural_Urban_URBAN',\n",
       "       'Patient_mental_condition_Stable', 'DX6', 'DX5', 'DX4', 'DX3', 'DX2',\n",
       "       'DX1'],\n",
       "      dtype='object')"
      ]
     },
     "execution_count": 93,
     "metadata": {
      "tags": []
     },
     "output_type": "execute_result"
    }
   ],
   "source": [
    "pharma_data.columns"
   ]
  },
  {
   "cell_type": "code",
   "execution_count": null,
   "metadata": {
    "colab": {
     "base_uri": "https://localhost:8080/",
     "height": 578
    },
    "colab_type": "code",
    "id": "8GxlLoJScXG6",
    "outputId": "ca7747a3-9efa-4649-aeb3-5e5af710e61e"
   },
   "outputs": [
    {
     "name": "stdout",
     "output_type": "stream",
     "text": [
      "<class 'pandas.core.frame.DataFrame'>\n",
      "RangeIndex: 23097 entries, 0 to 23096\n",
      "Data columns (total 26 columns):\n",
      " #   Column                           Non-Null Count  Dtype  \n",
      "---  ------                           --------------  -----  \n",
      " 0   ID_Patient_Care_Situation        23097 non-null  int64  \n",
      " 1   Diagnosed_Condition              23097 non-null  int64  \n",
      " 2   Patient_ID                       23097 non-null  int64  \n",
      " 3   Patient_Age                      23097 non-null  int64  \n",
      " 4   Patient_Body_Mass_Index          23097 non-null  float64\n",
      " 5   A                                23097 non-null  float64\n",
      " 6   B                                23097 non-null  float64\n",
      " 7   C                                23097 non-null  float64\n",
      " 8   D                                23097 non-null  float64\n",
      " 9   E                                23097 non-null  float64\n",
      " 10  F                                23097 non-null  float64\n",
      " 11  Z                                23097 non-null  float64\n",
      " 12  Number_of_prev_cond              23097 non-null  float64\n",
      " 13  Survived_1_year                  23097 non-null  int64  \n",
      " 14  Patient_Smoker_Cannot say        23097 non-null  uint8  \n",
      " 15  Patient_Smoker_NO                23097 non-null  uint8  \n",
      " 16  Patient_Smoker_YES               23097 non-null  uint8  \n",
      " 17  Patient_Rural_Urban_RURAL        23097 non-null  uint8  \n",
      " 18  Patient_Rural_Urban_URBAN        23097 non-null  uint8  \n",
      " 19  Patient_mental_condition_Stable  23097 non-null  uint8  \n",
      " 20  DX6                              23097 non-null  int64  \n",
      " 21  DX5                              23097 non-null  int64  \n",
      " 22  DX4                              23097 non-null  int64  \n",
      " 23  DX3                              23097 non-null  int64  \n",
      " 24  DX2                              23097 non-null  int64  \n",
      " 25  DX1                              23097 non-null  int64  \n",
      "dtypes: float64(9), int64(11), uint8(6)\n",
      "memory usage: 3.7 MB\n"
     ]
    }
   ],
   "source": [
    "pharma_data.info()"
   ]
  },
  {
   "cell_type": "code",
   "execution_count": null,
   "metadata": {
    "colab": {
     "base_uri": "https://localhost:8080/",
     "height": 269
    },
    "colab_type": "code",
    "id": "f0hWXJR_cXHA",
    "outputId": "85277e7e-90a9-46d7-9d86-921c80877a99"
   },
   "outputs": [
    {
     "data": {
      "image/png": "[encoded data removed]",
      "text/plain": [
       "<Figure size 432x288 with 1 Axes>"
      ]
     },
     "metadata": {
      "tags": []
     },
     "output_type": "display_data"
    }
   ],
   "source": [
    "pharma_data.boxplot(column=['Patient_Age'])\n",
    "plt.show()"
   ]
  },
  {
   "cell_type": "code",
   "execution_count": null,
   "metadata": {
    "colab": {
     "base_uri": "https://localhost:8080/",
     "height": 302
    },
    "colab_type": "code",
    "id": "HRsAXkC1cXHQ",
    "outputId": "532f5978-303e-48a9-c7bd-c5eec159c436"
   },
   "outputs": [
    {
     "data": {
      "text/plain": [
       "<matplotlib.axes._subplots.AxesSubplot at 0x7f8a58f65940>"
      ]
     },
     "execution_count": 96,
     "metadata": {
      "tags": []
     },
     "output_type": "execute_result"
    },
    {
     "data": {
      "image/png": "[encoded data removed]",
      "text/plain": [
       "<Figure size 432x288 with 1 Axes>"
      ]
     },
     "metadata": {
      "tags": []
     },
     "output_type": "display_data"
    }
   ],
   "source": [
    "sns.boxplot(x=pharma_data['Patient_Age'])"
   ]
  },
  {
   "cell_type": "code",
   "execution_count": null,
   "metadata": {
    "colab": {},
    "colab_type": "code",
    "id": "i5151Oo3cXIM"
   },
   "outputs": [],
   "source": [
    "X = pharma_data.drop('Survived_1_year', axis = 1)\n",
    "y = pharma_data['Survived_1_year']"
   ]
  },
  {
   "cell_type": "code",
   "execution_count": null,
   "metadata": {
    "colab": {},
    "colab_type": "code",
    "id": "kYeA6xjRcXIT"
   },
   "outputs": [],
   "source": [
    "X_train, X_test, y_train, y_test = train_test_split(X, y, test_size=0.20, random_state=5)"
   ]
  },
  {
   "cell_type": "code",
   "execution_count": null,
   "metadata": {
    "colab": {
     "base_uri": "https://localhost:8080/",
     "height": 561
    },
    "colab_type": "code",
    "id": "Wp0MpJJhcXIz",
    "outputId": "fb538aca-81e1-40fc-a9fb-5bc9eb7ca4fa"
   },
   "outputs": [
    {
     "name": "stdout",
     "output_type": "stream",
     "text": [
      "<class 'pandas.core.frame.DataFrame'>\n",
      "Int64Index: 18477 entries, 1688 to 2915\n",
      "Data columns (total 25 columns):\n",
      " #   Column                           Non-Null Count  Dtype  \n",
      "---  ------                           --------------  -----  \n",
      " 0   ID_Patient_Care_Situation        18477 non-null  int64  \n",
      " 1   Diagnosed_Condition              18477 non-null  int64  \n",
      " 2   Patient_ID                       18477 non-null  int64  \n",
      " 3   Patient_Age                      18477 non-null  int64  \n",
      " 4   Patient_Body_Mass_Index          18477 non-null  float64\n",
      " 5   A                                18477 non-null  float64\n",
      " 6   B                                18477 non-null  float64\n",
      " 7   C                                18477 non-null  float64\n",
      " 8   D                                18477 non-null  float64\n",
      " 9   E                                18477 non-null  float64\n",
      " 10  F                                18477 non-null  float64\n",
      " 11  Z                                18477 non-null  float64\n",
      " 12  Number_of_prev_cond              18477 non-null  float64\n",
      " 13  Patient_Smoker_Cannot say        18477 non-null  uint8  \n",
      " 14  Patient_Smoker_NO                18477 non-null  uint8  \n",
      " 15  Patient_Smoker_YES               18477 non-null  uint8  \n",
      " 16  Patient_Rural_Urban_RURAL        18477 non-null  uint8  \n",
      " 17  Patient_Rural_Urban_URBAN        18477 non-null  uint8  \n",
      " 18  Patient_mental_condition_Stable  18477 non-null  uint8  \n",
      " 19  DX6                              18477 non-null  int64  \n",
      " 20  DX5                              18477 non-null  int64  \n",
      " 21  DX4                              18477 non-null  int64  \n",
      " 22  DX3                              18477 non-null  int64  \n",
      " 23  DX2                              18477 non-null  int64  \n",
      " 24  DX1                              18477 non-null  int64  \n",
      "dtypes: float64(9), int64(10), uint8(6)\n",
      "memory usage: 2.9 MB\n"
     ]
    }
   ],
   "source": [
    "X_train.info()"
   ]
  },
  {
   "cell_type": "code",
   "execution_count": null,
   "metadata": {
    "colab": {},
    "colab_type": "code",
    "id": "gF_X6XKDa3Wb"
   },
   "outputs": [],
   "source": [
    "# # import sys\n",
    "# from lazypredict.Supervised import LazyClassifier\n",
    "# clf = LazyClassifier(verbose=0,ignore_warnings=True, custom_metric=None)\n",
    "# models,predictions = clf.fit(X_train, X_test, y_train, y_test)\n",
    "# models"
   ]
  },
  {
   "cell_type": "code",
   "execution_count": null,
   "metadata": {
    "colab": {},
    "colab_type": "code",
    "id": "aQAPAQ-fcXJQ"
   },
   "outputs": [],
   "source": [
    "xgbc = XGBClassifier(\n",
    "    objective= 'binary:logistic',\n",
    "    nthread=4,\n",
    "    seed=5\n",
    ")"
   ]
  },
  {
   "cell_type": "code",
   "execution_count": null,
   "metadata": {
    "colab": {},
    "colab_type": "code",
    "id": "4LaCgYZW9K5r"
   },
   "outputs": [],
   "source": [
    "parameters = {\n",
    "    'max_depth': range (2, 10, 1),\n",
    "    'n_estimators': range(60, 220, 40),\n",
    "    'learning_rate': [0.1, 0.01, 0.05]\n",
    "}"
   ]
  },
  {
   "cell_type": "code",
   "execution_count": null,
   "metadata": {
    "colab": {},
    "colab_type": "code",
    "id": "0aYjvg3v9Piy"
   },
   "outputs": [],
   "source": [
    "gs = GridSearchCV(\n",
    "    estimator=xgbc,\n",
    "    param_grid=parameters,\n",
    "    scoring = 'roc_auc',\n",
    "    n_jobs = 10,\n",
    "    cv = 10,\n",
    "    verbose=True\n",
    ")"
   ]
  },
  {
   "cell_type": "code",
   "execution_count": 106,
   "metadata": {
    "colab": {
     "base_uri": "https://localhost:8080/",
     "height": 425
    },
    "colab_type": "code",
    "id": "Bm9gX3mQcXJo",
    "outputId": "271991f7-14ef-4550-cbab-9a5220b41935"
   },
   "outputs": [
    {
     "name": "stdout",
     "output_type": "stream",
     "text": [
      "Fitting 10 folds for each of 96 candidates, totalling 960 fits\n"
     ]
    },
    {
     "name": "stderr",
     "output_type": "stream",
     "text": [
      "[Parallel(n_jobs=10)]: Using backend LokyBackend with 10 concurrent workers.\n",
      "[Parallel(n_jobs=10)]: Done  30 tasks      | elapsed:   37.1s\n",
      "[Parallel(n_jobs=10)]: Done 180 tasks      | elapsed:  5.8min\n",
      "[Parallel(n_jobs=10)]: Done 430 tasks      | elapsed: 18.7min\n",
      "[Parallel(n_jobs=10)]: Done 780 tasks      | elapsed: 36.2min\n",
      "[Parallel(n_jobs=10)]: Done 960 out of 960 | elapsed: 48.8min finished\n"
     ]
    },
    {
     "data": {
      "text/plain": [
       "GridSearchCV(cv=10, error_score=nan,\n",
       "             estimator=XGBClassifier(base_score=0.5, booster='gbtree',\n",
       "                                     colsample_bylevel=1, colsample_bynode=1,\n",
       "                                     colsample_bytree=1, gamma=0,\n",
       "                                     learning_rate=0.1, max_delta_step=0,\n",
       "                                     max_depth=3, min_child_weight=1,\n",
       "                                     missing=None, n_estimators=100, n_jobs=1,\n",
       "                                     nthread=4, objective='binary:logistic',\n",
       "                                     random_state=0, reg_alpha=0, reg_lambda=1,\n",
       "                                     scale_pos_weight=1, seed=5, silent=None,\n",
       "                                     subsample=1, verbosity=1),\n",
       "             iid='deprecated', n_jobs=10,\n",
       "             param_grid={'learning_rate': [0.1, 0.01, 0.05],\n",
       "                         'max_depth': range(2, 10),\n",
       "                         'n_estimators': range(60, 220, 40)},\n",
       "             pre_dispatch='2*n_jobs', refit=True, return_train_score=False,\n",
       "             scoring='roc_auc', verbose=True)"
      ]
     },
     "execution_count": 106,
     "metadata": {
      "tags": []
     },
     "output_type": "execute_result"
    }
   ],
   "source": [
    "gs.fit(X_train, y_train)"
   ]
  },
  {
   "cell_type": "code",
   "execution_count": 107,
   "metadata": {
    "colab": {
     "base_uri": "https://localhost:8080/",
     "height": 136
    },
    "colab_type": "code",
    "id": "Xm1nmjxD99PL",
    "outputId": "710379de-c204-4177-90ba-0625ee3bc482"
   },
   "outputs": [
    {
     "data": {
      "text/plain": [
       "XGBClassifier(base_score=0.5, booster='gbtree', colsample_bylevel=1,\n",
       "              colsample_bynode=1, colsample_bytree=1, gamma=0,\n",
       "              learning_rate=0.1, max_delta_step=0, max_depth=4,\n",
       "              min_child_weight=1, missing=None, n_estimators=180, n_jobs=1,\n",
       "              nthread=4, objective='binary:logistic', random_state=0,\n",
       "              reg_alpha=0, reg_lambda=1, scale_pos_weight=1, seed=5,\n",
       "              silent=None, subsample=1, verbosity=1)"
      ]
     },
     "execution_count": 107,
     "metadata": {
      "tags": []
     },
     "output_type": "execute_result"
    }
   ],
   "source": [
    "gs.best_estimator_"
   ]
  },
  {
   "cell_type": "code",
   "execution_count": 108,
   "metadata": {
    "colab": {},
    "colab_type": "code",
    "id": "6g-RkCcPcXJ2"
   },
   "outputs": [],
   "source": [
    "# finding our predicted values\n",
    "pred = gs.predict(X_test)"
   ]
  },
  {
   "cell_type": "code",
   "execution_count": 109,
   "metadata": {
    "colab": {
     "base_uri": "https://localhost:8080/",
     "height": 34
    },
    "colab_type": "code",
    "id": "mQyNa8DNcXKA",
    "outputId": "cf47f629-3adc-435e-db2a-e2984facc99c"
   },
   "outputs": [
    {
     "data": {
      "text/plain": [
       "0.9250125995710474"
      ]
     },
     "execution_count": 109,
     "metadata": {
      "tags": []
     },
     "output_type": "execute_result"
    }
   ],
   "source": [
    "gs.score(X_test, y_test)"
   ]
  },
  {
   "cell_type": "code",
   "execution_count": 110,
   "metadata": {
    "colab": {
     "base_uri": "https://localhost:8080/",
     "height": 85
    },
    "colab_type": "code",
    "id": "xdFJzjjzcXK4",
    "outputId": "23f84b11-73fa-4186-b6e1-659e5f1bca0a"
   },
   "outputs": [
    {
     "name": "stdout",
     "output_type": "stream",
     "text": [
      "True Positive 2634\n",
      "True Negative 1257\n",
      "False Positive 421\n",
      "False Negative 308\n"
     ]
    }
   ],
   "source": [
    "tn, fp, fn, tp = confusion_matrix(y_test, pred).ravel()     # ravel() is used to convert a 2D array to 1D array. The output by confusion matrix is a 2D array.\n",
    "print(\"True Positive\", tp)\n",
    "print(\"True Negative\", tn)\n",
    "print(\"False Positive\", fp)\n",
    "print(\"False Negative\", fn)"
   ]
  },
  {
   "cell_type": "code",
   "execution_count": 111,
   "metadata": {
    "colab": {
     "base_uri": "https://localhost:8080/",
     "height": 34
    },
    "colab_type": "code",
    "id": "9PBmEX18cXLB",
    "outputId": "a91d3342-c073-429c-81f7-b1d0c9165045"
   },
   "outputs": [
    {
     "data": {
      "text/plain": [
       "0.8621931260229132"
      ]
     },
     "execution_count": 111,
     "metadata": {
      "tags": []
     },
     "output_type": "execute_result"
    }
   ],
   "source": [
    "precision_score(y_test, pred)"
   ]
  },
  {
   "cell_type": "code",
   "execution_count": 112,
   "metadata": {
    "colab": {
     "base_uri": "https://localhost:8080/",
     "height": 34
    },
    "colab_type": "code",
    "id": "X9bXn9zlcXLS",
    "outputId": "871be6c4-b826-4d3a-c676-e0e7cdcb0c45"
   },
   "outputs": [
    {
     "data": {
      "text/plain": [
       "0.8784392196098049"
      ]
     },
     "execution_count": 112,
     "metadata": {
      "tags": []
     },
     "output_type": "execute_result"
    }
   ],
   "source": [
    "f1_score(y_test, pred)"
   ]
  },
  {
   "cell_type": "code",
   "execution_count": 113,
   "metadata": {
    "colab": {
     "base_uri": "https://localhost:8080/",
     "height": 34
    },
    "colab_type": "code",
    "id": "bhFLNFLecXLZ",
    "outputId": "f535205a-2096-4921-8cfa-d5eece7f235f"
   },
   "outputs": [
    {
     "data": {
      "text/plain": [
       "0.8222076960286637"
      ]
     },
     "execution_count": 113,
     "metadata": {
      "tags": []
     },
     "output_type": "execute_result"
    }
   ],
   "source": [
    "roc_auc_score(y_test, pred)"
   ]
  },
  {
   "cell_type": "code",
   "execution_count": 114,
   "metadata": {
    "colab": {
     "base_uri": "https://localhost:8080/",
     "height": 102
    },
    "colab_type": "code",
    "id": "6y-F7uo8cXLi",
    "outputId": "97053f0b-2e72-4f2c-861c-11ee75b86d6f"
   },
   "outputs": [
    {
     "data": {
      "text/plain": [
       "Index(['ID_Patient_Care_Situation', 'Diagnosed_Condition', 'Patient_ID',\n",
       "       'Treated_with_drugs', 'Patient_Age', 'Patient_Body_Mass_Index',\n",
       "       'Patient_Smoker', 'Patient_Rural_Urban', 'Patient_mental_condition',\n",
       "       'A', 'B', 'C', 'D', 'E', 'F', 'Z', 'Number_of_prev_cond'],\n",
       "      dtype='object')"
      ]
     },
     "execution_count": 114,
     "metadata": {
      "tags": []
     },
     "output_type": "execute_result"
    }
   ],
   "source": [
    "test_new = pd.read_csv('https://raw.githubusercontent.com/dphi-official/Datasets/master/pharma_data/Testing_set_begs.csv')\n",
    "test_new.columns"
   ]
  },
  {
   "cell_type": "code",
   "execution_count": 115,
   "metadata": {
    "colab": {
     "base_uri": "https://localhost:8080/",
     "height": 34
    },
    "colab_type": "code",
    "id": "en6FzrLpcXLp",
    "outputId": "e3d0cbe5-b534-43ce-ea5b-9504971ff87c"
   },
   "outputs": [
    {
     "data": {
      "text/plain": [
       "(9303, 17)"
      ]
     },
     "execution_count": 115,
     "metadata": {
      "tags": []
     },
     "output_type": "execute_result"
    }
   ],
   "source": [
    "test_new.shape"
   ]
  },
  {
   "cell_type": "code",
   "execution_count": 116,
   "metadata": {
    "colab": {
     "base_uri": "https://localhost:8080/",
     "height": 224
    },
    "colab_type": "code",
    "id": "RtkxyoQYcXLx",
    "outputId": "d5f36bcf-baf9-43f9-df32-beae63676def"
   },
   "outputs": [
    {
     "data": {
      "text/html": [
       "<div>\n",
       "<style scoped>\n",
       "    .dataframe tbody tr th:only-of-type {\n",
       "        vertical-align: middle;\n",
       "    }\n",
       "\n",
       "    .dataframe tbody tr th {\n",
       "        vertical-align: top;\n",
       "    }\n",
       "\n",
       "    .dataframe thead th {\n",
       "        text-align: right;\n",
       "    }\n",
       "</style>\n",
       "<table border=\"1\" class=\"dataframe\">\n",
       "  <thead>\n",
       "    <tr style=\"text-align: right;\">\n",
       "      <th></th>\n",
       "      <th>ID_Patient_Care_Situation</th>\n",
       "      <th>Diagnosed_Condition</th>\n",
       "      <th>Patient_ID</th>\n",
       "      <th>Treated_with_drugs</th>\n",
       "      <th>Patient_Age</th>\n",
       "      <th>Patient_Body_Mass_Index</th>\n",
       "      <th>Patient_Smoker</th>\n",
       "      <th>Patient_Rural_Urban</th>\n",
       "      <th>Patient_mental_condition</th>\n",
       "      <th>A</th>\n",
       "      <th>B</th>\n",
       "      <th>C</th>\n",
       "      <th>D</th>\n",
       "      <th>E</th>\n",
       "      <th>F</th>\n",
       "      <th>Z</th>\n",
       "      <th>Number_of_prev_cond</th>\n",
       "    </tr>\n",
       "  </thead>\n",
       "  <tbody>\n",
       "    <tr>\n",
       "      <th>0</th>\n",
       "      <td>19150</td>\n",
       "      <td>40</td>\n",
       "      <td>3709</td>\n",
       "      <td>DX3</td>\n",
       "      <td>16</td>\n",
       "      <td>29.443894</td>\n",
       "      <td>NO</td>\n",
       "      <td>RURAL</td>\n",
       "      <td>Stable</td>\n",
       "      <td>1.0</td>\n",
       "      <td>0.0</td>\n",
       "      <td>0.0</td>\n",
       "      <td>0.0</td>\n",
       "      <td>1.0</td>\n",
       "      <td>0.0</td>\n",
       "      <td>0.0</td>\n",
       "      <td>2.0</td>\n",
       "    </tr>\n",
       "    <tr>\n",
       "      <th>1</th>\n",
       "      <td>23216</td>\n",
       "      <td>52</td>\n",
       "      <td>986</td>\n",
       "      <td>DX6</td>\n",
       "      <td>24</td>\n",
       "      <td>26.836321</td>\n",
       "      <td>NO</td>\n",
       "      <td>URBAN</td>\n",
       "      <td>Stable</td>\n",
       "      <td>1.0</td>\n",
       "      <td>1.0</td>\n",
       "      <td>0.0</td>\n",
       "      <td>0.0</td>\n",
       "      <td>0.0</td>\n",
       "      <td>0.0</td>\n",
       "      <td>0.0</td>\n",
       "      <td>2.0</td>\n",
       "    </tr>\n",
       "    <tr>\n",
       "      <th>2</th>\n",
       "      <td>11890</td>\n",
       "      <td>50</td>\n",
       "      <td>11821</td>\n",
       "      <td>DX4 DX5</td>\n",
       "      <td>63</td>\n",
       "      <td>25.523280</td>\n",
       "      <td>NO</td>\n",
       "      <td>RURAL</td>\n",
       "      <td>Stable</td>\n",
       "      <td>1.0</td>\n",
       "      <td>0.0</td>\n",
       "      <td>0.0</td>\n",
       "      <td>0.0</td>\n",
       "      <td>1.0</td>\n",
       "      <td>0.0</td>\n",
       "      <td>0.0</td>\n",
       "      <td>2.0</td>\n",
       "    </tr>\n",
       "    <tr>\n",
       "      <th>3</th>\n",
       "      <td>7149</td>\n",
       "      <td>32</td>\n",
       "      <td>3292</td>\n",
       "      <td>DX6</td>\n",
       "      <td>42</td>\n",
       "      <td>27.171155</td>\n",
       "      <td>NO</td>\n",
       "      <td>URBAN</td>\n",
       "      <td>Stable</td>\n",
       "      <td>1.0</td>\n",
       "      <td>0.0</td>\n",
       "      <td>1.0</td>\n",
       "      <td>0.0</td>\n",
       "      <td>1.0</td>\n",
       "      <td>0.0</td>\n",
       "      <td>0.0</td>\n",
       "      <td>3.0</td>\n",
       "    </tr>\n",
       "    <tr>\n",
       "      <th>4</th>\n",
       "      <td>22845</td>\n",
       "      <td>20</td>\n",
       "      <td>9959</td>\n",
       "      <td>DX3</td>\n",
       "      <td>50</td>\n",
       "      <td>25.556192</td>\n",
       "      <td>NO</td>\n",
       "      <td>RURAL</td>\n",
       "      <td>Stable</td>\n",
       "      <td>1.0</td>\n",
       "      <td>0.0</td>\n",
       "      <td>0.0</td>\n",
       "      <td>0.0</td>\n",
       "      <td>0.0</td>\n",
       "      <td>0.0</td>\n",
       "      <td>0.0</td>\n",
       "      <td>1.0</td>\n",
       "    </tr>\n",
       "  </tbody>\n",
       "</table>\n",
       "</div>"
      ],
      "text/plain": [
       "   ID_Patient_Care_Situation  Diagnosed_Condition  Patient_ID  \\\n",
       "0                      19150                   40        3709   \n",
       "1                      23216                   52         986   \n",
       "2                      11890                   50       11821   \n",
       "3                       7149                   32        3292   \n",
       "4                      22845                   20        9959   \n",
       "\n",
       "  Treated_with_drugs  Patient_Age  Patient_Body_Mass_Index Patient_Smoker  \\\n",
       "0               DX3            16                29.443894             NO   \n",
       "1                DX6           24                26.836321             NO   \n",
       "2           DX4 DX5            63                25.523280             NO   \n",
       "3                DX6           42                27.171155             NO   \n",
       "4               DX3            50                25.556192             NO   \n",
       "\n",
       "  Patient_Rural_Urban Patient_mental_condition    A    B    C    D    E    F  \\\n",
       "0               RURAL                   Stable  1.0  0.0  0.0  0.0  1.0  0.0   \n",
       "1               URBAN                   Stable  1.0  1.0  0.0  0.0  0.0  0.0   \n",
       "2               RURAL                   Stable  1.0  0.0  0.0  0.0  1.0  0.0   \n",
       "3               URBAN                   Stable  1.0  0.0  1.0  0.0  1.0  0.0   \n",
       "4               RURAL                   Stable  1.0  0.0  0.0  0.0  0.0  0.0   \n",
       "\n",
       "     Z  Number_of_prev_cond  \n",
       "0  0.0                  2.0  \n",
       "1  0.0                  2.0  \n",
       "2  0.0                  2.0  \n",
       "3  0.0                  3.0  \n",
       "4  0.0                  1.0  "
      ]
     },
     "execution_count": 116,
     "metadata": {
      "tags": []
     },
     "output_type": "execute_result"
    }
   ],
   "source": [
    "test_new.head()"
   ]
  },
  {
   "cell_type": "code",
   "execution_count": 117,
   "metadata": {
    "colab": {
     "base_uri": "https://localhost:8080/",
     "height": 68
    },
    "colab_type": "code",
    "id": "67YUSLZXcXL2",
    "outputId": "52f6a718-2bd1-4330-d6f8-8eb15024c558"
   },
   "outputs": [
    {
     "data": {
      "text/plain": [
       "NO     5333\n",
       "YES    3970\n",
       "Name: Patient_Smoker, dtype: int64"
      ]
     },
     "execution_count": 117,
     "metadata": {
      "tags": []
     },
     "output_type": "execute_result"
    }
   ],
   "source": [
    "test_new['Patient_Smoker'].value_counts()"
   ]
  },
  {
   "cell_type": "code",
   "execution_count": 118,
   "metadata": {
    "colab": {
     "base_uri": "https://localhost:8080/",
     "height": 323
    },
    "colab_type": "code",
    "id": "e_Ydd2VjcXMX",
    "outputId": "44d20fd7-107a-4a24-a790-e796b95e7963"
   },
   "outputs": [
    {
     "data": {
      "text/plain": [
       "ID_Patient_Care_Situation    0\n",
       "Diagnosed_Condition          0\n",
       "Patient_ID                   0\n",
       "Treated_with_drugs           0\n",
       "Patient_Age                  0\n",
       "Patient_Body_Mass_Index      0\n",
       "Patient_Smoker               0\n",
       "Patient_Rural_Urban          0\n",
       "Patient_mental_condition     0\n",
       "A                            0\n",
       "B                            0\n",
       "C                            0\n",
       "D                            0\n",
       "E                            0\n",
       "F                            0\n",
       "Z                            0\n",
       "Number_of_prev_cond          0\n",
       "dtype: int64"
      ]
     },
     "execution_count": 118,
     "metadata": {
      "tags": []
     },
     "output_type": "execute_result"
    }
   ],
   "source": [
    "test_new.isnull().sum()"
   ]
  },
  {
   "cell_type": "code",
   "execution_count": 119,
   "metadata": {
    "colab": {},
    "colab_type": "code",
    "id": "T6CjPf2N52Ww"
   },
   "outputs": [],
   "source": [
    " test_new['Patient_Smoker_Cannot say'] = 0"
   ]
  },
  {
   "cell_type": "code",
   "execution_count": 120,
   "metadata": {
    "colab": {
     "base_uri": "https://localhost:8080/",
     "height": 51
    },
    "colab_type": "code",
    "id": "xEERL2ZI6BNj",
    "outputId": "7bc465ec-5577-40de-adf5-f6322ecb6238"
   },
   "outputs": [
    {
     "data": {
      "text/plain": [
       "0    9303\n",
       "Name: Patient_Smoker_Cannot say, dtype: int64"
      ]
     },
     "execution_count": 120,
     "metadata": {
      "tags": []
     },
     "output_type": "execute_result"
    }
   ],
   "source": [
    "test_new['Patient_Smoker_Cannot say'].value_counts()"
   ]
  },
  {
   "cell_type": "code",
   "execution_count": 121,
   "metadata": {
    "colab": {},
    "colab_type": "code",
    "id": "yUwItUo_bn2N"
   },
   "outputs": [],
   "source": [
    "test_new = pd.get_dummies(test_new, columns=['Patient_Smoker', 'Patient_Rural_Urban','Patient_mental_condition'])"
   ]
  },
  {
   "cell_type": "code",
   "execution_count": 122,
   "metadata": {
    "colab": {},
    "colab_type": "code",
    "id": "jbs5NdphcXM8"
   },
   "outputs": [],
   "source": [
    "test_new['DX6'] = test_new['Treated_with_drugs'].apply(lambda x: 1 if 'DX6' in x  else 0)"
   ]
  },
  {
   "cell_type": "code",
   "execution_count": 123,
   "metadata": {
    "colab": {},
    "colab_type": "code",
    "id": "tvLJKyoJcXNE"
   },
   "outputs": [],
   "source": [
    "test_new['DX5'] = test_new['Treated_with_drugs'].apply(lambda x: 1 if 'DX5' in x  else 0)"
   ]
  },
  {
   "cell_type": "code",
   "execution_count": 124,
   "metadata": {
    "colab": {},
    "colab_type": "code",
    "id": "5OdqSgb2cXNb"
   },
   "outputs": [],
   "source": [
    "test_new['DX4'] = test_new['Treated_with_drugs'].apply(lambda x: 1 if 'DX4' in x  else 0)"
   ]
  },
  {
   "cell_type": "code",
   "execution_count": 125,
   "metadata": {
    "colab": {},
    "colab_type": "code",
    "id": "JrxBmYaUcXNh"
   },
   "outputs": [],
   "source": [
    "test_new['DX3'] = test_new['Treated_with_drugs'].apply(lambda x: 1 if 'DX3' in x  else 0)"
   ]
  },
  {
   "cell_type": "code",
   "execution_count": 126,
   "metadata": {
    "colab": {},
    "colab_type": "code",
    "id": "XLRp74ZecXNr"
   },
   "outputs": [],
   "source": [
    "test_new['DX2'] = test_new['Treated_with_drugs'].apply(lambda x: 1 if 'DX2' in x  else 0)"
   ]
  },
  {
   "cell_type": "code",
   "execution_count": 127,
   "metadata": {
    "colab": {},
    "colab_type": "code",
    "id": "V2g1_eVVcXOh"
   },
   "outputs": [],
   "source": [
    "test_new['DX1'] = test_new['Treated_with_drugs'].apply(lambda x: 1 if 'DX1' in x  else 0)"
   ]
  },
  {
   "cell_type": "code",
   "execution_count": 128,
   "metadata": {
    "colab": {},
    "colab_type": "code",
    "id": "4I7eHK6_cXOr"
   },
   "outputs": [],
   "source": [
    "test_new.drop(['Treated_with_drugs'], axis =1, inplace = True)"
   ]
  },
  {
   "cell_type": "code",
   "execution_count": 129,
   "metadata": {
    "colab": {
     "base_uri": "https://localhost:8080/",
     "height": 136
    },
    "colab_type": "code",
    "id": "sXRi0g4qcXOv",
    "outputId": "0aae5b25-387c-4a9b-fb63-a764660eaf37"
   },
   "outputs": [
    {
     "data": {
      "text/plain": [
       "Index(['ID_Patient_Care_Situation', 'Diagnosed_Condition', 'Patient_ID',\n",
       "       'Patient_Age', 'Patient_Body_Mass_Index', 'A', 'B', 'C', 'D', 'E', 'F',\n",
       "       'Z', 'Number_of_prev_cond', 'Patient_Smoker_Cannot say',\n",
       "       'Patient_Smoker_NO', 'Patient_Smoker_YES', 'Patient_Rural_Urban_RURAL',\n",
       "       'Patient_Rural_Urban_URBAN', 'Patient_mental_condition_Stable', 'DX6',\n",
       "       'DX5', 'DX4', 'DX3', 'DX2', 'DX1'],\n",
       "      dtype='object')"
      ]
     },
     "execution_count": 129,
     "metadata": {
      "tags": []
     },
     "output_type": "execute_result"
    }
   ],
   "source": [
    "test_new.columns"
   ]
  },
  {
   "cell_type": "code",
   "execution_count": 130,
   "metadata": {
    "colab": {},
    "colab_type": "code",
    "id": "CgAj_-PDcXO3"
   },
   "outputs": [],
   "source": [
    "newtest_pred = gs.predict(test_new)"
   ]
  },
  {
   "cell_type": "code",
   "execution_count": 131,
   "metadata": {
    "colab": {
     "base_uri": "https://localhost:8080/",
     "height": 17
    },
    "colab_type": "code",
    "id": "Th1iqxc9cXPF",
    "outputId": "b79f8180-262d-40f9-8ce4-cd9051152c42"
   },
   "outputs": [
    {
     "data": {
      "application/javascript": [
       "\n",
       "    async function download(id, filename, size) {\n",
       "      if (!google.colab.kernel.accessAllowed) {\n",
       "        return;\n",
       "      }\n",
       "      const div = document.createElement('div');\n",
       "      const label = document.createElement('label');\n",
       "      label.textContent = `Downloading \"${filename}\": `;\n",
       "      div.appendChild(label);\n",
       "      const progress = document.createElement('progress');\n",
       "      progress.max = size;\n",
       "      div.appendChild(progress);\n",
       "      document.body.appendChild(div);\n",
       "\n",
       "      const buffers = [];\n",
       "      let downloaded = 0;\n",
       "\n",
       "      const channel = await google.colab.kernel.comms.open(id);\n",
       "      // Send a message to notify the kernel that we're ready.\n",
       "      channel.send({})\n",
       "\n",
       "      for await (const message of channel.messages) {\n",
       "        // Send a message to notify the kernel that we're ready.\n",
       "        channel.send({})\n",
       "        if (message.buffers) {\n",
       "          for (const buffer of message.buffers) {\n",
       "            buffers.push(buffer);\n",
       "            downloaded += buffer.byteLength;\n",
       "            progress.value = downloaded;\n",
       "          }\n",
       "        }\n",
       "      }\n",
       "      const blob = new Blob(buffers, {type: 'application/binary'});\n",
       "      const a = document.createElement('a');\n",
       "      a.href = window.URL.createObjectURL(blob);\n",
       "      a.download = filename;\n",
       "      div.appendChild(a);\n",
       "      a.click();\n",
       "      div.remove();\n",
       "    }\n",
       "  "
      ],
      "text/plain": [
       "<IPython.core.display.Javascript object>"
      ]
     },
     "metadata": {
      "tags": []
     },
     "output_type": "display_data"
    },
    {
     "data": {
      "application/javascript": [
       "download(\"download_9c899edb-8689-46ea-8231-a484dab795b9\", \"8020HyperparametermodelCustomEncodingXGBClassifier.csv\", 64028)"
      ],
      "text/plain": [
       "<IPython.core.display.Javascript object>"
      ]
     },
     "metadata": {
      "tags": []
     },
     "output_type": "display_data"
    }
   ],
   "source": [
    "# res = pd.DataFrame(newtest_pred)\n",
    "# res.index = test_new.index # its important for comparison\n",
    "# res.columns = ['Survived_1_year']\n",
    "# res.to_csv('8020HyperparametermodelCustomEncodingRandomForestClassifierLastAttempt_A.csv')      # the csv file will be saved locally on the same location where this notebook is located.\n",
    "# To create Dataframe of predicted value with particular respective index\n",
    "res = pd.DataFrame(newtest_pred)\n",
    "res.index = test_new.index # its important for comparison\n",
    "res.columns = ['Survived_1_year']\n",
    "\n",
    "# To download the csv file locally\n",
    "from google.colab import files\n",
    "res.to_csv('8020HyperparametermodelCustomEncodingXGBClassifier.csv')         \n",
    "files.download('8020HyperparametermodelCustomEncodingXGBClassifier.csv')"
   ]
  },
  {
   "cell_type": "markdown",
   "metadata": {
    "colab_type": "text",
    "id": "XKDobPNan98x"
   },
   "source": [
    "submission no.: #4198311\n",
    "submitted on: July 10, 2020 01:55\n",
    "SUBMISSION STATUS: accepted\n",
    "programming language: Python 3.x (python 3.5.3)\n",
    "memory: 28624kB\n",
    "execution time: 0.02s\n",
    "RESULT IN POINTS: **87.282215**"
   ]
  },
  {
   "cell_type": "code",
   "execution_count": 131,
   "metadata": {
    "colab": {},
    "colab_type": "code",
    "id": "z6mlN4PBn98y"
   },
   "outputs": [],
   "source": []
  }
 ],
 "metadata": {
  "colab": {
   "collapsed_sections": [],
   "name": "Survival_Prediction_8020HyperparametermodelCustomEncodingXGBClassifier.ipynb",
   "provenance": []
  },
  "kernelspec": {
   "display_name": "Python 3",
   "language": "python",
   "name": "python3"
  },
  "language_info": {
   "codemirror_mode": {
    "name": "ipython",
    "version": 3
   },
   "file_extension": ".py",
   "mimetype": "text/x-python",
   "name": "python",
   "nbconvert_exporter": "python",
   "pygments_lexer": "ipython3",
   "version": "3.7.4"
  }
 },
 "nbformat": 4,
 "nbformat_minor": 1
}
